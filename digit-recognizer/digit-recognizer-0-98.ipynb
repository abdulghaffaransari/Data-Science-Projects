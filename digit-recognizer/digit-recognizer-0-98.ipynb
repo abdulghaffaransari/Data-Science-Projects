{
 "cells": [
  {
   "cell_type": "markdown",
   "id": "dbad47ab",
   "metadata": {
    "id": "gK7UaSKgcR_0",
    "papermill": {
     "duration": 0.016447,
     "end_time": "2022-07-15T07:53:09.913334",
     "exception": false,
     "start_time": "2022-07-15T07:53:09.896887",
     "status": "completed"
    },
    "tags": []
   },
   "source": [
    "The dataset is called MNIST and refers to handwritten digit recognition. You can find more about it on Yann LeCun's website (Director of AI Research, Facebook). He is one of the pioneers of what we've been talking about and of more complex approaches that are widely used today, such as covolutional neural networks (CNNs). \n",
    "\n",
    "The dataset provides 70,000 images (28x28 pixels) of handwritten digits (1 digit per image). \n",
    "\n",
    "The goal is to write an algorithm that detects which digit is written. Since there are only 10 digits (0, 1, 2, 3, 4, 5, 6, 7, 8, 9), this is a classification problem with 10 classes. \n",
    "\n",
    "Our goal would be to build a neural network with 2 hidden layers."
   ]
  },
  {
   "cell_type": "markdown",
   "id": "235c8a55",
   "metadata": {
    "id": "T94H8egd-zH3",
    "papermill": {
     "duration": 0.014431,
     "end_time": "2022-07-15T07:53:09.943311",
     "exception": false,
     "start_time": "2022-07-15T07:53:09.928880",
     "status": "completed"
    },
    "tags": []
   },
   "source": [
    "# import Libraries"
   ]
  },
  {
   "cell_type": "code",
   "execution_count": 1,
   "id": "d6494a6c",
   "metadata": {
    "execution": {
     "iopub.execute_input": "2022-07-15T07:53:09.975115Z",
     "iopub.status.busy": "2022-07-15T07:53:09.974446Z",
     "iopub.status.idle": "2022-07-15T07:53:17.813721Z",
     "shell.execute_reply": "2022-07-15T07:53:17.812352Z"
    },
    "id": "qgfc4kOo-hid",
    "papermill": {
     "duration": 7.8593,
     "end_time": "2022-07-15T07:53:17.817349",
     "exception": false,
     "start_time": "2022-07-15T07:53:09.958049",
     "status": "completed"
    },
    "tags": []
   },
   "outputs": [],
   "source": [
    "import pandas as pd\n",
    "import numpy as np\n",
    "import matplotlib.pyplot as plt\n",
    "import matplotlib.image as mpimg\n",
    "import seaborn as sns\n",
    "%matplotlib inline\n",
    "import tensorflow as tf\n",
    "from keras.preprocessing.image import ImageDataGenerator\n",
    "\n",
    "\n",
    "import warnings\n",
    "warnings.filterwarnings(\"ignore\")"
   ]
  },
  {
   "cell_type": "markdown",
   "id": "f0fa7865",
   "metadata": {
    "id": "C_GJbiiA_Al4",
    "papermill": {
     "duration": 0.014623,
     "end_time": "2022-07-15T07:53:17.846408",
     "exception": false,
     "start_time": "2022-07-15T07:53:17.831785",
     "status": "completed"
    },
    "tags": []
   },
   "source": [
    "# Data Preparation"
   ]
  },
  {
   "cell_type": "code",
   "execution_count": 2,
   "id": "bd7758f5",
   "metadata": {
    "execution": {
     "iopub.execute_input": "2022-07-15T07:53:17.878102Z",
     "iopub.status.busy": "2022-07-15T07:53:17.877441Z",
     "iopub.status.idle": "2022-07-15T07:53:24.203203Z",
     "shell.execute_reply": "2022-07-15T07:53:24.202013Z"
    },
    "id": "Mrw9MfD3-42G",
    "papermill": {
     "duration": 6.344864,
     "end_time": "2022-07-15T07:53:24.206252",
     "exception": false,
     "start_time": "2022-07-15T07:53:17.861388",
     "status": "completed"
    },
    "tags": []
   },
   "outputs": [],
   "source": [
    "# Download dataset from given link and run on Google colab\n",
    "# https://drive.google.com/drive/folders/1INmh3bK4keuZNnfTHsSi39mnQ6VOUInE?usp=sharing\n",
    "\n",
    "train=pd.read_csv('train.csv')\n",
    "test=pd.read_csv('test.csv')"
   ]
  },
  {
   "cell_type": "code",
   "execution_count": 3,
   "id": "0a238a7a",
   "metadata": {
    "execution": {
     "iopub.execute_input": "2022-07-15T07:53:24.236910Z",
     "iopub.status.busy": "2022-07-15T07:53:24.236608Z",
     "iopub.status.idle": "2022-07-15T07:53:24.273039Z",
     "shell.execute_reply": "2022-07-15T07:53:24.271745Z"
    },
    "id": "eCm3T5VI_X5h",
    "outputId": "a166fded-b5df-4c8b-da7a-4f0442fe8af1",
    "papermill": {
     "duration": 0.05439,
     "end_time": "2022-07-15T07:53:24.275698",
     "exception": false,
     "start_time": "2022-07-15T07:53:24.221308",
     "status": "completed"
    },
    "tags": []
   },
   "outputs": [
    {
     "data": {
      "text/html": [
       "<div>\n",
       "<style scoped>\n",
       "    .dataframe tbody tr th:only-of-type {\n",
       "        vertical-align: middle;\n",
       "    }\n",
       "\n",
       "    .dataframe tbody tr th {\n",
       "        vertical-align: top;\n",
       "    }\n",
       "\n",
       "    .dataframe thead th {\n",
       "        text-align: right;\n",
       "    }\n",
       "</style>\n",
       "<table border=\"1\" class=\"dataframe\">\n",
       "  <thead>\n",
       "    <tr style=\"text-align: right;\">\n",
       "      <th></th>\n",
       "      <th>label</th>\n",
       "      <th>pixel0</th>\n",
       "      <th>pixel1</th>\n",
       "      <th>pixel2</th>\n",
       "      <th>pixel3</th>\n",
       "      <th>pixel4</th>\n",
       "      <th>pixel5</th>\n",
       "      <th>pixel6</th>\n",
       "      <th>pixel7</th>\n",
       "      <th>pixel8</th>\n",
       "      <th>...</th>\n",
       "      <th>pixel774</th>\n",
       "      <th>pixel775</th>\n",
       "      <th>pixel776</th>\n",
       "      <th>pixel777</th>\n",
       "      <th>pixel778</th>\n",
       "      <th>pixel779</th>\n",
       "      <th>pixel780</th>\n",
       "      <th>pixel781</th>\n",
       "      <th>pixel782</th>\n",
       "      <th>pixel783</th>\n",
       "    </tr>\n",
       "  </thead>\n",
       "  <tbody>\n",
       "    <tr>\n",
       "      <th>0</th>\n",
       "      <td>1</td>\n",
       "      <td>0</td>\n",
       "      <td>0</td>\n",
       "      <td>0</td>\n",
       "      <td>0</td>\n",
       "      <td>0</td>\n",
       "      <td>0</td>\n",
       "      <td>0</td>\n",
       "      <td>0</td>\n",
       "      <td>0</td>\n",
       "      <td>...</td>\n",
       "      <td>0</td>\n",
       "      <td>0</td>\n",
       "      <td>0</td>\n",
       "      <td>0</td>\n",
       "      <td>0</td>\n",
       "      <td>0</td>\n",
       "      <td>0</td>\n",
       "      <td>0</td>\n",
       "      <td>0</td>\n",
       "      <td>0</td>\n",
       "    </tr>\n",
       "    <tr>\n",
       "      <th>1</th>\n",
       "      <td>0</td>\n",
       "      <td>0</td>\n",
       "      <td>0</td>\n",
       "      <td>0</td>\n",
       "      <td>0</td>\n",
       "      <td>0</td>\n",
       "      <td>0</td>\n",
       "      <td>0</td>\n",
       "      <td>0</td>\n",
       "      <td>0</td>\n",
       "      <td>...</td>\n",
       "      <td>0</td>\n",
       "      <td>0</td>\n",
       "      <td>0</td>\n",
       "      <td>0</td>\n",
       "      <td>0</td>\n",
       "      <td>0</td>\n",
       "      <td>0</td>\n",
       "      <td>0</td>\n",
       "      <td>0</td>\n",
       "      <td>0</td>\n",
       "    </tr>\n",
       "    <tr>\n",
       "      <th>2</th>\n",
       "      <td>1</td>\n",
       "      <td>0</td>\n",
       "      <td>0</td>\n",
       "      <td>0</td>\n",
       "      <td>0</td>\n",
       "      <td>0</td>\n",
       "      <td>0</td>\n",
       "      <td>0</td>\n",
       "      <td>0</td>\n",
       "      <td>0</td>\n",
       "      <td>...</td>\n",
       "      <td>0</td>\n",
       "      <td>0</td>\n",
       "      <td>0</td>\n",
       "      <td>0</td>\n",
       "      <td>0</td>\n",
       "      <td>0</td>\n",
       "      <td>0</td>\n",
       "      <td>0</td>\n",
       "      <td>0</td>\n",
       "      <td>0</td>\n",
       "    </tr>\n",
       "    <tr>\n",
       "      <th>3</th>\n",
       "      <td>4</td>\n",
       "      <td>0</td>\n",
       "      <td>0</td>\n",
       "      <td>0</td>\n",
       "      <td>0</td>\n",
       "      <td>0</td>\n",
       "      <td>0</td>\n",
       "      <td>0</td>\n",
       "      <td>0</td>\n",
       "      <td>0</td>\n",
       "      <td>...</td>\n",
       "      <td>0</td>\n",
       "      <td>0</td>\n",
       "      <td>0</td>\n",
       "      <td>0</td>\n",
       "      <td>0</td>\n",
       "      <td>0</td>\n",
       "      <td>0</td>\n",
       "      <td>0</td>\n",
       "      <td>0</td>\n",
       "      <td>0</td>\n",
       "    </tr>\n",
       "    <tr>\n",
       "      <th>4</th>\n",
       "      <td>0</td>\n",
       "      <td>0</td>\n",
       "      <td>0</td>\n",
       "      <td>0</td>\n",
       "      <td>0</td>\n",
       "      <td>0</td>\n",
       "      <td>0</td>\n",
       "      <td>0</td>\n",
       "      <td>0</td>\n",
       "      <td>0</td>\n",
       "      <td>...</td>\n",
       "      <td>0</td>\n",
       "      <td>0</td>\n",
       "      <td>0</td>\n",
       "      <td>0</td>\n",
       "      <td>0</td>\n",
       "      <td>0</td>\n",
       "      <td>0</td>\n",
       "      <td>0</td>\n",
       "      <td>0</td>\n",
       "      <td>0</td>\n",
       "    </tr>\n",
       "    <tr>\n",
       "      <th>...</th>\n",
       "      <td>...</td>\n",
       "      <td>...</td>\n",
       "      <td>...</td>\n",
       "      <td>...</td>\n",
       "      <td>...</td>\n",
       "      <td>...</td>\n",
       "      <td>...</td>\n",
       "      <td>...</td>\n",
       "      <td>...</td>\n",
       "      <td>...</td>\n",
       "      <td>...</td>\n",
       "      <td>...</td>\n",
       "      <td>...</td>\n",
       "      <td>...</td>\n",
       "      <td>...</td>\n",
       "      <td>...</td>\n",
       "      <td>...</td>\n",
       "      <td>...</td>\n",
       "      <td>...</td>\n",
       "      <td>...</td>\n",
       "      <td>...</td>\n",
       "    </tr>\n",
       "    <tr>\n",
       "      <th>41995</th>\n",
       "      <td>0</td>\n",
       "      <td>0</td>\n",
       "      <td>0</td>\n",
       "      <td>0</td>\n",
       "      <td>0</td>\n",
       "      <td>0</td>\n",
       "      <td>0</td>\n",
       "      <td>0</td>\n",
       "      <td>0</td>\n",
       "      <td>0</td>\n",
       "      <td>...</td>\n",
       "      <td>0</td>\n",
       "      <td>0</td>\n",
       "      <td>0</td>\n",
       "      <td>0</td>\n",
       "      <td>0</td>\n",
       "      <td>0</td>\n",
       "      <td>0</td>\n",
       "      <td>0</td>\n",
       "      <td>0</td>\n",
       "      <td>0</td>\n",
       "    </tr>\n",
       "    <tr>\n",
       "      <th>41996</th>\n",
       "      <td>1</td>\n",
       "      <td>0</td>\n",
       "      <td>0</td>\n",
       "      <td>0</td>\n",
       "      <td>0</td>\n",
       "      <td>0</td>\n",
       "      <td>0</td>\n",
       "      <td>0</td>\n",
       "      <td>0</td>\n",
       "      <td>0</td>\n",
       "      <td>...</td>\n",
       "      <td>0</td>\n",
       "      <td>0</td>\n",
       "      <td>0</td>\n",
       "      <td>0</td>\n",
       "      <td>0</td>\n",
       "      <td>0</td>\n",
       "      <td>0</td>\n",
       "      <td>0</td>\n",
       "      <td>0</td>\n",
       "      <td>0</td>\n",
       "    </tr>\n",
       "    <tr>\n",
       "      <th>41997</th>\n",
       "      <td>7</td>\n",
       "      <td>0</td>\n",
       "      <td>0</td>\n",
       "      <td>0</td>\n",
       "      <td>0</td>\n",
       "      <td>0</td>\n",
       "      <td>0</td>\n",
       "      <td>0</td>\n",
       "      <td>0</td>\n",
       "      <td>0</td>\n",
       "      <td>...</td>\n",
       "      <td>0</td>\n",
       "      <td>0</td>\n",
       "      <td>0</td>\n",
       "      <td>0</td>\n",
       "      <td>0</td>\n",
       "      <td>0</td>\n",
       "      <td>0</td>\n",
       "      <td>0</td>\n",
       "      <td>0</td>\n",
       "      <td>0</td>\n",
       "    </tr>\n",
       "    <tr>\n",
       "      <th>41998</th>\n",
       "      <td>6</td>\n",
       "      <td>0</td>\n",
       "      <td>0</td>\n",
       "      <td>0</td>\n",
       "      <td>0</td>\n",
       "      <td>0</td>\n",
       "      <td>0</td>\n",
       "      <td>0</td>\n",
       "      <td>0</td>\n",
       "      <td>0</td>\n",
       "      <td>...</td>\n",
       "      <td>0</td>\n",
       "      <td>0</td>\n",
       "      <td>0</td>\n",
       "      <td>0</td>\n",
       "      <td>0</td>\n",
       "      <td>0</td>\n",
       "      <td>0</td>\n",
       "      <td>0</td>\n",
       "      <td>0</td>\n",
       "      <td>0</td>\n",
       "    </tr>\n",
       "    <tr>\n",
       "      <th>41999</th>\n",
       "      <td>9</td>\n",
       "      <td>0</td>\n",
       "      <td>0</td>\n",
       "      <td>0</td>\n",
       "      <td>0</td>\n",
       "      <td>0</td>\n",
       "      <td>0</td>\n",
       "      <td>0</td>\n",
       "      <td>0</td>\n",
       "      <td>0</td>\n",
       "      <td>...</td>\n",
       "      <td>0</td>\n",
       "      <td>0</td>\n",
       "      <td>0</td>\n",
       "      <td>0</td>\n",
       "      <td>0</td>\n",
       "      <td>0</td>\n",
       "      <td>0</td>\n",
       "      <td>0</td>\n",
       "      <td>0</td>\n",
       "      <td>0</td>\n",
       "    </tr>\n",
       "  </tbody>\n",
       "</table>\n",
       "<p>42000 rows × 785 columns</p>\n",
       "</div>"
      ],
      "text/plain": [
       "       label  pixel0  pixel1  pixel2  pixel3  pixel4  pixel5  pixel6  pixel7  \\\n",
       "0          1       0       0       0       0       0       0       0       0   \n",
       "1          0       0       0       0       0       0       0       0       0   \n",
       "2          1       0       0       0       0       0       0       0       0   \n",
       "3          4       0       0       0       0       0       0       0       0   \n",
       "4          0       0       0       0       0       0       0       0       0   \n",
       "...      ...     ...     ...     ...     ...     ...     ...     ...     ...   \n",
       "41995      0       0       0       0       0       0       0       0       0   \n",
       "41996      1       0       0       0       0       0       0       0       0   \n",
       "41997      7       0       0       0       0       0       0       0       0   \n",
       "41998      6       0       0       0       0       0       0       0       0   \n",
       "41999      9       0       0       0       0       0       0       0       0   \n",
       "\n",
       "       pixel8  ...  pixel774  pixel775  pixel776  pixel777  pixel778  \\\n",
       "0           0  ...         0         0         0         0         0   \n",
       "1           0  ...         0         0         0         0         0   \n",
       "2           0  ...         0         0         0         0         0   \n",
       "3           0  ...         0         0         0         0         0   \n",
       "4           0  ...         0         0         0         0         0   \n",
       "...       ...  ...       ...       ...       ...       ...       ...   \n",
       "41995       0  ...         0         0         0         0         0   \n",
       "41996       0  ...         0         0         0         0         0   \n",
       "41997       0  ...         0         0         0         0         0   \n",
       "41998       0  ...         0         0         0         0         0   \n",
       "41999       0  ...         0         0         0         0         0   \n",
       "\n",
       "       pixel779  pixel780  pixel781  pixel782  pixel783  \n",
       "0             0         0         0         0         0  \n",
       "1             0         0         0         0         0  \n",
       "2             0         0         0         0         0  \n",
       "3             0         0         0         0         0  \n",
       "4             0         0         0         0         0  \n",
       "...         ...       ...       ...       ...       ...  \n",
       "41995         0         0         0         0         0  \n",
       "41996         0         0         0         0         0  \n",
       "41997         0         0         0         0         0  \n",
       "41998         0         0         0         0         0  \n",
       "41999         0         0         0         0         0  \n",
       "\n",
       "[42000 rows x 785 columns]"
      ]
     },
     "execution_count": 3,
     "metadata": {},
     "output_type": "execute_result"
    }
   ],
   "source": [
    "train"
   ]
  },
  {
   "cell_type": "code",
   "execution_count": 4,
   "id": "7d7d05aa",
   "metadata": {
    "execution": {
     "iopub.execute_input": "2022-07-15T07:53:24.306447Z",
     "iopub.status.busy": "2022-07-15T07:53:24.305775Z",
     "iopub.status.idle": "2022-07-15T07:53:24.329910Z",
     "shell.execute_reply": "2022-07-15T07:53:24.328452Z"
    },
    "id": "RwMqjD00_j5F",
    "outputId": "0384e63e-aedd-41fc-c73b-561e3acd5278",
    "papermill": {
     "duration": 0.042684,
     "end_time": "2022-07-15T07:53:24.333168",
     "exception": false,
     "start_time": "2022-07-15T07:53:24.290484",
     "status": "completed"
    },
    "tags": []
   },
   "outputs": [
    {
     "data": {
      "text/html": [
       "<div>\n",
       "<style scoped>\n",
       "    .dataframe tbody tr th:only-of-type {\n",
       "        vertical-align: middle;\n",
       "    }\n",
       "\n",
       "    .dataframe tbody tr th {\n",
       "        vertical-align: top;\n",
       "    }\n",
       "\n",
       "    .dataframe thead th {\n",
       "        text-align: right;\n",
       "    }\n",
       "</style>\n",
       "<table border=\"1\" class=\"dataframe\">\n",
       "  <thead>\n",
       "    <tr style=\"text-align: right;\">\n",
       "      <th></th>\n",
       "      <th>pixel0</th>\n",
       "      <th>pixel1</th>\n",
       "      <th>pixel2</th>\n",
       "      <th>pixel3</th>\n",
       "      <th>pixel4</th>\n",
       "      <th>pixel5</th>\n",
       "      <th>pixel6</th>\n",
       "      <th>pixel7</th>\n",
       "      <th>pixel8</th>\n",
       "      <th>pixel9</th>\n",
       "      <th>...</th>\n",
       "      <th>pixel774</th>\n",
       "      <th>pixel775</th>\n",
       "      <th>pixel776</th>\n",
       "      <th>pixel777</th>\n",
       "      <th>pixel778</th>\n",
       "      <th>pixel779</th>\n",
       "      <th>pixel780</th>\n",
       "      <th>pixel781</th>\n",
       "      <th>pixel782</th>\n",
       "      <th>pixel783</th>\n",
       "    </tr>\n",
       "  </thead>\n",
       "  <tbody>\n",
       "    <tr>\n",
       "      <th>0</th>\n",
       "      <td>0</td>\n",
       "      <td>0</td>\n",
       "      <td>0</td>\n",
       "      <td>0</td>\n",
       "      <td>0</td>\n",
       "      <td>0</td>\n",
       "      <td>0</td>\n",
       "      <td>0</td>\n",
       "      <td>0</td>\n",
       "      <td>0</td>\n",
       "      <td>...</td>\n",
       "      <td>0</td>\n",
       "      <td>0</td>\n",
       "      <td>0</td>\n",
       "      <td>0</td>\n",
       "      <td>0</td>\n",
       "      <td>0</td>\n",
       "      <td>0</td>\n",
       "      <td>0</td>\n",
       "      <td>0</td>\n",
       "      <td>0</td>\n",
       "    </tr>\n",
       "    <tr>\n",
       "      <th>1</th>\n",
       "      <td>0</td>\n",
       "      <td>0</td>\n",
       "      <td>0</td>\n",
       "      <td>0</td>\n",
       "      <td>0</td>\n",
       "      <td>0</td>\n",
       "      <td>0</td>\n",
       "      <td>0</td>\n",
       "      <td>0</td>\n",
       "      <td>0</td>\n",
       "      <td>...</td>\n",
       "      <td>0</td>\n",
       "      <td>0</td>\n",
       "      <td>0</td>\n",
       "      <td>0</td>\n",
       "      <td>0</td>\n",
       "      <td>0</td>\n",
       "      <td>0</td>\n",
       "      <td>0</td>\n",
       "      <td>0</td>\n",
       "      <td>0</td>\n",
       "    </tr>\n",
       "    <tr>\n",
       "      <th>2</th>\n",
       "      <td>0</td>\n",
       "      <td>0</td>\n",
       "      <td>0</td>\n",
       "      <td>0</td>\n",
       "      <td>0</td>\n",
       "      <td>0</td>\n",
       "      <td>0</td>\n",
       "      <td>0</td>\n",
       "      <td>0</td>\n",
       "      <td>0</td>\n",
       "      <td>...</td>\n",
       "      <td>0</td>\n",
       "      <td>0</td>\n",
       "      <td>0</td>\n",
       "      <td>0</td>\n",
       "      <td>0</td>\n",
       "      <td>0</td>\n",
       "      <td>0</td>\n",
       "      <td>0</td>\n",
       "      <td>0</td>\n",
       "      <td>0</td>\n",
       "    </tr>\n",
       "    <tr>\n",
       "      <th>3</th>\n",
       "      <td>0</td>\n",
       "      <td>0</td>\n",
       "      <td>0</td>\n",
       "      <td>0</td>\n",
       "      <td>0</td>\n",
       "      <td>0</td>\n",
       "      <td>0</td>\n",
       "      <td>0</td>\n",
       "      <td>0</td>\n",
       "      <td>0</td>\n",
       "      <td>...</td>\n",
       "      <td>0</td>\n",
       "      <td>0</td>\n",
       "      <td>0</td>\n",
       "      <td>0</td>\n",
       "      <td>0</td>\n",
       "      <td>0</td>\n",
       "      <td>0</td>\n",
       "      <td>0</td>\n",
       "      <td>0</td>\n",
       "      <td>0</td>\n",
       "    </tr>\n",
       "    <tr>\n",
       "      <th>4</th>\n",
       "      <td>0</td>\n",
       "      <td>0</td>\n",
       "      <td>0</td>\n",
       "      <td>0</td>\n",
       "      <td>0</td>\n",
       "      <td>0</td>\n",
       "      <td>0</td>\n",
       "      <td>0</td>\n",
       "      <td>0</td>\n",
       "      <td>0</td>\n",
       "      <td>...</td>\n",
       "      <td>0</td>\n",
       "      <td>0</td>\n",
       "      <td>0</td>\n",
       "      <td>0</td>\n",
       "      <td>0</td>\n",
       "      <td>0</td>\n",
       "      <td>0</td>\n",
       "      <td>0</td>\n",
       "      <td>0</td>\n",
       "      <td>0</td>\n",
       "    </tr>\n",
       "    <tr>\n",
       "      <th>...</th>\n",
       "      <td>...</td>\n",
       "      <td>...</td>\n",
       "      <td>...</td>\n",
       "      <td>...</td>\n",
       "      <td>...</td>\n",
       "      <td>...</td>\n",
       "      <td>...</td>\n",
       "      <td>...</td>\n",
       "      <td>...</td>\n",
       "      <td>...</td>\n",
       "      <td>...</td>\n",
       "      <td>...</td>\n",
       "      <td>...</td>\n",
       "      <td>...</td>\n",
       "      <td>...</td>\n",
       "      <td>...</td>\n",
       "      <td>...</td>\n",
       "      <td>...</td>\n",
       "      <td>...</td>\n",
       "      <td>...</td>\n",
       "      <td>...</td>\n",
       "    </tr>\n",
       "    <tr>\n",
       "      <th>27995</th>\n",
       "      <td>0</td>\n",
       "      <td>0</td>\n",
       "      <td>0</td>\n",
       "      <td>0</td>\n",
       "      <td>0</td>\n",
       "      <td>0</td>\n",
       "      <td>0</td>\n",
       "      <td>0</td>\n",
       "      <td>0</td>\n",
       "      <td>0</td>\n",
       "      <td>...</td>\n",
       "      <td>0</td>\n",
       "      <td>0</td>\n",
       "      <td>0</td>\n",
       "      <td>0</td>\n",
       "      <td>0</td>\n",
       "      <td>0</td>\n",
       "      <td>0</td>\n",
       "      <td>0</td>\n",
       "      <td>0</td>\n",
       "      <td>0</td>\n",
       "    </tr>\n",
       "    <tr>\n",
       "      <th>27996</th>\n",
       "      <td>0</td>\n",
       "      <td>0</td>\n",
       "      <td>0</td>\n",
       "      <td>0</td>\n",
       "      <td>0</td>\n",
       "      <td>0</td>\n",
       "      <td>0</td>\n",
       "      <td>0</td>\n",
       "      <td>0</td>\n",
       "      <td>0</td>\n",
       "      <td>...</td>\n",
       "      <td>0</td>\n",
       "      <td>0</td>\n",
       "      <td>0</td>\n",
       "      <td>0</td>\n",
       "      <td>0</td>\n",
       "      <td>0</td>\n",
       "      <td>0</td>\n",
       "      <td>0</td>\n",
       "      <td>0</td>\n",
       "      <td>0</td>\n",
       "    </tr>\n",
       "    <tr>\n",
       "      <th>27997</th>\n",
       "      <td>0</td>\n",
       "      <td>0</td>\n",
       "      <td>0</td>\n",
       "      <td>0</td>\n",
       "      <td>0</td>\n",
       "      <td>0</td>\n",
       "      <td>0</td>\n",
       "      <td>0</td>\n",
       "      <td>0</td>\n",
       "      <td>0</td>\n",
       "      <td>...</td>\n",
       "      <td>0</td>\n",
       "      <td>0</td>\n",
       "      <td>0</td>\n",
       "      <td>0</td>\n",
       "      <td>0</td>\n",
       "      <td>0</td>\n",
       "      <td>0</td>\n",
       "      <td>0</td>\n",
       "      <td>0</td>\n",
       "      <td>0</td>\n",
       "    </tr>\n",
       "    <tr>\n",
       "      <th>27998</th>\n",
       "      <td>0</td>\n",
       "      <td>0</td>\n",
       "      <td>0</td>\n",
       "      <td>0</td>\n",
       "      <td>0</td>\n",
       "      <td>0</td>\n",
       "      <td>0</td>\n",
       "      <td>0</td>\n",
       "      <td>0</td>\n",
       "      <td>0</td>\n",
       "      <td>...</td>\n",
       "      <td>0</td>\n",
       "      <td>0</td>\n",
       "      <td>0</td>\n",
       "      <td>0</td>\n",
       "      <td>0</td>\n",
       "      <td>0</td>\n",
       "      <td>0</td>\n",
       "      <td>0</td>\n",
       "      <td>0</td>\n",
       "      <td>0</td>\n",
       "    </tr>\n",
       "    <tr>\n",
       "      <th>27999</th>\n",
       "      <td>0</td>\n",
       "      <td>0</td>\n",
       "      <td>0</td>\n",
       "      <td>0</td>\n",
       "      <td>0</td>\n",
       "      <td>0</td>\n",
       "      <td>0</td>\n",
       "      <td>0</td>\n",
       "      <td>0</td>\n",
       "      <td>0</td>\n",
       "      <td>...</td>\n",
       "      <td>0</td>\n",
       "      <td>0</td>\n",
       "      <td>0</td>\n",
       "      <td>0</td>\n",
       "      <td>0</td>\n",
       "      <td>0</td>\n",
       "      <td>0</td>\n",
       "      <td>0</td>\n",
       "      <td>0</td>\n",
       "      <td>0</td>\n",
       "    </tr>\n",
       "  </tbody>\n",
       "</table>\n",
       "<p>28000 rows × 784 columns</p>\n",
       "</div>"
      ],
      "text/plain": [
       "       pixel0  pixel1  pixel2  pixel3  pixel4  pixel5  pixel6  pixel7  pixel8  \\\n",
       "0           0       0       0       0       0       0       0       0       0   \n",
       "1           0       0       0       0       0       0       0       0       0   \n",
       "2           0       0       0       0       0       0       0       0       0   \n",
       "3           0       0       0       0       0       0       0       0       0   \n",
       "4           0       0       0       0       0       0       0       0       0   \n",
       "...       ...     ...     ...     ...     ...     ...     ...     ...     ...   \n",
       "27995       0       0       0       0       0       0       0       0       0   \n",
       "27996       0       0       0       0       0       0       0       0       0   \n",
       "27997       0       0       0       0       0       0       0       0       0   \n",
       "27998       0       0       0       0       0       0       0       0       0   \n",
       "27999       0       0       0       0       0       0       0       0       0   \n",
       "\n",
       "       pixel9  ...  pixel774  pixel775  pixel776  pixel777  pixel778  \\\n",
       "0           0  ...         0         0         0         0         0   \n",
       "1           0  ...         0         0         0         0         0   \n",
       "2           0  ...         0         0         0         0         0   \n",
       "3           0  ...         0         0         0         0         0   \n",
       "4           0  ...         0         0         0         0         0   \n",
       "...       ...  ...       ...       ...       ...       ...       ...   \n",
       "27995       0  ...         0         0         0         0         0   \n",
       "27996       0  ...         0         0         0         0         0   \n",
       "27997       0  ...         0         0         0         0         0   \n",
       "27998       0  ...         0         0         0         0         0   \n",
       "27999       0  ...         0         0         0         0         0   \n",
       "\n",
       "       pixel779  pixel780  pixel781  pixel782  pixel783  \n",
       "0             0         0         0         0         0  \n",
       "1             0         0         0         0         0  \n",
       "2             0         0         0         0         0  \n",
       "3             0         0         0         0         0  \n",
       "4             0         0         0         0         0  \n",
       "...         ...       ...       ...       ...       ...  \n",
       "27995         0         0         0         0         0  \n",
       "27996         0         0         0         0         0  \n",
       "27997         0         0         0         0         0  \n",
       "27998         0         0         0         0         0  \n",
       "27999         0         0         0         0         0  \n",
       "\n",
       "[28000 rows x 784 columns]"
      ]
     },
     "execution_count": 4,
     "metadata": {},
     "output_type": "execute_result"
    }
   ],
   "source": [
    "test"
   ]
  },
  {
   "cell_type": "code",
   "execution_count": 5,
   "id": "a7acc14e",
   "metadata": {
    "execution": {
     "iopub.execute_input": "2022-07-15T07:53:24.365745Z",
     "iopub.status.busy": "2022-07-15T07:53:24.365446Z",
     "iopub.status.idle": "2022-07-15T07:53:24.391849Z",
     "shell.execute_reply": "2022-07-15T07:53:24.390676Z"
    },
    "id": "-UXWQmmNAbQG",
    "outputId": "a7d2eaaa-f9c4-44d8-d3e4-a237b3932c70",
    "papermill": {
     "duration": 0.046059,
     "end_time": "2022-07-15T07:53:24.394629",
     "exception": false,
     "start_time": "2022-07-15T07:53:24.348570",
     "status": "completed"
    },
    "tags": []
   },
   "outputs": [
    {
     "data": {
      "text/html": [
       "<div>\n",
       "<style scoped>\n",
       "    .dataframe tbody tr th:only-of-type {\n",
       "        vertical-align: middle;\n",
       "    }\n",
       "\n",
       "    .dataframe tbody tr th {\n",
       "        vertical-align: top;\n",
       "    }\n",
       "\n",
       "    .dataframe thead th {\n",
       "        text-align: right;\n",
       "    }\n",
       "</style>\n",
       "<table border=\"1\" class=\"dataframe\">\n",
       "  <thead>\n",
       "    <tr style=\"text-align: right;\">\n",
       "      <th></th>\n",
       "      <th>pixel0</th>\n",
       "      <th>pixel1</th>\n",
       "      <th>pixel2</th>\n",
       "      <th>pixel3</th>\n",
       "      <th>pixel4</th>\n",
       "      <th>pixel5</th>\n",
       "      <th>pixel6</th>\n",
       "      <th>pixel7</th>\n",
       "      <th>pixel8</th>\n",
       "      <th>pixel9</th>\n",
       "      <th>...</th>\n",
       "      <th>pixel774</th>\n",
       "      <th>pixel775</th>\n",
       "      <th>pixel776</th>\n",
       "      <th>pixel777</th>\n",
       "      <th>pixel778</th>\n",
       "      <th>pixel779</th>\n",
       "      <th>pixel780</th>\n",
       "      <th>pixel781</th>\n",
       "      <th>pixel782</th>\n",
       "      <th>pixel783</th>\n",
       "    </tr>\n",
       "  </thead>\n",
       "  <tbody>\n",
       "    <tr>\n",
       "      <th>0</th>\n",
       "      <td>0</td>\n",
       "      <td>0</td>\n",
       "      <td>0</td>\n",
       "      <td>0</td>\n",
       "      <td>0</td>\n",
       "      <td>0</td>\n",
       "      <td>0</td>\n",
       "      <td>0</td>\n",
       "      <td>0</td>\n",
       "      <td>0</td>\n",
       "      <td>...</td>\n",
       "      <td>0</td>\n",
       "      <td>0</td>\n",
       "      <td>0</td>\n",
       "      <td>0</td>\n",
       "      <td>0</td>\n",
       "      <td>0</td>\n",
       "      <td>0</td>\n",
       "      <td>0</td>\n",
       "      <td>0</td>\n",
       "      <td>0</td>\n",
       "    </tr>\n",
       "    <tr>\n",
       "      <th>1</th>\n",
       "      <td>0</td>\n",
       "      <td>0</td>\n",
       "      <td>0</td>\n",
       "      <td>0</td>\n",
       "      <td>0</td>\n",
       "      <td>0</td>\n",
       "      <td>0</td>\n",
       "      <td>0</td>\n",
       "      <td>0</td>\n",
       "      <td>0</td>\n",
       "      <td>...</td>\n",
       "      <td>0</td>\n",
       "      <td>0</td>\n",
       "      <td>0</td>\n",
       "      <td>0</td>\n",
       "      <td>0</td>\n",
       "      <td>0</td>\n",
       "      <td>0</td>\n",
       "      <td>0</td>\n",
       "      <td>0</td>\n",
       "      <td>0</td>\n",
       "    </tr>\n",
       "    <tr>\n",
       "      <th>2</th>\n",
       "      <td>0</td>\n",
       "      <td>0</td>\n",
       "      <td>0</td>\n",
       "      <td>0</td>\n",
       "      <td>0</td>\n",
       "      <td>0</td>\n",
       "      <td>0</td>\n",
       "      <td>0</td>\n",
       "      <td>0</td>\n",
       "      <td>0</td>\n",
       "      <td>...</td>\n",
       "      <td>0</td>\n",
       "      <td>0</td>\n",
       "      <td>0</td>\n",
       "      <td>0</td>\n",
       "      <td>0</td>\n",
       "      <td>0</td>\n",
       "      <td>0</td>\n",
       "      <td>0</td>\n",
       "      <td>0</td>\n",
       "      <td>0</td>\n",
       "    </tr>\n",
       "    <tr>\n",
       "      <th>3</th>\n",
       "      <td>0</td>\n",
       "      <td>0</td>\n",
       "      <td>0</td>\n",
       "      <td>0</td>\n",
       "      <td>0</td>\n",
       "      <td>0</td>\n",
       "      <td>0</td>\n",
       "      <td>0</td>\n",
       "      <td>0</td>\n",
       "      <td>0</td>\n",
       "      <td>...</td>\n",
       "      <td>0</td>\n",
       "      <td>0</td>\n",
       "      <td>0</td>\n",
       "      <td>0</td>\n",
       "      <td>0</td>\n",
       "      <td>0</td>\n",
       "      <td>0</td>\n",
       "      <td>0</td>\n",
       "      <td>0</td>\n",
       "      <td>0</td>\n",
       "    </tr>\n",
       "    <tr>\n",
       "      <th>4</th>\n",
       "      <td>0</td>\n",
       "      <td>0</td>\n",
       "      <td>0</td>\n",
       "      <td>0</td>\n",
       "      <td>0</td>\n",
       "      <td>0</td>\n",
       "      <td>0</td>\n",
       "      <td>0</td>\n",
       "      <td>0</td>\n",
       "      <td>0</td>\n",
       "      <td>...</td>\n",
       "      <td>0</td>\n",
       "      <td>0</td>\n",
       "      <td>0</td>\n",
       "      <td>0</td>\n",
       "      <td>0</td>\n",
       "      <td>0</td>\n",
       "      <td>0</td>\n",
       "      <td>0</td>\n",
       "      <td>0</td>\n",
       "      <td>0</td>\n",
       "    </tr>\n",
       "    <tr>\n",
       "      <th>...</th>\n",
       "      <td>...</td>\n",
       "      <td>...</td>\n",
       "      <td>...</td>\n",
       "      <td>...</td>\n",
       "      <td>...</td>\n",
       "      <td>...</td>\n",
       "      <td>...</td>\n",
       "      <td>...</td>\n",
       "      <td>...</td>\n",
       "      <td>...</td>\n",
       "      <td>...</td>\n",
       "      <td>...</td>\n",
       "      <td>...</td>\n",
       "      <td>...</td>\n",
       "      <td>...</td>\n",
       "      <td>...</td>\n",
       "      <td>...</td>\n",
       "      <td>...</td>\n",
       "      <td>...</td>\n",
       "      <td>...</td>\n",
       "      <td>...</td>\n",
       "    </tr>\n",
       "    <tr>\n",
       "      <th>41995</th>\n",
       "      <td>0</td>\n",
       "      <td>0</td>\n",
       "      <td>0</td>\n",
       "      <td>0</td>\n",
       "      <td>0</td>\n",
       "      <td>0</td>\n",
       "      <td>0</td>\n",
       "      <td>0</td>\n",
       "      <td>0</td>\n",
       "      <td>0</td>\n",
       "      <td>...</td>\n",
       "      <td>0</td>\n",
       "      <td>0</td>\n",
       "      <td>0</td>\n",
       "      <td>0</td>\n",
       "      <td>0</td>\n",
       "      <td>0</td>\n",
       "      <td>0</td>\n",
       "      <td>0</td>\n",
       "      <td>0</td>\n",
       "      <td>0</td>\n",
       "    </tr>\n",
       "    <tr>\n",
       "      <th>41996</th>\n",
       "      <td>0</td>\n",
       "      <td>0</td>\n",
       "      <td>0</td>\n",
       "      <td>0</td>\n",
       "      <td>0</td>\n",
       "      <td>0</td>\n",
       "      <td>0</td>\n",
       "      <td>0</td>\n",
       "      <td>0</td>\n",
       "      <td>0</td>\n",
       "      <td>...</td>\n",
       "      <td>0</td>\n",
       "      <td>0</td>\n",
       "      <td>0</td>\n",
       "      <td>0</td>\n",
       "      <td>0</td>\n",
       "      <td>0</td>\n",
       "      <td>0</td>\n",
       "      <td>0</td>\n",
       "      <td>0</td>\n",
       "      <td>0</td>\n",
       "    </tr>\n",
       "    <tr>\n",
       "      <th>41997</th>\n",
       "      <td>0</td>\n",
       "      <td>0</td>\n",
       "      <td>0</td>\n",
       "      <td>0</td>\n",
       "      <td>0</td>\n",
       "      <td>0</td>\n",
       "      <td>0</td>\n",
       "      <td>0</td>\n",
       "      <td>0</td>\n",
       "      <td>0</td>\n",
       "      <td>...</td>\n",
       "      <td>0</td>\n",
       "      <td>0</td>\n",
       "      <td>0</td>\n",
       "      <td>0</td>\n",
       "      <td>0</td>\n",
       "      <td>0</td>\n",
       "      <td>0</td>\n",
       "      <td>0</td>\n",
       "      <td>0</td>\n",
       "      <td>0</td>\n",
       "    </tr>\n",
       "    <tr>\n",
       "      <th>41998</th>\n",
       "      <td>0</td>\n",
       "      <td>0</td>\n",
       "      <td>0</td>\n",
       "      <td>0</td>\n",
       "      <td>0</td>\n",
       "      <td>0</td>\n",
       "      <td>0</td>\n",
       "      <td>0</td>\n",
       "      <td>0</td>\n",
       "      <td>0</td>\n",
       "      <td>...</td>\n",
       "      <td>0</td>\n",
       "      <td>0</td>\n",
       "      <td>0</td>\n",
       "      <td>0</td>\n",
       "      <td>0</td>\n",
       "      <td>0</td>\n",
       "      <td>0</td>\n",
       "      <td>0</td>\n",
       "      <td>0</td>\n",
       "      <td>0</td>\n",
       "    </tr>\n",
       "    <tr>\n",
       "      <th>41999</th>\n",
       "      <td>0</td>\n",
       "      <td>0</td>\n",
       "      <td>0</td>\n",
       "      <td>0</td>\n",
       "      <td>0</td>\n",
       "      <td>0</td>\n",
       "      <td>0</td>\n",
       "      <td>0</td>\n",
       "      <td>0</td>\n",
       "      <td>0</td>\n",
       "      <td>...</td>\n",
       "      <td>0</td>\n",
       "      <td>0</td>\n",
       "      <td>0</td>\n",
       "      <td>0</td>\n",
       "      <td>0</td>\n",
       "      <td>0</td>\n",
       "      <td>0</td>\n",
       "      <td>0</td>\n",
       "      <td>0</td>\n",
       "      <td>0</td>\n",
       "    </tr>\n",
       "  </tbody>\n",
       "</table>\n",
       "<p>42000 rows × 784 columns</p>\n",
       "</div>"
      ],
      "text/plain": [
       "       pixel0  pixel1  pixel2  pixel3  pixel4  pixel5  pixel6  pixel7  pixel8  \\\n",
       "0           0       0       0       0       0       0       0       0       0   \n",
       "1           0       0       0       0       0       0       0       0       0   \n",
       "2           0       0       0       0       0       0       0       0       0   \n",
       "3           0       0       0       0       0       0       0       0       0   \n",
       "4           0       0       0       0       0       0       0       0       0   \n",
       "...       ...     ...     ...     ...     ...     ...     ...     ...     ...   \n",
       "41995       0       0       0       0       0       0       0       0       0   \n",
       "41996       0       0       0       0       0       0       0       0       0   \n",
       "41997       0       0       0       0       0       0       0       0       0   \n",
       "41998       0       0       0       0       0       0       0       0       0   \n",
       "41999       0       0       0       0       0       0       0       0       0   \n",
       "\n",
       "       pixel9  ...  pixel774  pixel775  pixel776  pixel777  pixel778  \\\n",
       "0           0  ...         0         0         0         0         0   \n",
       "1           0  ...         0         0         0         0         0   \n",
       "2           0  ...         0         0         0         0         0   \n",
       "3           0  ...         0         0         0         0         0   \n",
       "4           0  ...         0         0         0         0         0   \n",
       "...       ...  ...       ...       ...       ...       ...       ...   \n",
       "41995       0  ...         0         0         0         0         0   \n",
       "41996       0  ...         0         0         0         0         0   \n",
       "41997       0  ...         0         0         0         0         0   \n",
       "41998       0  ...         0         0         0         0         0   \n",
       "41999       0  ...         0         0         0         0         0   \n",
       "\n",
       "       pixel779  pixel780  pixel781  pixel782  pixel783  \n",
       "0             0         0         0         0         0  \n",
       "1             0         0         0         0         0  \n",
       "2             0         0         0         0         0  \n",
       "3             0         0         0         0         0  \n",
       "4             0         0         0         0         0  \n",
       "...         ...       ...       ...       ...       ...  \n",
       "41995         0         0         0         0         0  \n",
       "41996         0         0         0         0         0  \n",
       "41997         0         0         0         0         0  \n",
       "41998         0         0         0         0         0  \n",
       "41999         0         0         0         0         0  \n",
       "\n",
       "[42000 rows x 784 columns]"
      ]
     },
     "execution_count": 5,
     "metadata": {},
     "output_type": "execute_result"
    }
   ],
   "source": [
    "X_train = train.iloc[:,1:]\n",
    "Y_train = train.iloc[:,0]\n",
    "X_train"
   ]
  },
  {
   "cell_type": "code",
   "execution_count": 6,
   "id": "0662350f",
   "metadata": {
    "execution": {
     "iopub.execute_input": "2022-07-15T07:53:24.427748Z",
     "iopub.status.busy": "2022-07-15T07:53:24.427432Z",
     "iopub.status.idle": "2022-07-15T07:53:24.435226Z",
     "shell.execute_reply": "2022-07-15T07:53:24.433930Z"
    },
    "id": "ABPLLQ_oB_BN",
    "outputId": "df5385b5-f188-4358-81df-f3e2e1198707",
    "papermill": {
     "duration": 0.027266,
     "end_time": "2022-07-15T07:53:24.437698",
     "exception": false,
     "start_time": "2022-07-15T07:53:24.410432",
     "status": "completed"
    },
    "tags": []
   },
   "outputs": [
    {
     "data": {
      "text/plain": [
       "0    1\n",
       "1    0\n",
       "2    1\n",
       "3    4\n",
       "4    0\n",
       "Name: label, dtype: int64"
      ]
     },
     "execution_count": 6,
     "metadata": {},
     "output_type": "execute_result"
    }
   ],
   "source": [
    "Y_train.head()"
   ]
  },
  {
   "cell_type": "code",
   "execution_count": 7,
   "id": "e0dd5480",
   "metadata": {
    "execution": {
     "iopub.execute_input": "2022-07-15T07:53:24.472674Z",
     "iopub.status.busy": "2022-07-15T07:53:24.472383Z",
     "iopub.status.idle": "2022-07-15T07:53:24.791895Z",
     "shell.execute_reply": "2022-07-15T07:53:24.790763Z"
    },
    "id": "e2SkfrrcAz0j",
    "outputId": "0f4faadc-4b7c-47da-95ba-6ef40c22ad52",
    "papermill": {
     "duration": 0.338719,
     "end_time": "2022-07-15T07:53:24.794460",
     "exception": false,
     "start_time": "2022-07-15T07:53:24.455741",
     "status": "completed"
    },
    "tags": []
   },
   "outputs": [
    {
     "data": {
      "text/plain": [
       "<AxesSubplot:xlabel='label', ylabel='count'>"
      ]
     },
     "execution_count": 7,
     "metadata": {},
     "output_type": "execute_result"
    },
    {
     "data": {
      "image/png": "[encoded data removed]",
      "text/plain": [
       "<Figure size 1080x576 with 1 Axes>"
      ]
     },
     "metadata": {},
     "output_type": "display_data"
    }
   ],
   "source": [
    "sns.set(rc = {'figure.figsize':(15,8)})\n",
    "sns.countplot(x='label', data=train)"
   ]
  },
  {
   "cell_type": "code",
   "execution_count": 8,
   "id": "83752714",
   "metadata": {
    "execution": {
     "iopub.execute_input": "2022-07-15T07:53:24.830011Z",
     "iopub.status.busy": "2022-07-15T07:53:24.829601Z",
     "iopub.status.idle": "2022-07-15T07:53:24.846784Z",
     "shell.execute_reply": "2022-07-15T07:53:24.845324Z"
    },
    "id": "91tt2LDeCxdm",
    "outputId": "c0852e50-14ea-4313-cd88-062bf3f5c8ac",
    "papermill": {
     "duration": 0.038566,
     "end_time": "2022-07-15T07:53:24.849743",
     "exception": false,
     "start_time": "2022-07-15T07:53:24.811177",
     "status": "completed"
    },
    "tags": []
   },
   "outputs": [
    {
     "data": {
      "text/plain": [
       "count    42000.000000\n",
       "mean         4.456643\n",
       "std          2.887730\n",
       "min          0.000000\n",
       "25%          2.000000\n",
       "50%          4.000000\n",
       "75%          7.000000\n",
       "max          9.000000\n",
       "Name: label, dtype: float64"
      ]
     },
     "execution_count": 8,
     "metadata": {},
     "output_type": "execute_result"
    }
   ],
   "source": [
    "Y_train.describe()"
   ]
  },
  {
   "cell_type": "markdown",
   "id": "4ddee580",
   "metadata": {
    "id": "PRL8HkJpBqcc",
    "papermill": {
     "duration": 0.015749,
     "end_time": "2022-07-15T07:53:24.882166",
     "exception": false,
     "start_time": "2022-07-15T07:53:24.866417",
     "status": "completed"
    },
    "tags": []
   },
   "source": [
    "## Dealing with Null Values"
   ]
  },
  {
   "cell_type": "code",
   "execution_count": 9,
   "id": "6c919d74",
   "metadata": {
    "execution": {
     "iopub.execute_input": "2022-07-15T07:53:24.916110Z",
     "iopub.status.busy": "2022-07-15T07:53:24.915663Z",
     "iopub.status.idle": "2022-07-15T07:53:24.971477Z",
     "shell.execute_reply": "2022-07-15T07:53:24.970022Z"
    },
    "id": "m7GBdhKBBt8A",
    "outputId": "24b730d0-4910-49e9-bb80-6f1cf82427c8",
    "papermill": {
     "duration": 0.075592,
     "end_time": "2022-07-15T07:53:24.974205",
     "exception": false,
     "start_time": "2022-07-15T07:53:24.898613",
     "status": "completed"
    },
    "tags": []
   },
   "outputs": [
    {
     "data": {
      "text/plain": [
       "pixel0      0\n",
       "pixel1      0\n",
       "pixel2      0\n",
       "pixel3      0\n",
       "pixel4      0\n",
       "           ..\n",
       "pixel779    0\n",
       "pixel780    0\n",
       "pixel781    0\n",
       "pixel782    0\n",
       "pixel783    0\n",
       "Length: 784, dtype: int64"
      ]
     },
     "execution_count": 9,
     "metadata": {},
     "output_type": "execute_result"
    }
   ],
   "source": [
    "X_train.isna().sum()"
   ]
  },
  {
   "cell_type": "code",
   "execution_count": 10,
   "id": "273ddbc5",
   "metadata": {
    "execution": {
     "iopub.execute_input": "2022-07-15T07:53:25.011045Z",
     "iopub.status.busy": "2022-07-15T07:53:25.008945Z",
     "iopub.status.idle": "2022-07-15T07:53:25.050347Z",
     "shell.execute_reply": "2022-07-15T07:53:25.048794Z"
    },
    "id": "mxFEDu6tDUGq",
    "outputId": "8608f89d-942a-4367-d1f4-0817ba63fb5d",
    "papermill": {
     "duration": 0.062286,
     "end_time": "2022-07-15T07:53:25.053377",
     "exception": false,
     "start_time": "2022-07-15T07:53:24.991091",
     "status": "completed"
    },
    "tags": []
   },
   "outputs": [
    {
     "data": {
      "text/plain": [
       "pixel0      0\n",
       "pixel1      0\n",
       "pixel2      0\n",
       "pixel3      0\n",
       "pixel4      0\n",
       "           ..\n",
       "pixel779    0\n",
       "pixel780    0\n",
       "pixel781    0\n",
       "pixel782    0\n",
       "pixel783    0\n",
       "Length: 784, dtype: int64"
      ]
     },
     "execution_count": 10,
     "metadata": {},
     "output_type": "execute_result"
    }
   ],
   "source": [
    "test.isna().sum()"
   ]
  },
  {
   "cell_type": "code",
   "execution_count": 11,
   "id": "58a6b592",
   "metadata": {
    "execution": {
     "iopub.execute_input": "2022-07-15T07:53:25.088491Z",
     "iopub.status.busy": "2022-07-15T07:53:25.087447Z",
     "iopub.status.idle": "2022-07-15T07:53:25.260039Z",
     "shell.execute_reply": "2022-07-15T07:53:25.258718Z"
    },
    "id": "ES6jPlswD5D_",
    "outputId": "a3073090-8d99-404b-f1b9-2c8578ff7459",
    "papermill": {
     "duration": 0.192837,
     "end_time": "2022-07-15T07:53:25.262604",
     "exception": false,
     "start_time": "2022-07-15T07:53:25.069767",
     "status": "completed"
    },
    "tags": []
   },
   "outputs": [
    {
     "data": {
      "text/plain": [
       "((42000, 784), (42000,))"
      ]
     },
     "execution_count": 11,
     "metadata": {},
     "output_type": "execute_result"
    }
   ],
   "source": [
    "train=train.dropna()\n",
    "X_train = train.iloc[:,1:].values\n",
    "Y_train = train.iloc[:,0].values\n",
    "X_train.shape,Y_train.shape"
   ]
  },
  {
   "cell_type": "code",
   "execution_count": 12,
   "id": "01ddd9c6",
   "metadata": {
    "execution": {
     "iopub.execute_input": "2022-07-15T07:53:25.297762Z",
     "iopub.status.busy": "2022-07-15T07:53:25.297426Z",
     "iopub.status.idle": "2022-07-15T07:53:27.543261Z",
     "shell.execute_reply": "2022-07-15T07:53:27.542002Z"
    },
    "papermill": {
     "duration": 2.266144,
     "end_time": "2022-07-15T07:53:27.545700",
     "exception": false,
     "start_time": "2022-07-15T07:53:25.279556",
     "status": "completed"
    },
    "tags": []
   },
   "outputs": [
    {
     "data": {
      "image/png": "[encoded data removed]",
      "text/plain": [
       "<Figure size 1080x324 with 30 Axes>"
      ]
     },
     "metadata": {},
     "output_type": "display_data"
    }
   ],
   "source": [
    "import matplotlib.pyplot as plt\n",
    "# PREVIEW IMAGES\n",
    "plt.figure(figsize=(15,4.5))\n",
    "for i in range(30):  \n",
    "    plt.subplot(3, 10, i+1)\n",
    "    plt.imshow(X_train[i].reshape((28,28)),cmap=plt.cm.binary)\n",
    "    plt.axis('off')\n",
    "plt.subplots_adjust(wspace=-0.1, hspace=-0.1)\n",
    "plt.show()"
   ]
  },
  {
   "cell_type": "code",
   "execution_count": 13,
   "id": "95fa0ceb",
   "metadata": {
    "execution": {
     "iopub.execute_input": "2022-07-15T07:53:27.583108Z",
     "iopub.status.busy": "2022-07-15T07:53:27.582715Z",
     "iopub.status.idle": "2022-07-15T07:53:27.698825Z",
     "shell.execute_reply": "2022-07-15T07:53:27.697163Z"
    },
    "id": "pUPLCUq9RlGE",
    "outputId": "4bacbf1b-7b55-4e42-b8f1-defa1785fd51",
    "papermill": {
     "duration": 0.138402,
     "end_time": "2022-07-15T07:53:27.702199",
     "exception": false,
     "start_time": "2022-07-15T07:53:27.563797",
     "status": "completed"
    },
    "tags": []
   },
   "outputs": [
    {
     "data": {
      "text/plain": [
       "(28000, 784)"
      ]
     },
     "execution_count": 13,
     "metadata": {},
     "output_type": "execute_result"
    }
   ],
   "source": [
    "test=test.dropna()\n",
    "test=test.values\n",
    "test.shape"
   ]
  },
  {
   "cell_type": "code",
   "execution_count": 14,
   "id": "2fe10322",
   "metadata": {
    "execution": {
     "iopub.execute_input": "2022-07-15T07:53:27.737511Z",
     "iopub.status.busy": "2022-07-15T07:53:27.737202Z",
     "iopub.status.idle": "2022-07-15T07:53:28.231190Z",
     "shell.execute_reply": "2022-07-15T07:53:28.229894Z"
    },
    "papermill": {
     "duration": 0.514355,
     "end_time": "2022-07-15T07:53:28.233913",
     "exception": false,
     "start_time": "2022-07-15T07:53:27.719558",
     "status": "completed"
    },
    "tags": []
   },
   "outputs": [
    {
     "data": {
      "image/png": "[encoded data removed]",
      "text/plain": [
       "<Figure size 1080x576 with 3 Axes>"
      ]
     },
     "metadata": {},
     "output_type": "display_data"
    }
   ],
   "source": [
    "X_train = X_train.reshape(X_train.shape[0], 28, 28)\n",
    "\n",
    "for i in range(6, 9):\n",
    "    plt.subplot(330 + (i+1))\n",
    "    plt.imshow(X_train[i], cmap=plt.get_cmap('gray'))\n",
    "    plt.title(Y_train[i]);"
   ]
  },
  {
   "cell_type": "markdown",
   "id": "aae83db0",
   "metadata": {
    "id": "hFcrD5eeR_QT",
    "papermill": {
     "duration": 0.017271,
     "end_time": "2022-07-15T07:53:28.268637",
     "exception": false,
     "start_time": "2022-07-15T07:53:28.251366",
     "status": "completed"
    },
    "tags": []
   },
   "source": [
    "# Normalize and Reshape"
   ]
  },
  {
   "cell_type": "code",
   "execution_count": 15,
   "id": "8cfdacef",
   "metadata": {
    "execution": {
     "iopub.execute_input": "2022-07-15T07:53:28.304758Z",
     "iopub.status.busy": "2022-07-15T07:53:28.303654Z",
     "iopub.status.idle": "2022-07-15T07:53:28.540870Z",
     "shell.execute_reply": "2022-07-15T07:53:28.539562Z"
    },
    "id": "uomxbHkiSC2M",
    "papermill": {
     "duration": 0.25828,
     "end_time": "2022-07-15T07:53:28.543770",
     "exception": false,
     "start_time": "2022-07-15T07:53:28.285490",
     "status": "completed"
    },
    "tags": []
   },
   "outputs": [],
   "source": [
    "X_train = X_train / 255.0\n",
    "test = test / 255.0\n",
    "\n",
    "X_train = X_train.reshape(-1,28,28,1)\n",
    "test = test.reshape(-1,28,28,1)"
   ]
  },
  {
   "cell_type": "markdown",
   "id": "3d6f5ca9",
   "metadata": {
    "id": "zt0KRZq5ce9P",
    "papermill": {
     "duration": 0.016758,
     "end_time": "2022-07-15T07:53:28.578060",
     "exception": false,
     "start_time": "2022-07-15T07:53:28.561302",
     "status": "completed"
    },
    "tags": []
   },
   "source": [
    "# Encoding \n",
    "\n",
    "(ex : 2 -> [0,0,1,0,0,0,0,0,0,0])"
   ]
  },
  {
   "cell_type": "code",
   "execution_count": 16,
   "id": "fc055ec7",
   "metadata": {
    "execution": {
     "iopub.execute_input": "2022-07-15T07:53:28.613407Z",
     "iopub.status.busy": "2022-07-15T07:53:28.612648Z",
     "iopub.status.idle": "2022-07-15T07:53:28.619568Z",
     "shell.execute_reply": "2022-07-15T07:53:28.618112Z"
    },
    "id": "4ChX26ttS3l-",
    "papermill": {
     "duration": 0.027446,
     "end_time": "2022-07-15T07:53:28.622147",
     "exception": false,
     "start_time": "2022-07-15T07:53:28.594701",
     "status": "completed"
    },
    "tags": []
   },
   "outputs": [],
   "source": [
    "from keras.utils.np_utils import to_categorical\n",
    "Y_train = to_categorical(Y_train, num_classes = 10)"
   ]
  },
  {
   "cell_type": "code",
   "execution_count": 17,
   "id": "d0fa8402",
   "metadata": {
    "execution": {
     "iopub.execute_input": "2022-07-15T07:53:28.657646Z",
     "iopub.status.busy": "2022-07-15T07:53:28.657365Z",
     "iopub.status.idle": "2022-07-15T07:53:28.665658Z",
     "shell.execute_reply": "2022-07-15T07:53:28.664220Z"
    },
    "id": "gbk3WJdAc0CJ",
    "outputId": "7124d925-13cc-4fde-df06-b0929cb43285",
    "papermill": {
     "duration": 0.030607,
     "end_time": "2022-07-15T07:53:28.669868",
     "exception": false,
     "start_time": "2022-07-15T07:53:28.639261",
     "status": "completed"
    },
    "tags": []
   },
   "outputs": [
    {
     "data": {
      "text/plain": [
       "array([[0., 1., 0., ..., 0., 0., 0.],\n",
       "       [1., 0., 0., ..., 0., 0., 0.],\n",
       "       [0., 1., 0., ..., 0., 0., 0.],\n",
       "       ...,\n",
       "       [0., 0., 0., ..., 1., 0., 0.],\n",
       "       [0., 0., 0., ..., 0., 0., 0.],\n",
       "       [0., 0., 0., ..., 0., 0., 1.]], dtype=float32)"
      ]
     },
     "execution_count": 17,
     "metadata": {},
     "output_type": "execute_result"
    }
   ],
   "source": [
    "Y_train"
   ]
  },
  {
   "cell_type": "markdown",
   "id": "61f1a5f5",
   "metadata": {
    "id": "PyAaSeqSdQkz",
    "papermill": {
     "duration": 0.016391,
     "end_time": "2022-07-15T07:53:28.703566",
     "exception": false,
     "start_time": "2022-07-15T07:53:28.687175",
     "status": "completed"
    },
    "tags": []
   },
   "source": [
    "# spliting Data in training and testing set"
   ]
  },
  {
   "cell_type": "code",
   "execution_count": 18,
   "id": "d1d08fe2",
   "metadata": {
    "execution": {
     "iopub.execute_input": "2022-07-15T07:53:28.739278Z",
     "iopub.status.busy": "2022-07-15T07:53:28.738905Z",
     "iopub.status.idle": "2022-07-15T07:53:29.386758Z",
     "shell.execute_reply": "2022-07-15T07:53:29.385509Z"
    },
    "id": "IXwlKGaoc8V1",
    "papermill": {
     "duration": 0.669001,
     "end_time": "2022-07-15T07:53:29.389837",
     "exception": false,
     "start_time": "2022-07-15T07:53:28.720836",
     "status": "completed"
    },
    "tags": []
   },
   "outputs": [],
   "source": [
    "from sklearn.model_selection import train_test_split\n",
    "X_train, X_val, Y_train, Y_val = train_test_split(X_train, Y_train, test_size = 0.1, random_state=2)"
   ]
  },
  {
   "cell_type": "markdown",
   "id": "fb10850f",
   "metadata": {
    "id": "n0Wjh_2Ie29A",
    "papermill": {
     "duration": 0.01873,
     "end_time": "2022-07-15T07:53:29.428251",
     "exception": false,
     "start_time": "2022-07-15T07:53:29.409521",
     "status": "completed"
    },
    "tags": []
   },
   "source": [
    "# Visualize the digit"
   ]
  },
  {
   "cell_type": "code",
   "execution_count": 19,
   "id": "3deaeed5",
   "metadata": {
    "execution": {
     "iopub.execute_input": "2022-07-15T07:53:29.466926Z",
     "iopub.status.busy": "2022-07-15T07:53:29.466501Z",
     "iopub.status.idle": "2022-07-15T07:53:29.745922Z",
     "shell.execute_reply": "2022-07-15T07:53:29.744557Z"
    },
    "id": "67_AtHtUeebE",
    "outputId": "886139e7-a24d-4201-8a4b-4d22b88488f5",
    "papermill": {
     "duration": 0.30235,
     "end_time": "2022-07-15T07:53:29.748744",
     "exception": false,
     "start_time": "2022-07-15T07:53:29.446394",
     "status": "completed"
    },
    "tags": []
   },
   "outputs": [
    {
     "data": {
      "image/png": "[encoded data removed]",
      "text/plain": [
       "<Figure size 1080x576 with 1 Axes>"
      ]
     },
     "metadata": {},
     "output_type": "display_data"
    }
   ],
   "source": [
    "g = plt.imshow(X_train[0][:,:,0])"
   ]
  },
  {
   "cell_type": "markdown",
   "id": "fc41d8fa",
   "metadata": {
    "id": "w7aXmQFbgD-8",
    "papermill": {
     "duration": 0.018031,
     "end_time": "2022-07-15T07:53:29.785826",
     "exception": false,
     "start_time": "2022-07-15T07:53:29.767795",
     "status": "completed"
    },
    "tags": []
   },
   "source": [
    "# **Building the CNN**"
   ]
  },
  {
   "cell_type": "markdown",
   "id": "732c6a38",
   "metadata": {
    "id": "3DHysRZ-smwU",
    "papermill": {
     "duration": 0.018738,
     "end_time": "2022-07-15T07:53:29.823603",
     "exception": false,
     "start_time": "2022-07-15T07:53:29.804865",
     "status": "completed"
    },
    "tags": []
   },
   "source": [
    "## Initializing CNN"
   ]
  },
  {
   "cell_type": "code",
   "execution_count": 20,
   "id": "4af9fa59",
   "metadata": {
    "execution": {
     "iopub.execute_input": "2022-07-15T07:53:29.864350Z",
     "iopub.status.busy": "2022-07-15T07:53:29.863075Z",
     "iopub.status.idle": "2022-07-15T07:53:33.860363Z",
     "shell.execute_reply": "2022-07-15T07:53:33.858358Z"
    },
    "id": "jnTQrHsxgGaI",
    "papermill": {
     "duration": 4.021173,
     "end_time": "2022-07-15T07:53:33.863416",
     "exception": false,
     "start_time": "2022-07-15T07:53:29.842243",
     "status": "completed"
    },
    "tags": []
   },
   "outputs": [
    {
     "name": "stderr",
     "output_type": "stream",
     "text": [
      "2022-07-15 07:53:30.461058: I tensorflow/stream_executor/cuda/cuda_gpu_executor.cc:937] successful NUMA node read from SysFS had negative value (-1), but there must be at least one NUMA node, so returning NUMA node zero\n",
      "2022-07-15 07:53:30.588975: I tensorflow/stream_executor/cuda/cuda_gpu_executor.cc:937] successful NUMA node read from SysFS had negative value (-1), but there must be at least one NUMA node, so returning NUMA node zero\n",
      "2022-07-15 07:53:30.590269: I tensorflow/stream_executor/cuda/cuda_gpu_executor.cc:937] successful NUMA node read from SysFS had negative value (-1), but there must be at least one NUMA node, so returning NUMA node zero\n",
      "2022-07-15 07:53:30.592471: I tensorflow/core/platform/cpu_feature_guard.cc:142] This TensorFlow binary is optimized with oneAPI Deep Neural Network Library (oneDNN) to use the following CPU instructions in performance-critical operations:  AVX2 FMA\n",
      "To enable them in other operations, rebuild TensorFlow with the appropriate compiler flags.\n",
      "2022-07-15 07:53:30.592823: I tensorflow/stream_executor/cuda/cuda_gpu_executor.cc:937] successful NUMA node read from SysFS had negative value (-1), but there must be at least one NUMA node, so returning NUMA node zero\n",
      "2022-07-15 07:53:30.594255: I tensorflow/stream_executor/cuda/cuda_gpu_executor.cc:937] successful NUMA node read from SysFS had negative value (-1), but there must be at least one NUMA node, so returning NUMA node zero\n",
      "2022-07-15 07:53:30.595448: I tensorflow/stream_executor/cuda/cuda_gpu_executor.cc:937] successful NUMA node read from SysFS had negative value (-1), but there must be at least one NUMA node, so returning NUMA node zero\n",
      "2022-07-15 07:53:33.503193: I tensorflow/stream_executor/cuda/cuda_gpu_executor.cc:937] successful NUMA node read from SysFS had negative value (-1), but there must be at least one NUMA node, so returning NUMA node zero\n",
      "2022-07-15 07:53:33.504385: I tensorflow/stream_executor/cuda/cuda_gpu_executor.cc:937] successful NUMA node read from SysFS had negative value (-1), but there must be at least one NUMA node, so returning NUMA node zero\n",
      "2022-07-15 07:53:33.505612: I tensorflow/stream_executor/cuda/cuda_gpu_executor.cc:937] successful NUMA node read from SysFS had negative value (-1), but there must be at least one NUMA node, so returning NUMA node zero\n",
      "2022-07-15 07:53:33.506733: I tensorflow/core/common_runtime/gpu/gpu_device.cc:1510] Created device /job:localhost/replica:0/task:0/device:GPU:0 with 15403 MB memory:  -> device: 0, name: Tesla P100-PCIE-16GB, pci bus id: 0000:00:04.0, compute capability: 6.0\n"
     ]
    }
   ],
   "source": [
    "cnn=tf.keras.models.Sequential()"
   ]
  },
  {
   "cell_type": "markdown",
   "id": "9b285f06",
   "metadata": {
    "id": "ZT3qkJcQtJH3",
    "papermill": {
     "duration": 0.020375,
     "end_time": "2022-07-15T07:53:33.904362",
     "exception": false,
     "start_time": "2022-07-15T07:53:33.883987",
     "status": "completed"
    },
    "tags": []
   },
   "source": [
    "## Step 1  Convolution"
   ]
  },
  {
   "cell_type": "code",
   "execution_count": 21,
   "id": "0b88f67f",
   "metadata": {
    "execution": {
     "iopub.execute_input": "2022-07-15T07:53:33.948494Z",
     "iopub.status.busy": "2022-07-15T07:53:33.947557Z",
     "iopub.status.idle": "2022-07-15T07:53:34.018352Z",
     "shell.execute_reply": "2022-07-15T07:53:34.017159Z"
    },
    "id": "K7KfXf_FtNGI",
    "papermill": {
     "duration": 0.095972,
     "end_time": "2022-07-15T07:53:34.021038",
     "exception": false,
     "start_time": "2022-07-15T07:53:33.925066",
     "status": "completed"
    },
    "tags": []
   },
   "outputs": [],
   "source": [
    "\n",
    "cnn.add(tf.keras.layers.Conv2D(filters=32, kernel_size=(5,5),padding = 'Same',activation='relu',input_shape = (28,28,1)))\n",
    "cnn.add(tf.keras.layers.Conv2D(filters=32, kernel_size=(5,5),padding = 'Same',activation='relu'))"
   ]
  },
  {
   "cell_type": "markdown",
   "id": "bd654323",
   "metadata": {
    "id": "RGHBQc-x2kdL",
    "papermill": {
     "duration": 0.017931,
     "end_time": "2022-07-15T07:53:34.057155",
     "exception": false,
     "start_time": "2022-07-15T07:53:34.039224",
     "status": "completed"
    },
    "tags": []
   },
   "source": [
    "## Step 2  Pooling"
   ]
  },
  {
   "cell_type": "code",
   "execution_count": 22,
   "id": "c98650e9",
   "metadata": {
    "execution": {
     "iopub.execute_input": "2022-07-15T07:53:34.093822Z",
     "iopub.status.busy": "2022-07-15T07:53:34.093455Z",
     "iopub.status.idle": "2022-07-15T07:53:34.110355Z",
     "shell.execute_reply": "2022-07-15T07:53:34.109005Z"
    },
    "id": "EGnoH8Mt2nE4",
    "papermill": {
     "duration": 0.038426,
     "end_time": "2022-07-15T07:53:34.113217",
     "exception": false,
     "start_time": "2022-07-15T07:53:34.074791",
     "status": "completed"
    },
    "tags": []
   },
   "outputs": [],
   "source": [
    "from keras.layers import Dense, Dropout, Flatten, Conv2D, MaxPool2D\n",
    "cnn.add(tf.keras.layers.MaxPool2D(pool_size=(2,2)))\n",
    "cnn.add(tf.keras.layers.Dropout(0.25))"
   ]
  },
  {
   "cell_type": "markdown",
   "id": "f7fed649",
   "metadata": {
    "id": "x7KPIx7v3IJq",
    "papermill": {
     "duration": 0.017826,
     "end_time": "2022-07-15T07:53:34.149277",
     "exception": false,
     "start_time": "2022-07-15T07:53:34.131451",
     "status": "completed"
    },
    "tags": []
   },
   "source": [
    "## Step 3 Adding 2nd Layer"
   ]
  },
  {
   "cell_type": "code",
   "execution_count": 23,
   "id": "fd709710",
   "metadata": {
    "execution": {
     "iopub.execute_input": "2022-07-15T07:53:34.185657Z",
     "iopub.status.busy": "2022-07-15T07:53:34.185347Z",
     "iopub.status.idle": "2022-07-15T07:53:34.202898Z",
     "shell.execute_reply": "2022-07-15T07:53:34.201741Z"
    },
    "id": "ol1nLASi3Mq0",
    "papermill": {
     "duration": 0.038218,
     "end_time": "2022-07-15T07:53:34.205290",
     "exception": false,
     "start_time": "2022-07-15T07:53:34.167072",
     "status": "completed"
    },
    "tags": []
   },
   "outputs": [],
   "source": [
    "cnn.add(tf.keras.layers.Conv2D(filters = 64, kernel_size = (3,3),padding = 'Same',activation ='relu'))"
   ]
  },
  {
   "cell_type": "markdown",
   "id": "4e3081f1",
   "metadata": {
    "id": "y0RJ6keO3XVw",
    "papermill": {
     "duration": 0.017639,
     "end_time": "2022-07-15T07:53:34.240538",
     "exception": false,
     "start_time": "2022-07-15T07:53:34.222899",
     "status": "completed"
    },
    "tags": []
   },
   "source": [
    "## Step 4 Adding 3rd Layer"
   ]
  },
  {
   "cell_type": "code",
   "execution_count": 24,
   "id": "5f2a0cbb",
   "metadata": {
    "execution": {
     "iopub.execute_input": "2022-07-15T07:53:34.277739Z",
     "iopub.status.busy": "2022-07-15T07:53:34.277437Z",
     "iopub.status.idle": "2022-07-15T07:53:34.505694Z",
     "shell.execute_reply": "2022-07-15T07:53:34.504301Z"
    },
    "id": "QaKILXv53dyt",
    "papermill": {
     "duration": 0.249879,
     "end_time": "2022-07-15T07:53:34.508506",
     "exception": false,
     "start_time": "2022-07-15T07:53:34.258627",
     "status": "completed"
    },
    "tags": []
   },
   "outputs": [],
   "source": [
    "cnn.add(tf.keras.layers.Conv2D(filters = 64, kernel_size = (3,3),padding = 'Same',activation ='relu'))"
   ]
  },
  {
   "cell_type": "markdown",
   "id": "29aabeef",
   "metadata": {
    "id": "diL7Hygz3mco",
    "papermill": {
     "duration": 0.020261,
     "end_time": "2022-07-15T07:53:34.552099",
     "exception": false,
     "start_time": "2022-07-15T07:53:34.531838",
     "status": "completed"
    },
    "tags": []
   },
   "source": [
    "## Step 5 Again Pooling"
   ]
  },
  {
   "cell_type": "code",
   "execution_count": 25,
   "id": "b4cc4bfe",
   "metadata": {
    "execution": {
     "iopub.execute_input": "2022-07-15T07:53:34.588943Z",
     "iopub.status.busy": "2022-07-15T07:53:34.588566Z",
     "iopub.status.idle": "2022-07-15T07:53:34.602869Z",
     "shell.execute_reply": "2022-07-15T07:53:34.601606Z"
    },
    "id": "H3XuFvZI3qZw",
    "papermill": {
     "duration": 0.035752,
     "end_time": "2022-07-15T07:53:34.605531",
     "exception": false,
     "start_time": "2022-07-15T07:53:34.569779",
     "status": "completed"
    },
    "tags": []
   },
   "outputs": [],
   "source": [
    "cnn.add(tf.keras.layers.MaxPool2D(pool_size=(2,2), strides=(2,2)))\n",
    "cnn.add(tf.keras.layers.Dropout(0.25))"
   ]
  },
  {
   "cell_type": "markdown",
   "id": "0bdd5f49",
   "metadata": {
    "id": "SMeAnMcK35mm",
    "papermill": {
     "duration": 0.017868,
     "end_time": "2022-07-15T07:53:34.641643",
     "exception": false,
     "start_time": "2022-07-15T07:53:34.623775",
     "status": "completed"
    },
    "tags": []
   },
   "source": [
    "## Step 6 Flatting"
   ]
  },
  {
   "cell_type": "code",
   "execution_count": 26,
   "id": "151cd741",
   "metadata": {
    "execution": {
     "iopub.execute_input": "2022-07-15T07:53:34.679896Z",
     "iopub.status.busy": "2022-07-15T07:53:34.677978Z",
     "iopub.status.idle": "2022-07-15T07:53:34.689702Z",
     "shell.execute_reply": "2022-07-15T07:53:34.688452Z"
    },
    "id": "DUKgHwaI3-So",
    "papermill": {
     "duration": 0.033251,
     "end_time": "2022-07-15T07:53:34.692202",
     "exception": false,
     "start_time": "2022-07-15T07:53:34.658951",
     "status": "completed"
    },
    "tags": []
   },
   "outputs": [],
   "source": [
    "cnn.add(tf.keras.layers.Flatten())"
   ]
  },
  {
   "cell_type": "markdown",
   "id": "4e8e1454",
   "metadata": {
    "id": "4GL3npkX41EF",
    "papermill": {
     "duration": 0.017672,
     "end_time": "2022-07-15T07:53:34.727451",
     "exception": false,
     "start_time": "2022-07-15T07:53:34.709779",
     "status": "completed"
    },
    "tags": []
   },
   "source": [
    "## Step 7 Full Connection"
   ]
  },
  {
   "cell_type": "code",
   "execution_count": 27,
   "id": "9318547d",
   "metadata": {
    "execution": {
     "iopub.execute_input": "2022-07-15T07:53:34.766336Z",
     "iopub.status.busy": "2022-07-15T07:53:34.764640Z",
     "iopub.status.idle": "2022-07-15T07:53:34.786607Z",
     "shell.execute_reply": "2022-07-15T07:53:34.785310Z"
    },
    "id": "oKQQjX5j44Aa",
    "papermill": {
     "duration": 0.044459,
     "end_time": "2022-07-15T07:53:34.789206",
     "exception": false,
     "start_time": "2022-07-15T07:53:34.744747",
     "status": "completed"
    },
    "tags": []
   },
   "outputs": [],
   "source": [
    "cnn.add(tf.keras.layers.Dense(units=256,activation='relu'))\n",
    "cnn.add(tf.keras.layers.Dropout(0.5))"
   ]
  },
  {
   "cell_type": "markdown",
   "id": "a5af681b",
   "metadata": {
    "id": "lNJmETFh5e3C",
    "papermill": {
     "duration": 0.017941,
     "end_time": "2022-07-15T07:53:34.825911",
     "exception": false,
     "start_time": "2022-07-15T07:53:34.807970",
     "status": "completed"
    },
    "tags": []
   },
   "source": [
    "## Step 8 Output Layer"
   ]
  },
  {
   "cell_type": "code",
   "execution_count": 28,
   "id": "7f352963",
   "metadata": {
    "execution": {
     "iopub.execute_input": "2022-07-15T07:53:34.864636Z",
     "iopub.status.busy": "2022-07-15T07:53:34.863541Z",
     "iopub.status.idle": "2022-07-15T07:53:34.880422Z",
     "shell.execute_reply": "2022-07-15T07:53:34.879319Z"
    },
    "id": "piMNUOR85x_H",
    "papermill": {
     "duration": 0.039076,
     "end_time": "2022-07-15T07:53:34.883133",
     "exception": false,
     "start_time": "2022-07-15T07:53:34.844057",
     "status": "completed"
    },
    "tags": []
   },
   "outputs": [],
   "source": [
    "cnn.add(tf.keras.layers.Dense(10, activation = \"softmax\"))"
   ]
  },
  {
   "cell_type": "markdown",
   "id": "67ebd659",
   "metadata": {
    "id": "MHCzDsOU6EAQ",
    "papermill": {
     "duration": 0.017679,
     "end_time": "2022-07-15T07:53:34.919447",
     "exception": false,
     "start_time": "2022-07-15T07:53:34.901768",
     "status": "completed"
    },
    "tags": []
   },
   "source": [
    "## Set the Optimizer"
   ]
  },
  {
   "cell_type": "code",
   "execution_count": 29,
   "id": "00d49cd5",
   "metadata": {
    "execution": {
     "iopub.execute_input": "2022-07-15T07:53:34.959060Z",
     "iopub.status.busy": "2022-07-15T07:53:34.957163Z",
     "iopub.status.idle": "2022-07-15T07:53:34.965844Z",
     "shell.execute_reply": "2022-07-15T07:53:34.964684Z"
    },
    "id": "ttr7R_Xj6Gjv",
    "papermill": {
     "duration": 0.030694,
     "end_time": "2022-07-15T07:53:34.968581",
     "exception": false,
     "start_time": "2022-07-15T07:53:34.937887",
     "status": "completed"
    },
    "tags": []
   },
   "outputs": [],
   "source": [
    "from tensorflow.keras.optimizers import RMSprop\n",
    "optimizer = RMSprop(lr=0.001, rho=0.9, epsilon=1e-08, decay=0.0)"
   ]
  },
  {
   "cell_type": "markdown",
   "id": "24faf15c",
   "metadata": {
    "id": "-5dDlYC36-B-",
    "papermill": {
     "duration": 0.018152,
     "end_time": "2022-07-15T07:53:35.005200",
     "exception": false,
     "start_time": "2022-07-15T07:53:34.987048",
     "status": "completed"
    },
    "tags": []
   },
   "source": [
    "## Compiling the CNN"
   ]
  },
  {
   "cell_type": "code",
   "execution_count": 30,
   "id": "373dce4e",
   "metadata": {
    "execution": {
     "iopub.execute_input": "2022-07-15T07:53:35.043594Z",
     "iopub.status.busy": "2022-07-15T07:53:35.043223Z",
     "iopub.status.idle": "2022-07-15T07:53:35.058856Z",
     "shell.execute_reply": "2022-07-15T07:53:35.057770Z"
    },
    "id": "IO2R0Lhs7C4s",
    "papermill": {
     "duration": 0.038066,
     "end_time": "2022-07-15T07:53:35.061713",
     "exception": false,
     "start_time": "2022-07-15T07:53:35.023647",
     "status": "completed"
    },
    "tags": []
   },
   "outputs": [],
   "source": [
    "cnn.compile(optimizer = optimizer , loss = \"categorical_crossentropy\", metrics=[\"accuracy\"])"
   ]
  },
  {
   "cell_type": "markdown",
   "id": "91f64df2",
   "metadata": {
    "id": "zGv-2ibI7RTu",
    "papermill": {
     "duration": 0.019342,
     "end_time": "2022-07-15T07:53:35.100168",
     "exception": false,
     "start_time": "2022-07-15T07:53:35.080826",
     "status": "completed"
    },
    "tags": []
   },
   "source": [
    "## Set a learning rate annealer"
   ]
  },
  {
   "cell_type": "code",
   "execution_count": 31,
   "id": "7c2462a7",
   "metadata": {
    "execution": {
     "iopub.execute_input": "2022-07-15T07:53:35.139903Z",
     "iopub.status.busy": "2022-07-15T07:53:35.139165Z",
     "iopub.status.idle": "2022-07-15T07:53:35.145557Z",
     "shell.execute_reply": "2022-07-15T07:53:35.144137Z"
    },
    "id": "2JKRPB2P7Sn3",
    "papermill": {
     "duration": 0.028588,
     "end_time": "2022-07-15T07:53:35.147899",
     "exception": false,
     "start_time": "2022-07-15T07:53:35.119311",
     "status": "completed"
    },
    "tags": []
   },
   "outputs": [],
   "source": [
    "from keras.callbacks import ReduceLROnPlateau\n",
    "learning_rate_reduction = ReduceLROnPlateau(monitor='val_acc', \n",
    "                                            patience=3, \n",
    "                                            verbose=1, \n",
    "                                            factor=0.5, \n",
    "                                            min_lr=0.00001)"
   ]
  },
  {
   "cell_type": "markdown",
   "id": "52ee2b4d",
   "metadata": {
    "id": "y5c04au17kDq",
    "papermill": {
     "duration": 0.01854,
     "end_time": "2022-07-15T07:53:35.185307",
     "exception": false,
     "start_time": "2022-07-15T07:53:35.166767",
     "status": "completed"
    },
    "tags": []
   },
   "source": [
    "## Set the number of epochs"
   ]
  },
  {
   "cell_type": "code",
   "execution_count": 32,
   "id": "fcc410ab",
   "metadata": {
    "execution": {
     "iopub.execute_input": "2022-07-15T07:53:35.227277Z",
     "iopub.status.busy": "2022-07-15T07:53:35.225334Z",
     "iopub.status.idle": "2022-07-15T07:53:35.232378Z",
     "shell.execute_reply": "2022-07-15T07:53:35.231195Z"
    },
    "id": "YlE3mwhF7nYr",
    "papermill": {
     "duration": 0.029526,
     "end_time": "2022-07-15T07:53:35.234934",
     "exception": false,
     "start_time": "2022-07-15T07:53:35.205408",
     "status": "completed"
    },
    "tags": []
   },
   "outputs": [],
   "source": [
    "epochs = 100\n",
    "batch_size = 64"
   ]
  },
  {
   "cell_type": "markdown",
   "id": "3105ac80",
   "metadata": {
    "id": "EYb098ed743V",
    "papermill": {
     "duration": 0.018416,
     "end_time": "2022-07-15T07:53:35.272495",
     "exception": false,
     "start_time": "2022-07-15T07:53:35.254079",
     "status": "completed"
    },
    "tags": []
   },
   "source": [
    "## Data Augmentation\n",
    "\n",
    "set input mean to 0 over the dataset\n",
    "\n",
    "set each sample mean to 0\n",
    "\n",
    "divide inputs by std of the dataset\n",
    "\n",
    "divide each input by its std\n",
    "\n",
    "apply ZCA whitening\n",
    "\n",
    "randomly rotate images in the range (degrees, 0 to 180)\n",
    "\n",
    "Randomly zoom image\n",
    "\n",
    "randomly shift images horizontally (fraction of total width)\n",
    "\n",
    "randomly shift images vertically (fraction of total height)\n",
    "\n",
    "randomly flip images\n",
    "\n",
    "randomly flip images"
   ]
  },
  {
   "cell_type": "code",
   "execution_count": 33,
   "id": "463eda96",
   "metadata": {
    "execution": {
     "iopub.execute_input": "2022-07-15T07:53:35.312936Z",
     "iopub.status.busy": "2022-07-15T07:53:35.311874Z",
     "iopub.status.idle": "2022-07-15T07:53:35.428637Z",
     "shell.execute_reply": "2022-07-15T07:53:35.427251Z"
    },
    "id": "_-fcPME37-Zu",
    "papermill": {
     "duration": 0.14036,
     "end_time": "2022-07-15T07:53:35.431776",
     "exception": false,
     "start_time": "2022-07-15T07:53:35.291416",
     "status": "completed"
    },
    "tags": []
   },
   "outputs": [],
   "source": [
    "from keras.preprocessing.image import ImageDataGenerator\n",
    "\n",
    "datagen = ImageDataGenerator(\n",
    "        featurewise_center=False,\n",
    "        samplewise_center=False,\n",
    "        featurewise_std_normalization=False,  \n",
    "        samplewise_std_normalization=False, \n",
    "        zca_whitening=False, \n",
    "        rotation_range=10, \n",
    "        zoom_range = 0.1, \n",
    "        width_shift_range=0.1,\n",
    "        height_shift_range=0.1, \n",
    "        horizontal_flip=False, \n",
    "        vertical_flip=False) \n",
    "\n",
    "\n",
    "datagen.fit(X_train)"
   ]
  },
  {
   "cell_type": "markdown",
   "id": "6da77faf",
   "metadata": {
    "id": "YAShSSQr9Hp2",
    "papermill": {
     "duration": 0.019135,
     "end_time": "2022-07-15T07:53:35.470835",
     "exception": false,
     "start_time": "2022-07-15T07:53:35.451700",
     "status": "completed"
    },
    "tags": []
   },
   "source": [
    "# Training the CNN on the Training set and evaluating it on the Test set"
   ]
  },
  {
   "cell_type": "code",
   "execution_count": 34,
   "id": "113532d3",
   "metadata": {
    "execution": {
     "iopub.execute_input": "2022-07-15T07:53:35.509834Z",
     "iopub.status.busy": "2022-07-15T07:53:35.509449Z",
     "iopub.status.idle": "2022-07-15T08:25:37.469859Z",
     "shell.execute_reply": "2022-07-15T08:25:37.468305Z"
    },
    "id": "kHXoltEX9MdT",
    "outputId": "d3616960-f878-4047-8331-deaf1e9ef0c6",
    "papermill": {
     "duration": 1921.983332,
     "end_time": "2022-07-15T08:25:37.472808",
     "exception": false,
     "start_time": "2022-07-15T07:53:35.489476",
     "status": "completed"
    },
    "tags": []
   },
   "outputs": [
    {
     "name": "stderr",
     "output_type": "stream",
     "text": [
      "2022-07-15 07:53:35.690326: I tensorflow/compiler/mlir/mlir_graph_optimization_pass.cc:185] None of the MLIR Optimization Passes are enabled (registered 2)\n"
     ]
    },
    {
     "name": "stdout",
     "output_type": "stream",
     "text": [
      "Epoch 1/100\n"
     ]
    },
    {
     "name": "stderr",
     "output_type": "stream",
     "text": [
      "2022-07-15 07:53:37.804275: I tensorflow/stream_executor/cuda/cuda_dnn.cc:369] Loaded cuDNN version 8005\n"
     ]
    },
    {
     "name": "stdout",
     "output_type": "stream",
     "text": [
      "590/590 - 23s - loss: 0.3873 - accuracy: 0.8767 - val_loss: 0.0676 - val_accuracy: 0.9802\n",
      "Epoch 2/100\n",
      "590/590 - 15s - loss: 0.1197 - accuracy: 0.9636 - val_loss: 0.0496 - val_accuracy: 0.9883\n",
      "Epoch 3/100\n",
      "590/590 - 15s - loss: 0.0925 - accuracy: 0.9719 - val_loss: 0.0358 - val_accuracy: 0.9900\n",
      "Epoch 4/100\n",
      "590/590 - 15s - loss: 0.0826 - accuracy: 0.9761 - val_loss: 0.0340 - val_accuracy: 0.9902\n",
      "Epoch 5/100\n",
      "590/590 - 14s - loss: 0.0745 - accuracy: 0.9781 - val_loss: 0.0312 - val_accuracy: 0.9895\n",
      "Epoch 6/100\n",
      "590/590 - 15s - loss: 0.0695 - accuracy: 0.9794 - val_loss: 0.0220 - val_accuracy: 0.9933\n",
      "Epoch 7/100\n",
      "590/590 - 14s - loss: 0.0717 - accuracy: 0.9803 - val_loss: 0.0290 - val_accuracy: 0.9914\n",
      "Epoch 8/100\n",
      "590/590 - 15s - loss: 0.0715 - accuracy: 0.9790 - val_loss: 0.0386 - val_accuracy: 0.9902\n",
      "Epoch 9/100\n",
      "590/590 - 15s - loss: 0.0723 - accuracy: 0.9803 - val_loss: 0.0271 - val_accuracy: 0.9926\n",
      "Epoch 10/100\n",
      "590/590 - 14s - loss: 0.0726 - accuracy: 0.9805 - val_loss: 0.0275 - val_accuracy: 0.9919\n",
      "Epoch 11/100\n",
      "590/590 - 15s - loss: 0.0735 - accuracy: 0.9807 - val_loss: 0.0318 - val_accuracy: 0.9907\n",
      "Epoch 12/100\n",
      "590/590 - 15s - loss: 0.0779 - accuracy: 0.9797 - val_loss: 0.0293 - val_accuracy: 0.9929\n",
      "Epoch 13/100\n",
      "590/590 - 14s - loss: 0.0746 - accuracy: 0.9803 - val_loss: 0.0491 - val_accuracy: 0.9905\n",
      "Epoch 14/100\n",
      "590/590 - 15s - loss: 0.0839 - accuracy: 0.9792 - val_loss: 0.0339 - val_accuracy: 0.9931\n",
      "Epoch 15/100\n",
      "590/590 - 14s - loss: 0.0774 - accuracy: 0.9807 - val_loss: 0.0325 - val_accuracy: 0.9917\n",
      "Epoch 16/100\n",
      "590/590 - 15s - loss: 0.0797 - accuracy: 0.9796 - val_loss: 0.0380 - val_accuracy: 0.9926\n",
      "Epoch 17/100\n",
      "590/590 - 15s - loss: 0.0893 - accuracy: 0.9779 - val_loss: 0.0304 - val_accuracy: 0.9924\n",
      "Epoch 18/100\n",
      "590/590 - 15s - loss: 0.0842 - accuracy: 0.9799 - val_loss: 0.0389 - val_accuracy: 0.9924\n",
      "Epoch 19/100\n",
      "590/590 - 15s - loss: 0.0857 - accuracy: 0.9790 - val_loss: 0.0319 - val_accuracy: 0.9943\n",
      "Epoch 20/100\n",
      "590/590 - 15s - loss: 0.0895 - accuracy: 0.9787 - val_loss: 0.0363 - val_accuracy: 0.9907\n",
      "Epoch 21/100\n",
      "590/590 - 15s - loss: 0.0882 - accuracy: 0.9781 - val_loss: 0.0646 - val_accuracy: 0.9869\n",
      "Epoch 22/100\n",
      "590/590 - 14s - loss: 0.0931 - accuracy: 0.9784 - val_loss: 0.0359 - val_accuracy: 0.9924\n",
      "Epoch 23/100\n",
      "590/590 - 15s - loss: 0.0959 - accuracy: 0.9776 - val_loss: 0.0703 - val_accuracy: 0.9879\n",
      "Epoch 24/100\n",
      "590/590 - 15s - loss: 0.0971 - accuracy: 0.9773 - val_loss: 0.0401 - val_accuracy: 0.9902\n",
      "Epoch 25/100\n",
      "590/590 - 14s - loss: 0.0948 - accuracy: 0.9778 - val_loss: 0.0591 - val_accuracy: 0.9881\n",
      "Epoch 26/100\n",
      "590/590 - 16s - loss: 0.0983 - accuracy: 0.9769 - val_loss: 0.0859 - val_accuracy: 0.9862\n",
      "Epoch 27/100\n",
      "590/590 - 14s - loss: 0.1054 - accuracy: 0.9768 - val_loss: 0.0825 - val_accuracy: 0.9898\n",
      "Epoch 28/100\n",
      "590/590 - 16s - loss: 0.1088 - accuracy: 0.9745 - val_loss: 0.0529 - val_accuracy: 0.9860\n",
      "Epoch 29/100\n",
      "590/590 - 14s - loss: 0.1112 - accuracy: 0.9744 - val_loss: 0.0671 - val_accuracy: 0.9893\n",
      "Epoch 30/100\n",
      "590/590 - 15s - loss: 0.1131 - accuracy: 0.9744 - val_loss: 0.6643 - val_accuracy: 0.9752\n",
      "Epoch 31/100\n",
      "590/590 - 15s - loss: 0.1125 - accuracy: 0.9745 - val_loss: 0.0648 - val_accuracy: 0.9898\n",
      "Epoch 32/100\n",
      "590/590 - 15s - loss: 0.1152 - accuracy: 0.9736 - val_loss: 0.0507 - val_accuracy: 0.9893\n",
      "Epoch 33/100\n",
      "590/590 - 15s - loss: 0.1116 - accuracy: 0.9741 - val_loss: 0.0584 - val_accuracy: 0.9879\n",
      "Epoch 34/100\n",
      "590/590 - 15s - loss: 0.1137 - accuracy: 0.9741 - val_loss: 0.0716 - val_accuracy: 0.9871\n",
      "Epoch 35/100\n",
      "590/590 - 14s - loss: 0.1233 - accuracy: 0.9720 - val_loss: 0.3808 - val_accuracy: 0.9864\n",
      "Epoch 36/100\n",
      "590/590 - 14s - loss: 0.1225 - accuracy: 0.9727 - val_loss: 0.0644 - val_accuracy: 0.9910\n",
      "Epoch 37/100\n",
      "590/590 - 15s - loss: 0.1268 - accuracy: 0.9731 - val_loss: 0.1025 - val_accuracy: 0.9871\n",
      "Epoch 38/100\n",
      "590/590 - 14s - loss: 0.1258 - accuracy: 0.9735 - val_loss: 0.1115 - val_accuracy: 0.9881\n",
      "Epoch 39/100\n",
      "590/590 - 14s - loss: 0.1258 - accuracy: 0.9717 - val_loss: 0.0471 - val_accuracy: 0.9888\n",
      "Epoch 40/100\n",
      "590/590 - 14s - loss: 0.1362 - accuracy: 0.9706 - val_loss: 0.1156 - val_accuracy: 0.9879\n",
      "Epoch 41/100\n",
      "590/590 - 15s - loss: 0.1206 - accuracy: 0.9723 - val_loss: 0.2284 - val_accuracy: 0.9824\n",
      "Epoch 42/100\n",
      "590/590 - 14s - loss: 0.1356 - accuracy: 0.9709 - val_loss: 0.0971 - val_accuracy: 0.9895\n",
      "Epoch 43/100\n",
      "590/590 - 15s - loss: 0.1400 - accuracy: 0.9698 - val_loss: 0.0989 - val_accuracy: 0.9874\n",
      "Epoch 44/100\n",
      "590/590 - 15s - loss: 0.1412 - accuracy: 0.9695 - val_loss: 0.3344 - val_accuracy: 0.9860\n",
      "Epoch 45/100\n",
      "590/590 - 15s - loss: 0.1422 - accuracy: 0.9697 - val_loss: 0.1084 - val_accuracy: 0.9824\n",
      "Epoch 46/100\n",
      "590/590 - 15s - loss: 0.1509 - accuracy: 0.9692 - val_loss: 0.2663 - val_accuracy: 0.9843\n",
      "Epoch 47/100\n",
      "590/590 - 15s - loss: 0.1383 - accuracy: 0.9701 - val_loss: 0.3820 - val_accuracy: 0.9802\n",
      "Epoch 48/100\n",
      "590/590 - 14s - loss: 0.1567 - accuracy: 0.9680 - val_loss: 0.0946 - val_accuracy: 0.9888\n",
      "Epoch 49/100\n",
      "590/590 - 14s - loss: 0.1500 - accuracy: 0.9687 - val_loss: 0.1775 - val_accuracy: 0.9819\n",
      "Epoch 50/100\n",
      "590/590 - 14s - loss: 0.1601 - accuracy: 0.9660 - val_loss: 0.1396 - val_accuracy: 0.9871\n",
      "Epoch 51/100\n",
      "590/590 - 15s - loss: 0.1551 - accuracy: 0.9673 - val_loss: 0.0670 - val_accuracy: 0.9871\n",
      "Epoch 52/100\n",
      "590/590 - 15s - loss: 0.1599 - accuracy: 0.9655 - val_loss: 0.0941 - val_accuracy: 0.9862\n",
      "Epoch 53/100\n",
      "590/590 - 15s - loss: 0.1471 - accuracy: 0.9670 - val_loss: 0.1286 - val_accuracy: 0.9867\n",
      "Epoch 54/100\n",
      "590/590 - 15s - loss: 0.1577 - accuracy: 0.9664 - val_loss: 0.0878 - val_accuracy: 0.9852\n",
      "Epoch 55/100\n",
      "590/590 - 14s - loss: 0.1587 - accuracy: 0.9657 - val_loss: 0.1067 - val_accuracy: 0.9843\n",
      "Epoch 56/100\n",
      "590/590 - 15s - loss: 0.1721 - accuracy: 0.9654 - val_loss: 0.2240 - val_accuracy: 0.9776\n",
      "Epoch 57/100\n",
      "590/590 - 15s - loss: 0.1583 - accuracy: 0.9649 - val_loss: 0.0856 - val_accuracy: 0.9876\n",
      "Epoch 58/100\n",
      "590/590 - 14s - loss: 0.1640 - accuracy: 0.9646 - val_loss: 0.1396 - val_accuracy: 0.9836\n",
      "Epoch 59/100\n",
      "590/590 - 15s - loss: 0.1829 - accuracy: 0.9644 - val_loss: 0.1220 - val_accuracy: 0.9857\n",
      "Epoch 60/100\n",
      "590/590 - 15s - loss: 0.1808 - accuracy: 0.9639 - val_loss: 0.2130 - val_accuracy: 0.9829\n",
      "Epoch 61/100\n",
      "590/590 - 16s - loss: 0.1762 - accuracy: 0.9632 - val_loss: 0.0905 - val_accuracy: 0.9876\n",
      "Epoch 62/100\n",
      "590/590 - 14s - loss: 0.1780 - accuracy: 0.9634 - val_loss: 0.1491 - val_accuracy: 0.9864\n",
      "Epoch 63/100\n",
      "590/590 - 14s - loss: 0.1782 - accuracy: 0.9641 - val_loss: 0.0609 - val_accuracy: 0.9860\n",
      "Epoch 64/100\n",
      "590/590 - 15s - loss: 0.1725 - accuracy: 0.9625 - val_loss: 0.0803 - val_accuracy: 0.9852\n",
      "Epoch 65/100\n",
      "590/590 - 14s - loss: 0.3786 - accuracy: 0.9615 - val_loss: 0.1193 - val_accuracy: 0.9871\n",
      "Epoch 66/100\n",
      "590/590 - 15s - loss: 0.1814 - accuracy: 0.9634 - val_loss: 0.0709 - val_accuracy: 0.9857\n",
      "Epoch 67/100\n",
      "590/590 - 15s - loss: 0.1853 - accuracy: 0.9623 - val_loss: 0.1432 - val_accuracy: 0.9848\n",
      "Epoch 68/100\n",
      "590/590 - 14s - loss: 0.1964 - accuracy: 0.9604 - val_loss: 0.5252 - val_accuracy: 0.9857\n",
      "Epoch 69/100\n",
      "590/590 - 15s - loss: 0.2604 - accuracy: 0.9619 - val_loss: 0.1092 - val_accuracy: 0.9874\n",
      "Epoch 70/100\n",
      "590/590 - 14s - loss: 0.1966 - accuracy: 0.9611 - val_loss: 0.1587 - val_accuracy: 0.9843\n",
      "Epoch 71/100\n",
      "590/590 - 15s - loss: 0.1908 - accuracy: 0.9593 - val_loss: 0.1695 - val_accuracy: 0.9848\n",
      "Epoch 72/100\n",
      "590/590 - 15s - loss: 0.1727 - accuracy: 0.9619 - val_loss: 0.3881 - val_accuracy: 0.9798\n",
      "Epoch 73/100\n",
      "590/590 - 15s - loss: 0.2125 - accuracy: 0.9587 - val_loss: 2.9612 - val_accuracy: 0.9605\n",
      "Epoch 74/100\n",
      "590/590 - 16s - loss: 0.2325 - accuracy: 0.9570 - val_loss: 0.3786 - val_accuracy: 0.9836\n",
      "Epoch 75/100\n",
      "590/590 - 15s - loss: 0.2528 - accuracy: 0.9579 - val_loss: 0.1434 - val_accuracy: 0.9857\n",
      "Epoch 76/100\n",
      "590/590 - 16s - loss: 1.5529 - accuracy: 0.9562 - val_loss: 1.1171 - val_accuracy: 0.9774\n",
      "Epoch 77/100\n",
      "590/590 - 15s - loss: 0.2281 - accuracy: 0.9573 - val_loss: 0.3997 - val_accuracy: 0.9726\n",
      "Epoch 78/100\n",
      "590/590 - 16s - loss: 0.2274 - accuracy: 0.9554 - val_loss: 0.2015 - val_accuracy: 0.9838\n",
      "Epoch 79/100\n",
      "590/590 - 15s - loss: 0.2153 - accuracy: 0.9574 - val_loss: 0.7859 - val_accuracy: 0.9776\n",
      "Epoch 80/100\n",
      "590/590 - 15s - loss: 0.2137 - accuracy: 0.9560 - val_loss: 0.0956 - val_accuracy: 0.9821\n",
      "Epoch 81/100\n",
      "590/590 - 15s - loss: 0.6109 - accuracy: 0.9553 - val_loss: 0.2888 - val_accuracy: 0.9757\n",
      "Epoch 82/100\n",
      "590/590 - 15s - loss: 0.2024 - accuracy: 0.9587 - val_loss: 0.1424 - val_accuracy: 0.9864\n",
      "Epoch 83/100\n",
      "590/590 - 15s - loss: 0.2345 - accuracy: 0.9556 - val_loss: 0.4321 - val_accuracy: 0.9817\n",
      "Epoch 84/100\n",
      "590/590 - 15s - loss: 0.2501 - accuracy: 0.9536 - val_loss: 0.4157 - val_accuracy: 0.9745\n",
      "Epoch 85/100\n",
      "590/590 - 15s - loss: 0.2873 - accuracy: 0.9530 - val_loss: 0.1478 - val_accuracy: 0.9819\n",
      "Epoch 86/100\n",
      "590/590 - 14s - loss: 0.2570 - accuracy: 0.9534 - val_loss: 0.3006 - val_accuracy: 0.9814\n",
      "Epoch 87/100\n",
      "590/590 - 15s - loss: 0.2685 - accuracy: 0.9541 - val_loss: 0.7523 - val_accuracy: 0.9762\n",
      "Epoch 88/100\n",
      "590/590 - 15s - loss: 0.2553 - accuracy: 0.9533 - val_loss: 0.5539 - val_accuracy: 0.9805\n",
      "Epoch 89/100\n",
      "590/590 - 16s - loss: 0.2399 - accuracy: 0.9546 - val_loss: 0.1329 - val_accuracy: 0.9867\n",
      "Epoch 90/100\n",
      "590/590 - 14s - loss: 0.2456 - accuracy: 0.9512 - val_loss: 0.3090 - val_accuracy: 0.9805\n",
      "Epoch 91/100\n",
      "590/590 - 16s - loss: 0.2287 - accuracy: 0.9548 - val_loss: 0.2562 - val_accuracy: 0.9788\n",
      "Epoch 92/100\n",
      "590/590 - 14s - loss: 1.7542 - accuracy: 0.9528 - val_loss: 0.0739 - val_accuracy: 0.9840\n",
      "Epoch 93/100\n",
      "590/590 - 14s - loss: 0.2509 - accuracy: 0.9512 - val_loss: 0.7870 - val_accuracy: 0.9762\n",
      "Epoch 94/100\n",
      "590/590 - 15s - loss: 0.2994 - accuracy: 0.9522 - val_loss: 0.2736 - val_accuracy: 0.9848\n",
      "Epoch 95/100\n",
      "590/590 - 14s - loss: 0.2509 - accuracy: 0.9508 - val_loss: 0.1975 - val_accuracy: 0.9814\n",
      "Epoch 96/100\n",
      "590/590 - 15s - loss: 0.3014 - accuracy: 0.9493 - val_loss: 0.0962 - val_accuracy: 0.9874\n",
      "Epoch 97/100\n",
      "590/590 - 14s - loss: 0.2560 - accuracy: 0.9501 - val_loss: 0.3185 - val_accuracy: 0.9767\n",
      "Epoch 98/100\n",
      "590/590 - 15s - loss: 0.2626 - accuracy: 0.9511 - val_loss: 0.5297 - val_accuracy: 0.9824\n",
      "Epoch 99/100\n",
      "590/590 - 14s - loss: 0.2749 - accuracy: 0.9486 - val_loss: 0.3202 - val_accuracy: 0.9824\n",
      "Epoch 100/100\n",
      "590/590 - 15s - loss: 0.2567 - accuracy: 0.9494 - val_loss: 9.1649 - val_accuracy: 0.9329\n"
     ]
    }
   ],
   "source": [
    "model = cnn.fit(datagen.flow(X_train,Y_train, batch_size=batch_size),\n",
    "                              epochs = epochs, validation_data = (X_val,Y_val),\n",
    "                              verbose = 2, steps_per_epoch=X_train.shape[0] // batch_size\n",
    "                              , callbacks=[learning_rate_reduction])"
   ]
  },
  {
   "cell_type": "markdown",
   "id": "578186a6",
   "metadata": {
    "papermill": {
     "duration": 0.032293,
     "end_time": "2022-07-15T08:25:37.537074",
     "exception": false,
     "start_time": "2022-07-15T08:25:37.504781",
     "status": "completed"
    },
    "tags": []
   },
   "source": [
    "## Confusion Matrics"
   ]
  },
  {
   "cell_type": "code",
   "execution_count": 35,
   "id": "23fc7f93",
   "metadata": {
    "execution": {
     "iopub.execute_input": "2022-07-15T08:25:37.604434Z",
     "iopub.status.busy": "2022-07-15T08:25:37.602232Z",
     "iopub.status.idle": "2022-07-15T08:25:37.614216Z",
     "shell.execute_reply": "2022-07-15T08:25:37.612777Z"
    },
    "papermill": {
     "duration": 0.048431,
     "end_time": "2022-07-15T08:25:37.617115",
     "exception": false,
     "start_time": "2022-07-15T08:25:37.568684",
     "status": "completed"
    },
    "tags": []
   },
   "outputs": [],
   "source": [
    "def plot_confusion_matrix(cm, classes,normalize=False,title='Confusion matrix',cmap=plt.cm.Blues):\n",
    "    plt.imshow(cm, interpolation='nearest', cmap=cmap)\n",
    "    plt.title(title)\n",
    "    plt.colorbar()\n",
    "    tick_marks = np.arange(len(classes))\n",
    "    plt.xticks(tick_marks, classes, rotation=45)\n",
    "    plt.yticks(tick_marks, classes)\n",
    "\n",
    "    if normalize:\n",
    "        cm = cm.astype('float') / cm.sum(axis=1)[:, np.newaxis]\n",
    "\n",
    "    thresh = cm.max() / 2.\n",
    "    for i, j in itertools.product(range(cm.shape[0]), range(cm.shape[1])):\n",
    "        plt.text(j, i, cm[i, j],\n",
    "                 horizontalalignment=\"center\",\n",
    "                 color=\"white\" if cm[i, j] > thresh else \"black\")\n",
    "\n",
    "    plt.tight_layout()\n",
    "    plt.ylabel('True label')\n",
    "    plt.xlabel('Predicted label')"
   ]
  },
  {
   "cell_type": "code",
   "execution_count": 36,
   "id": "a7f9b38c",
   "metadata": {
    "execution": {
     "iopub.execute_input": "2022-07-15T08:25:37.683704Z",
     "iopub.status.busy": "2022-07-15T08:25:37.682541Z",
     "iopub.status.idle": "2022-07-15T08:25:39.015379Z",
     "shell.execute_reply": "2022-07-15T08:25:39.014024Z"
    },
    "papermill": {
     "duration": 1.367461,
     "end_time": "2022-07-15T08:25:39.017885",
     "exception": false,
     "start_time": "2022-07-15T08:25:37.650424",
     "status": "completed"
    },
    "tags": []
   },
   "outputs": [
    {
     "data": {
      "image/png": "[encoded data removed]",
      "text/plain": [
       "<Figure size 1080x576 with 2 Axes>"
      ]
     },
     "metadata": {},
     "output_type": "display_data"
    }
   ],
   "source": [
    "from sklearn.metrics import confusion_matrix\n",
    "import itertools\n",
    "# Predict the values from the validation dataset\n",
    "Y_pred = cnn.predict(X_val)\n",
    "# Convert predictions classes to one hot vectors \n",
    "Y_pred_classes = np.argmax(Y_pred,axis = 1) \n",
    "# Convert validation observations to one hot vectors\n",
    "Y_true = np.argmax(Y_val,axis = 1) \n",
    "# compute the confusion matrix\n",
    "confusion_mtx = confusion_matrix(Y_true, Y_pred_classes) \n",
    "# plot the confusion matrix\n",
    "plot_confusion_matrix(confusion_mtx, classes = range(10)) "
   ]
  },
  {
   "cell_type": "markdown",
   "id": "59b0514a",
   "metadata": {
    "id": "hLJ9aAdV_ISF",
    "papermill": {
     "duration": 0.032074,
     "end_time": "2022-07-15T08:25:39.084269",
     "exception": false,
     "start_time": "2022-07-15T08:25:39.052195",
     "status": "completed"
    },
    "tags": []
   },
   "source": [
    "# Submission"
   ]
  },
  {
   "cell_type": "code",
   "execution_count": 37,
   "id": "d7654646",
   "metadata": {
    "execution": {
     "iopub.execute_input": "2022-07-15T08:25:39.151806Z",
     "iopub.status.busy": "2022-07-15T08:25:39.150637Z",
     "iopub.status.idle": "2022-07-15T08:25:42.074416Z",
     "shell.execute_reply": "2022-07-15T08:25:42.073030Z"
    },
    "id": "p_pLckMxBP_P",
    "outputId": "bf7f0504-42e5-4a2b-eb54-6936cd6ef7a1",
    "papermill": {
     "duration": 2.960268,
     "end_time": "2022-07-15T08:25:42.077060",
     "exception": false,
     "start_time": "2022-07-15T08:25:39.116792",
     "status": "completed"
    },
    "tags": []
   },
   "outputs": [
    {
     "data": {
      "text/html": [
       "<div>\n",
       "<style scoped>\n",
       "    .dataframe tbody tr th:only-of-type {\n",
       "        vertical-align: middle;\n",
       "    }\n",
       "\n",
       "    .dataframe tbody tr th {\n",
       "        vertical-align: top;\n",
       "    }\n",
       "\n",
       "    .dataframe thead th {\n",
       "        text-align: right;\n",
       "    }\n",
       "</style>\n",
       "<table border=\"1\" class=\"dataframe\">\n",
       "  <thead>\n",
       "    <tr style=\"text-align: right;\">\n",
       "      <th></th>\n",
       "      <th>ImageId</th>\n",
       "      <th>Label</th>\n",
       "    </tr>\n",
       "  </thead>\n",
       "  <tbody>\n",
       "    <tr>\n",
       "      <th>0</th>\n",
       "      <td>1</td>\n",
       "      <td>2</td>\n",
       "    </tr>\n",
       "    <tr>\n",
       "      <th>1</th>\n",
       "      <td>2</td>\n",
       "      <td>0</td>\n",
       "    </tr>\n",
       "    <tr>\n",
       "      <th>2</th>\n",
       "      <td>3</td>\n",
       "      <td>9</td>\n",
       "    </tr>\n",
       "    <tr>\n",
       "      <th>3</th>\n",
       "      <td>4</td>\n",
       "      <td>0</td>\n",
       "    </tr>\n",
       "    <tr>\n",
       "      <th>4</th>\n",
       "      <td>5</td>\n",
       "      <td>3</td>\n",
       "    </tr>\n",
       "  </tbody>\n",
       "</table>\n",
       "</div>"
      ],
      "text/plain": [
       "   ImageId  Label\n",
       "0        1      2\n",
       "1        2      0\n",
       "2        3      9\n",
       "3        4      0\n",
       "4        5      3"
      ]
     },
     "execution_count": 37,
     "metadata": {},
     "output_type": "execute_result"
    }
   ],
   "source": [
    "test_pred = pd.DataFrame( cnn.predict([test]))\n",
    "test_pred = pd.DataFrame(test_pred.idxmax(axis = 1))\n",
    "test_pred.index.name = 'ImageId'\n",
    "test_pred = test_pred.rename(columns = {0: 'Label'}).reset_index()\n",
    "test_pred['ImageId'] = test_pred['ImageId'] + 1\n",
    "\n",
    "test_pred.head()"
   ]
  },
  {
   "cell_type": "code",
   "execution_count": 38,
   "id": "eefb162e",
   "metadata": {
    "execution": {
     "iopub.execute_input": "2022-07-15T08:25:42.147199Z",
     "iopub.status.busy": "2022-07-15T08:25:42.145192Z",
     "iopub.status.idle": "2022-07-15T08:25:42.193596Z",
     "shell.execute_reply": "2022-07-15T08:25:42.192461Z"
    },
    "id": "NTYwQoevBfMH",
    "papermill": {
     "duration": 0.084432,
     "end_time": "2022-07-15T08:25:42.196215",
     "exception": false,
     "start_time": "2022-07-15T08:25:42.111783",
     "status": "completed"
    },
    "tags": []
   },
   "outputs": [],
   "source": [
    "test_pred.to_csv('submission1.csv', index = False)"
   ]
  }
 ],
 "metadata": {
  "kernelspec": {
   "display_name": "Python 3",
   "language": "python",
   "name": "python3"
  },
  "language_info": {
   "codemirror_mode": {
    "name": "ipython",
    "version": 3
   },
   "file_extension": ".py",
   "mimetype": "text/x-python",
   "name": "python",
   "nbconvert_exporter": "python",
   "pygments_lexer": "ipython3",
   "version": "3.8.8"
  },
  "papermill": {
   "default_parameters": {},
   "duration": 1966.314422,
   "end_time": "2022-07-15T08:25:45.524983",
   "environment_variables": {},
   "exception": null,
   "input_path": "__notebook__.ipynb",
   "output_path": "__notebook__.ipynb",
   "parameters": {},
   "start_time": "2022-07-15T07:52:59.210561",
   "version": "2.3.4"
  }
 },
 "nbformat": 4,
 "nbformat_minor": 5
}
