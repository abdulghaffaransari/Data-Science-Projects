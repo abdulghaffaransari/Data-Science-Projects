{
 "cells": [
  {
   "cell_type": "markdown",
   "id": "ee1ddbf3",
   "metadata": {
    "papermill": {
     "duration": 0.007259,
     "end_time": "2022-07-18T15:32:26.530527",
     "exception": false,
     "start_time": "2022-07-18T15:32:26.523268",
     "status": "completed"
    },
    "tags": []
   },
   "source": [
    "# Import libs"
   ]
  },
  {
   "cell_type": "code",
   "execution_count": 1,
   "id": "b1a8534b",
   "metadata": {
    "_cell_guid": "b1076dfc-b9ad-4769-8c92-a6c4dae69d19",
    "_uuid": "8f2839f25d086af736a60e9eeb907d3b93b6e0e5",
    "execution": {
     "iopub.execute_input": "2022-07-18T15:32:26.546648Z",
     "iopub.status.busy": "2022-07-18T15:32:26.545665Z",
     "iopub.status.idle": "2022-07-18T15:32:28.178174Z",
     "shell.execute_reply": "2022-07-18T15:32:28.176992Z"
    },
    "papermill": {
     "duration": 1.644114,
     "end_time": "2022-07-18T15:32:28.181011",
     "exception": false,
     "start_time": "2022-07-18T15:32:26.536897",
     "status": "completed"
    },
    "tags": []
   },
   "outputs": [],
   "source": [
    "import numpy as np\n",
    "import pandas as pd\n",
    "import matplotlib.pyplot as plt\n",
    "from sklearn.naive_bayes import GaussianNB\n",
    "from sklearn.preprocessing import LabelEncoder\n",
    "from matplotlib import ticker\n",
    "from sklearn.ensemble import RandomForestClassifier\n",
    "from sklearn.preprocessing import LabelEncoder\n",
    "import seaborn as sns\n",
    "import warnings\n",
    "\n",
    "# options\n",
    "warnings.filterwarnings('ignore')"
   ]
  },
  {
   "cell_type": "markdown",
   "id": "6a1ea315",
   "metadata": {
    "papermill": {
     "duration": 0.006033,
     "end_time": "2022-07-18T15:32:28.193892",
     "exception": false,
     "start_time": "2022-07-18T15:32:28.187859",
     "status": "completed"
    },
    "tags": []
   },
   "source": [
    "# Import Dataset"
   ]
  },
  {
   "cell_type": "code",
   "execution_count": 2,
   "id": "ca9a7b6e",
   "metadata": {
    "execution": {
     "iopub.execute_input": "2022-07-18T15:32:28.208825Z",
     "iopub.status.busy": "2022-07-18T15:32:28.208217Z",
     "iopub.status.idle": "2022-07-18T15:32:31.070591Z",
     "shell.execute_reply": "2022-07-18T15:32:31.069323Z"
    },
    "papermill": {
     "duration": 2.873312,
     "end_time": "2022-07-18T15:32:31.073316",
     "exception": false,
     "start_time": "2022-07-18T15:32:28.200004",
     "status": "completed"
    },
    "tags": []
   },
   "outputs": [],
   "source": [
    "train = pd.read_csv('../input/devday22-competition-datascience/train.csv')\n",
    "test = pd.read_csv('../input/devday22-competition-datascience/test.csv')\n",
    "submission = pd.read_csv('../input/devday22-competition-datascience/sample_submission.csv')\n"
   ]
  },
  {
   "cell_type": "markdown",
   "id": "3792d4de",
   "metadata": {
    "papermill": {
     "duration": 0.00616,
     "end_time": "2022-07-18T15:32:31.086108",
     "exception": false,
     "start_time": "2022-07-18T15:32:31.079948",
     "status": "completed"
    },
    "tags": []
   },
   "source": [
    "# Data Analysis"
   ]
  },
  {
   "cell_type": "code",
   "execution_count": 3,
   "id": "eee2271f",
   "metadata": {
    "execution": {
     "iopub.execute_input": "2022-07-18T15:32:31.100946Z",
     "iopub.status.busy": "2022-07-18T15:32:31.100506Z",
     "iopub.status.idle": "2022-07-18T15:32:31.134916Z",
     "shell.execute_reply": "2022-07-18T15:32:31.134012Z"
    },
    "papermill": {
     "duration": 0.044116,
     "end_time": "2022-07-18T15:32:31.137060",
     "exception": false,
     "start_time": "2022-07-18T15:32:31.092944",
     "status": "completed"
    },
    "tags": []
   },
   "outputs": [
    {
     "data": {
      "text/html": [
       "<div>\n",
       "<style scoped>\n",
       "    .dataframe tbody tr th:only-of-type {\n",
       "        vertical-align: middle;\n",
       "    }\n",
       "\n",
       "    .dataframe tbody tr th {\n",
       "        vertical-align: top;\n",
       "    }\n",
       "\n",
       "    .dataframe thead th {\n",
       "        text-align: right;\n",
       "    }\n",
       "</style>\n",
       "<table border=\"1\" class=\"dataframe\">\n",
       "  <thead>\n",
       "    <tr style=\"text-align: right;\">\n",
       "      <th></th>\n",
       "      <th>ID</th>\n",
       "      <th>sequence1</th>\n",
       "      <th>sequence2</th>\n",
       "      <th>sequence3</th>\n",
       "      <th>sequence4</th>\n",
       "      <th>sequence5</th>\n",
       "      <th>sequence6</th>\n",
       "      <th>sequence7</th>\n",
       "      <th>sequence8</th>\n",
       "      <th>sequence9</th>\n",
       "      <th>...</th>\n",
       "      <th>M</th>\n",
       "      <th>N</th>\n",
       "      <th>O</th>\n",
       "      <th>P</th>\n",
       "      <th>Q</th>\n",
       "      <th>R</th>\n",
       "      <th>S</th>\n",
       "      <th>T</th>\n",
       "      <th>U</th>\n",
       "      <th>mutation</th>\n",
       "    </tr>\n",
       "  </thead>\n",
       "  <tbody>\n",
       "    <tr>\n",
       "      <th>0</th>\n",
       "      <td>0</td>\n",
       "      <td>ATGCGCTTAATT</td>\n",
       "      <td>ATGCGCTTAATT</td>\n",
       "      <td>ATGCGCTTAATT</td>\n",
       "      <td>ATGCGCTTAATT</td>\n",
       "      <td>ATGCGCTTAATT</td>\n",
       "      <td>AAATCAGCTAAA</td>\n",
       "      <td>ATTCCATATTTT</td>\n",
       "      <td>ATTCCATATTTT</td>\n",
       "      <td>AAATCAGCTAAA</td>\n",
       "      <td>...</td>\n",
       "      <td>0.759439</td>\n",
       "      <td>0.795549</td>\n",
       "      <td>0.681917</td>\n",
       "      <td>0.621672</td>\n",
       "      <td>0.592184</td>\n",
       "      <td>0.791921</td>\n",
       "      <td>0.815254</td>\n",
       "      <td>0.965006</td>\n",
       "      <td>0.665915</td>\n",
       "      <td>0</td>\n",
       "    </tr>\n",
       "    <tr>\n",
       "      <th>1</th>\n",
       "      <td>2</td>\n",
       "      <td>ATGCGCTTAATT</td>\n",
       "      <td>ATGCGCTTAATT</td>\n",
       "      <td>GATCGTAGCTAA</td>\n",
       "      <td>ATGCGCTTAATT</td>\n",
       "      <td>ATGCGCTTAATT</td>\n",
       "      <td>AAATCAGCTAAA</td>\n",
       "      <td>ATTCCATATTTT</td>\n",
       "      <td>ATTCCATATTTT</td>\n",
       "      <td>AAATCAGCTAAA</td>\n",
       "      <td>...</td>\n",
       "      <td>0.343255</td>\n",
       "      <td>0.616352</td>\n",
       "      <td>0.793687</td>\n",
       "      <td>0.552877</td>\n",
       "      <td>0.352113</td>\n",
       "      <td>0.388835</td>\n",
       "      <td>0.412303</td>\n",
       "      <td>0.292696</td>\n",
       "      <td>0.549452</td>\n",
       "      <td>0</td>\n",
       "    </tr>\n",
       "    <tr>\n",
       "      <th>2</th>\n",
       "      <td>5</td>\n",
       "      <td>ATGCGCTTAATT</td>\n",
       "      <td>ATGCGCTTAATT</td>\n",
       "      <td>ATGCGCTTAATT</td>\n",
       "      <td>ATGCGCTTAATT</td>\n",
       "      <td>ATGCGCTTAATT</td>\n",
       "      <td>AAATCAGCTAAA</td>\n",
       "      <td>ATTCCATATTTT</td>\n",
       "      <td>ATTCCATATTTT</td>\n",
       "      <td>AAATCAGCTAAA</td>\n",
       "      <td>...</td>\n",
       "      <td>0.524760</td>\n",
       "      <td>0.580085</td>\n",
       "      <td>0.301498</td>\n",
       "      <td>0.261055</td>\n",
       "      <td>0.193988</td>\n",
       "      <td>0.935688</td>\n",
       "      <td>0.685868</td>\n",
       "      <td>0.277694</td>\n",
       "      <td>0.428115</td>\n",
       "      <td>0</td>\n",
       "    </tr>\n",
       "    <tr>\n",
       "      <th>3</th>\n",
       "      <td>7</td>\n",
       "      <td>ATGCGCTTAATT</td>\n",
       "      <td>ATGCGCTTAATT</td>\n",
       "      <td>ATGCGCTTAATT</td>\n",
       "      <td>ATGCGCTTAATT</td>\n",
       "      <td>ATGCGCTTAATT</td>\n",
       "      <td>ATTCCATATTTT</td>\n",
       "      <td>AAATCAGCTAAA</td>\n",
       "      <td>TAACATACAGAG</td>\n",
       "      <td>TAACATACAGAG</td>\n",
       "      <td>...</td>\n",
       "      <td>0.943545</td>\n",
       "      <td>0.209744</td>\n",
       "      <td>0.670577</td>\n",
       "      <td>0.772650</td>\n",
       "      <td>0.845751</td>\n",
       "      <td>0.507320</td>\n",
       "      <td>0.927204</td>\n",
       "      <td>0.605755</td>\n",
       "      <td>0.454155</td>\n",
       "      <td>1</td>\n",
       "    </tr>\n",
       "    <tr>\n",
       "      <th>4</th>\n",
       "      <td>9</td>\n",
       "      <td>ATGCGCTTAATT</td>\n",
       "      <td>GATCGTAGCTAA</td>\n",
       "      <td>ATGCGCTTAATT</td>\n",
       "      <td>GATCGTAGCTAA</td>\n",
       "      <td>GATCGTAGCTAA</td>\n",
       "      <td>ATTCCATATTTT</td>\n",
       "      <td>AAATCAGCTAAA</td>\n",
       "      <td>ATTCCATATTTT</td>\n",
       "      <td>TAACATACAGAG</td>\n",
       "      <td>...</td>\n",
       "      <td>0.397622</td>\n",
       "      <td>0.506096</td>\n",
       "      <td>0.200673</td>\n",
       "      <td>0.734145</td>\n",
       "      <td>0.521673</td>\n",
       "      <td>0.365571</td>\n",
       "      <td>0.416094</td>\n",
       "      <td>0.584799</td>\n",
       "      <td>0.447149</td>\n",
       "      <td>1</td>\n",
       "    </tr>\n",
       "  </tbody>\n",
       "</table>\n",
       "<p>5 rows × 32 columns</p>\n",
       "</div>"
      ],
      "text/plain": [
       "   ID     sequence1     sequence2     sequence3     sequence4     sequence5  \\\n",
       "0   0  ATGCGCTTAATT  ATGCGCTTAATT  ATGCGCTTAATT  ATGCGCTTAATT  ATGCGCTTAATT   \n",
       "1   2  ATGCGCTTAATT  ATGCGCTTAATT  GATCGTAGCTAA  ATGCGCTTAATT  ATGCGCTTAATT   \n",
       "2   5  ATGCGCTTAATT  ATGCGCTTAATT  ATGCGCTTAATT  ATGCGCTTAATT  ATGCGCTTAATT   \n",
       "3   7  ATGCGCTTAATT  ATGCGCTTAATT  ATGCGCTTAATT  ATGCGCTTAATT  ATGCGCTTAATT   \n",
       "4   9  ATGCGCTTAATT  GATCGTAGCTAA  ATGCGCTTAATT  GATCGTAGCTAA  GATCGTAGCTAA   \n",
       "\n",
       "      sequence6     sequence7     sequence8     sequence9  ...         M  \\\n",
       "0  AAATCAGCTAAA  ATTCCATATTTT  ATTCCATATTTT  AAATCAGCTAAA  ...  0.759439   \n",
       "1  AAATCAGCTAAA  ATTCCATATTTT  ATTCCATATTTT  AAATCAGCTAAA  ...  0.343255   \n",
       "2  AAATCAGCTAAA  ATTCCATATTTT  ATTCCATATTTT  AAATCAGCTAAA  ...  0.524760   \n",
       "3  ATTCCATATTTT  AAATCAGCTAAA  TAACATACAGAG  TAACATACAGAG  ...  0.943545   \n",
       "4  ATTCCATATTTT  AAATCAGCTAAA  ATTCCATATTTT  TAACATACAGAG  ...  0.397622   \n",
       "\n",
       "          N         O         P         Q         R         S         T  \\\n",
       "0  0.795549  0.681917  0.621672  0.592184  0.791921  0.815254  0.965006   \n",
       "1  0.616352  0.793687  0.552877  0.352113  0.388835  0.412303  0.292696   \n",
       "2  0.580085  0.301498  0.261055  0.193988  0.935688  0.685868  0.277694   \n",
       "3  0.209744  0.670577  0.772650  0.845751  0.507320  0.927204  0.605755   \n",
       "4  0.506096  0.200673  0.734145  0.521673  0.365571  0.416094  0.584799   \n",
       "\n",
       "          U  mutation  \n",
       "0  0.665915         0  \n",
       "1  0.549452         0  \n",
       "2  0.428115         0  \n",
       "3  0.454155         1  \n",
       "4  0.447149         1  \n",
       "\n",
       "[5 rows x 32 columns]"
      ]
     },
     "execution_count": 3,
     "metadata": {},
     "output_type": "execute_result"
    }
   ],
   "source": [
    "train.head()"
   ]
  },
  {
   "cell_type": "code",
   "execution_count": 4,
   "id": "4afd3b66",
   "metadata": {
    "execution": {
     "iopub.execute_input": "2022-07-18T15:32:31.152448Z",
     "iopub.status.busy": "2022-07-18T15:32:31.151735Z",
     "iopub.status.idle": "2022-07-18T15:32:31.174558Z",
     "shell.execute_reply": "2022-07-18T15:32:31.173288Z"
    },
    "papermill": {
     "duration": 0.033369,
     "end_time": "2022-07-18T15:32:31.177113",
     "exception": false,
     "start_time": "2022-07-18T15:32:31.143744",
     "status": "completed"
    },
    "tags": []
   },
   "outputs": [
    {
     "data": {
      "text/html": [
       "<div>\n",
       "<style scoped>\n",
       "    .dataframe tbody tr th:only-of-type {\n",
       "        vertical-align: middle;\n",
       "    }\n",
       "\n",
       "    .dataframe tbody tr th {\n",
       "        vertical-align: top;\n",
       "    }\n",
       "\n",
       "    .dataframe thead th {\n",
       "        text-align: right;\n",
       "    }\n",
       "</style>\n",
       "<table border=\"1\" class=\"dataframe\">\n",
       "  <thead>\n",
       "    <tr style=\"text-align: right;\">\n",
       "      <th></th>\n",
       "      <th>ID</th>\n",
       "      <th>sequence1</th>\n",
       "      <th>sequence2</th>\n",
       "      <th>sequence3</th>\n",
       "      <th>sequence4</th>\n",
       "      <th>sequence5</th>\n",
       "      <th>sequence6</th>\n",
       "      <th>sequence7</th>\n",
       "      <th>sequence8</th>\n",
       "      <th>sequence9</th>\n",
       "      <th>...</th>\n",
       "      <th>L</th>\n",
       "      <th>M</th>\n",
       "      <th>N</th>\n",
       "      <th>O</th>\n",
       "      <th>P</th>\n",
       "      <th>Q</th>\n",
       "      <th>R</th>\n",
       "      <th>S</th>\n",
       "      <th>T</th>\n",
       "      <th>U</th>\n",
       "    </tr>\n",
       "  </thead>\n",
       "  <tbody>\n",
       "    <tr>\n",
       "      <th>0</th>\n",
       "      <td>1</td>\n",
       "      <td>ATGCGCTTAATT</td>\n",
       "      <td>ATGCGCTTAATT</td>\n",
       "      <td>GATCGTAGCTAA</td>\n",
       "      <td>ATGCGCTTAATT</td>\n",
       "      <td>GATCGTAGCTAA</td>\n",
       "      <td>ATTCCATATTTT</td>\n",
       "      <td>AAATCAGCTAAA</td>\n",
       "      <td>ATTCCATATTTT</td>\n",
       "      <td>AAATCAGCTAAA</td>\n",
       "      <td>...</td>\n",
       "      <td>0.328929</td>\n",
       "      <td>0.386385</td>\n",
       "      <td>0.541366</td>\n",
       "      <td>0.388982</td>\n",
       "      <td>0.357778</td>\n",
       "      <td>0.600044</td>\n",
       "      <td>0.408701</td>\n",
       "      <td>0.399353</td>\n",
       "      <td>0.927406</td>\n",
       "      <td>0.493729</td>\n",
       "    </tr>\n",
       "    <tr>\n",
       "      <th>1</th>\n",
       "      <td>3</td>\n",
       "      <td>ATGCGCTTAATT</td>\n",
       "      <td>ATGCGCTTAATT</td>\n",
       "      <td>ATGCGCTTAATT</td>\n",
       "      <td>ATGCGCTTAATT</td>\n",
       "      <td>ATGCGCTTAATT</td>\n",
       "      <td>AAATCAGCTAAA</td>\n",
       "      <td>ATTCCATATTTT</td>\n",
       "      <td>ATTCCATATTTT</td>\n",
       "      <td>AAATCAGCTAAA</td>\n",
       "      <td>...</td>\n",
       "      <td>0.707663</td>\n",
       "      <td>0.831147</td>\n",
       "      <td>0.807807</td>\n",
       "      <td>0.800032</td>\n",
       "      <td>0.619147</td>\n",
       "      <td>0.221789</td>\n",
       "      <td>0.897617</td>\n",
       "      <td>0.633669</td>\n",
       "      <td>0.760318</td>\n",
       "      <td>0.934242</td>\n",
       "    </tr>\n",
       "    <tr>\n",
       "      <th>2</th>\n",
       "      <td>4</td>\n",
       "      <td>ATGCGCTTAATT</td>\n",
       "      <td>ATGCGCTTAATT</td>\n",
       "      <td>ATGCGCTTAATT</td>\n",
       "      <td>ATGCGCTTAATT</td>\n",
       "      <td>GATCGTAGCTAA</td>\n",
       "      <td>AAATCAGCTAAA</td>\n",
       "      <td>AAATCAGCTAAA</td>\n",
       "      <td>ATTCCATATTTT</td>\n",
       "      <td>AAATCAGCTAAA</td>\n",
       "      <td>...</td>\n",
       "      <td>0.274514</td>\n",
       "      <td>0.338818</td>\n",
       "      <td>0.277308</td>\n",
       "      <td>0.610578</td>\n",
       "      <td>0.128291</td>\n",
       "      <td>0.578764</td>\n",
       "      <td>0.279167</td>\n",
       "      <td>0.351103</td>\n",
       "      <td>0.357084</td>\n",
       "      <td>0.328960</td>\n",
       "    </tr>\n",
       "    <tr>\n",
       "      <th>3</th>\n",
       "      <td>6</td>\n",
       "      <td>ATGCGCTTAATT</td>\n",
       "      <td>ATGCGCTTAATT</td>\n",
       "      <td>ATGCGCTTAATT</td>\n",
       "      <td>ATGCGCTTAATT</td>\n",
       "      <td>GATCGTAGCTAA</td>\n",
       "      <td>ATTCCATATTTT</td>\n",
       "      <td>ATTCCATATTTT</td>\n",
       "      <td>ATTCCATATTTT</td>\n",
       "      <td>AAATCAGCTAAA</td>\n",
       "      <td>...</td>\n",
       "      <td>0.707840</td>\n",
       "      <td>0.678466</td>\n",
       "      <td>0.747125</td>\n",
       "      <td>0.678212</td>\n",
       "      <td>0.553609</td>\n",
       "      <td>0.281719</td>\n",
       "      <td>0.768782</td>\n",
       "      <td>0.688580</td>\n",
       "      <td>0.320699</td>\n",
       "      <td>0.642256</td>\n",
       "    </tr>\n",
       "    <tr>\n",
       "      <th>4</th>\n",
       "      <td>8</td>\n",
       "      <td>GATCGTAGCTAA</td>\n",
       "      <td>ATGCGCTTAATT</td>\n",
       "      <td>ATGCGCTTAATT</td>\n",
       "      <td>ATGCGCTTAATT</td>\n",
       "      <td>ATGCGCTTAATT</td>\n",
       "      <td>AAATCAGCTAAA</td>\n",
       "      <td>ATTCCATATTTT</td>\n",
       "      <td>ATTCCATATTTT</td>\n",
       "      <td>AAATCAGCTAAA</td>\n",
       "      <td>...</td>\n",
       "      <td>0.664718</td>\n",
       "      <td>0.635195</td>\n",
       "      <td>0.672264</td>\n",
       "      <td>0.561127</td>\n",
       "      <td>0.419873</td>\n",
       "      <td>0.508550</td>\n",
       "      <td>0.673267</td>\n",
       "      <td>0.356103</td>\n",
       "      <td>0.471519</td>\n",
       "      <td>0.499554</td>\n",
       "    </tr>\n",
       "  </tbody>\n",
       "</table>\n",
       "<p>5 rows × 31 columns</p>\n",
       "</div>"
      ],
      "text/plain": [
       "   ID     sequence1     sequence2     sequence3     sequence4     sequence5  \\\n",
       "0   1  ATGCGCTTAATT  ATGCGCTTAATT  GATCGTAGCTAA  ATGCGCTTAATT  GATCGTAGCTAA   \n",
       "1   3  ATGCGCTTAATT  ATGCGCTTAATT  ATGCGCTTAATT  ATGCGCTTAATT  ATGCGCTTAATT   \n",
       "2   4  ATGCGCTTAATT  ATGCGCTTAATT  ATGCGCTTAATT  ATGCGCTTAATT  GATCGTAGCTAA   \n",
       "3   6  ATGCGCTTAATT  ATGCGCTTAATT  ATGCGCTTAATT  ATGCGCTTAATT  GATCGTAGCTAA   \n",
       "4   8  GATCGTAGCTAA  ATGCGCTTAATT  ATGCGCTTAATT  ATGCGCTTAATT  ATGCGCTTAATT   \n",
       "\n",
       "      sequence6     sequence7     sequence8     sequence9  ...         L  \\\n",
       "0  ATTCCATATTTT  AAATCAGCTAAA  ATTCCATATTTT  AAATCAGCTAAA  ...  0.328929   \n",
       "1  AAATCAGCTAAA  ATTCCATATTTT  ATTCCATATTTT  AAATCAGCTAAA  ...  0.707663   \n",
       "2  AAATCAGCTAAA  AAATCAGCTAAA  ATTCCATATTTT  AAATCAGCTAAA  ...  0.274514   \n",
       "3  ATTCCATATTTT  ATTCCATATTTT  ATTCCATATTTT  AAATCAGCTAAA  ...  0.707840   \n",
       "4  AAATCAGCTAAA  ATTCCATATTTT  ATTCCATATTTT  AAATCAGCTAAA  ...  0.664718   \n",
       "\n",
       "          M         N         O         P         Q         R         S  \\\n",
       "0  0.386385  0.541366  0.388982  0.357778  0.600044  0.408701  0.399353   \n",
       "1  0.831147  0.807807  0.800032  0.619147  0.221789  0.897617  0.633669   \n",
       "2  0.338818  0.277308  0.610578  0.128291  0.578764  0.279167  0.351103   \n",
       "3  0.678466  0.747125  0.678212  0.553609  0.281719  0.768782  0.688580   \n",
       "4  0.635195  0.672264  0.561127  0.419873  0.508550  0.673267  0.356103   \n",
       "\n",
       "          T         U  \n",
       "0  0.927406  0.493729  \n",
       "1  0.760318  0.934242  \n",
       "2  0.357084  0.328960  \n",
       "3  0.320699  0.642256  \n",
       "4  0.471519  0.499554  \n",
       "\n",
       "[5 rows x 31 columns]"
      ]
     },
     "execution_count": 4,
     "metadata": {},
     "output_type": "execute_result"
    }
   ],
   "source": [
    "test.head()"
   ]
  },
  {
   "cell_type": "code",
   "execution_count": 5,
   "id": "a706ad94",
   "metadata": {
    "execution": {
     "iopub.execute_input": "2022-07-18T15:32:31.193322Z",
     "iopub.status.busy": "2022-07-18T15:32:31.192963Z",
     "iopub.status.idle": "2022-07-18T15:32:31.304985Z",
     "shell.execute_reply": "2022-07-18T15:32:31.303096Z"
    },
    "papermill": {
     "duration": 0.123228,
     "end_time": "2022-07-18T15:32:31.307566",
     "exception": false,
     "start_time": "2022-07-18T15:32:31.184338",
     "status": "completed"
    },
    "tags": []
   },
   "outputs": [
    {
     "name": "stdout",
     "output_type": "stream",
     "text": [
      "Sequence :  1 ['ATGCGCTTAATT' 'GATCGTAGCTAA']\n",
      "Sequence :  2 ['ATGCGCTTAATT' 'GATCGTAGCTAA']\n",
      "Sequence :  3 ['ATGCGCTTAATT' 'GATCGTAGCTAA']\n",
      "Sequence :  4 ['ATGCGCTTAATT' 'GATCGTAGCTAA']\n",
      "Sequence :  5 ['ATGCGCTTAATT' 'GATCGTAGCTAA']\n",
      "Sequence :  6 ['AAATCAGCTAAA' 'ATTCCATATTTT' 'GTCATGCACCCT' 'TAACATACAGAG']\n",
      "Sequence :  7 ['ATTCCATATTTT' 'AAATCAGCTAAA' 'TAACATACAGAG' 'GTCATGCACCCT']\n",
      "Sequence :  8 ['ATTCCATATTTT' 'TAACATACAGAG' 'AAATCAGCTAAA' 'GTCATGCACCCT']\n",
      "Sequence :  9 ['AAATCAGCTAAA' 'TAACATACAGAG' 'ATTCCATATTTT' 'GTCATGCACCCT']\n"
     ]
    }
   ],
   "source": [
    "for i in range(1,10):\n",
    "    print('Sequence : ',i,train.iloc[:,i].unique())\n"
   ]
  },
  {
   "cell_type": "code",
   "execution_count": 6,
   "id": "cc215efa",
   "metadata": {
    "execution": {
     "iopub.execute_input": "2022-07-18T15:32:31.324472Z",
     "iopub.status.busy": "2022-07-18T15:32:31.323750Z",
     "iopub.status.idle": "2022-07-18T15:32:31.409447Z",
     "shell.execute_reply": "2022-07-18T15:32:31.408157Z"
    },
    "papermill": {
     "duration": 0.096717,
     "end_time": "2022-07-18T15:32:31.411842",
     "exception": false,
     "start_time": "2022-07-18T15:32:31.315125",
     "status": "completed"
    },
    "tags": []
   },
   "outputs": [
    {
     "data": {
      "text/plain": [
       "ID           0\n",
       "sequence1    0\n",
       "sequence2    0\n",
       "sequence3    0\n",
       "sequence4    0\n",
       "sequence5    0\n",
       "sequence6    0\n",
       "sequence7    0\n",
       "sequence8    0\n",
       "sequence9    0\n",
       "A            0\n",
       "B            0\n",
       "C            0\n",
       "D            0\n",
       "E            0\n",
       "F            0\n",
       "G            0\n",
       "H            0\n",
       "I            0\n",
       "J            0\n",
       "K            0\n",
       "L            0\n",
       "M            0\n",
       "N            0\n",
       "O            0\n",
       "P            0\n",
       "Q            0\n",
       "R            0\n",
       "S            0\n",
       "T            0\n",
       "U            0\n",
       "mutation     0\n",
       "dtype: int64"
      ]
     },
     "execution_count": 6,
     "metadata": {},
     "output_type": "execute_result"
    }
   ],
   "source": [
    "train.isna().sum()"
   ]
  },
  {
   "cell_type": "code",
   "execution_count": 7,
   "id": "ec5d12b4",
   "metadata": {
    "execution": {
     "iopub.execute_input": "2022-07-18T15:32:31.428261Z",
     "iopub.status.busy": "2022-07-18T15:32:31.427901Z",
     "iopub.status.idle": "2022-07-18T15:32:31.436253Z",
     "shell.execute_reply": "2022-07-18T15:32:31.434934Z"
    },
    "papermill": {
     "duration": 0.019276,
     "end_time": "2022-07-18T15:32:31.438782",
     "exception": false,
     "start_time": "2022-07-18T15:32:31.419506",
     "status": "completed"
    },
    "tags": []
   },
   "outputs": [
    {
     "data": {
      "text/plain": [
       "ID             int64\n",
       "sequence1     object\n",
       "sequence2     object\n",
       "sequence3     object\n",
       "sequence4     object\n",
       "sequence5     object\n",
       "sequence6     object\n",
       "sequence7     object\n",
       "sequence8     object\n",
       "sequence9     object\n",
       "A              int64\n",
       "B              int64\n",
       "C              int64\n",
       "D              int64\n",
       "E              int64\n",
       "F              int64\n",
       "G              int64\n",
       "H              int64\n",
       "I              int64\n",
       "J              int64\n",
       "K            float64\n",
       "L            float64\n",
       "M            float64\n",
       "N            float64\n",
       "O            float64\n",
       "P            float64\n",
       "Q            float64\n",
       "R            float64\n",
       "S            float64\n",
       "T            float64\n",
       "U            float64\n",
       "mutation       int64\n",
       "dtype: object"
      ]
     },
     "execution_count": 7,
     "metadata": {},
     "output_type": "execute_result"
    }
   ],
   "source": [
    "train.dtypes"
   ]
  },
  {
   "cell_type": "code",
   "execution_count": 8,
   "id": "e7399dc1",
   "metadata": {
    "execution": {
     "iopub.execute_input": "2022-07-18T15:32:31.456048Z",
     "iopub.status.busy": "2022-07-18T15:32:31.455664Z",
     "iopub.status.idle": "2022-07-18T15:32:31.515953Z",
     "shell.execute_reply": "2022-07-18T15:32:31.514758Z"
    },
    "papermill": {
     "duration": 0.072381,
     "end_time": "2022-07-18T15:32:31.518641",
     "exception": false,
     "start_time": "2022-07-18T15:32:31.446260",
     "status": "completed"
    },
    "tags": []
   },
   "outputs": [
    {
     "data": {
      "text/plain": [
       "ID           0\n",
       "sequence1    0\n",
       "sequence2    0\n",
       "sequence3    0\n",
       "sequence4    0\n",
       "sequence5    0\n",
       "sequence6    0\n",
       "sequence7    0\n",
       "sequence8    0\n",
       "sequence9    0\n",
       "A            0\n",
       "B            0\n",
       "C            0\n",
       "D            0\n",
       "E            0\n",
       "F            0\n",
       "G            0\n",
       "H            0\n",
       "I            0\n",
       "J            0\n",
       "K            0\n",
       "L            0\n",
       "M            0\n",
       "N            0\n",
       "O            0\n",
       "P            0\n",
       "Q            0\n",
       "R            0\n",
       "S            0\n",
       "T            0\n",
       "U            0\n",
       "dtype: int64"
      ]
     },
     "execution_count": 8,
     "metadata": {},
     "output_type": "execute_result"
    }
   ],
   "source": [
    "test.isna().sum()"
   ]
  },
  {
   "cell_type": "code",
   "execution_count": 9,
   "id": "87df5ef0",
   "metadata": {
    "execution": {
     "iopub.execute_input": "2022-07-18T15:32:31.535133Z",
     "iopub.status.busy": "2022-07-18T15:32:31.534739Z",
     "iopub.status.idle": "2022-07-18T15:32:31.857994Z",
     "shell.execute_reply": "2022-07-18T15:32:31.856650Z"
    },
    "papermill": {
     "duration": 0.334563,
     "end_time": "2022-07-18T15:32:31.860676",
     "exception": false,
     "start_time": "2022-07-18T15:32:31.526113",
     "status": "completed"
    },
    "tags": []
   },
   "outputs": [],
   "source": [
    "Corr = train.drop('ID',axis=1).select_dtypes(exclude=[\"object\"]).corr()\n",
    "abs_corr_on_saleprice = abs(Corr[['mutation']].copy())\n",
    "abs_corr_on_saleprice.drop('mutation', axis=0, inplace=True)"
   ]
  },
  {
   "cell_type": "code",
   "execution_count": 10,
   "id": "c2d85995",
   "metadata": {
    "execution": {
     "iopub.execute_input": "2022-07-18T15:32:31.876948Z",
     "iopub.status.busy": "2022-07-18T15:32:31.876422Z",
     "iopub.status.idle": "2022-07-18T15:32:32.159676Z",
     "shell.execute_reply": "2022-07-18T15:32:32.158123Z"
    },
    "papermill": {
     "duration": 0.294034,
     "end_time": "2022-07-18T15:32:32.162045",
     "exception": false,
     "start_time": "2022-07-18T15:32:31.868011",
     "status": "completed"
    },
    "tags": []
   },
   "outputs": [
    {
     "data": {
      "image/png": "[encoded data removed]",
      "text/plain": [
       "<Figure size 864x576 with 1 Axes>"
      ]
     },
     "metadata": {
      "needs_background": "light"
     },
     "output_type": "display_data"
    }
   ],
   "source": [
    "abs_corr_on_saleprice.sort_values(by='mutation', ascending=False).plot(kind='bar', figsize=(12,8))\n",
    "plt.xticks(rotation=45)\n",
    "plt.show()"
   ]
  },
  {
   "cell_type": "code",
   "execution_count": 11,
   "id": "a3753ee0",
   "metadata": {
    "execution": {
     "iopub.execute_input": "2022-07-18T15:32:32.179280Z",
     "iopub.status.busy": "2022-07-18T15:32:32.178897Z",
     "iopub.status.idle": "2022-07-18T15:32:32.805548Z",
     "shell.execute_reply": "2022-07-18T15:32:32.804407Z"
    },
    "papermill": {
     "duration": 0.638509,
     "end_time": "2022-07-18T15:32:32.808064",
     "exception": false,
     "start_time": "2022-07-18T15:32:32.169555",
     "status": "completed"
    },
    "tags": []
   },
   "outputs": [],
   "source": [
    "le=LabelEncoder()\n",
    "for col in train.drop('ID',axis=1).columns:\n",
    "    if train[col].dtypes == object:\n",
    "        train[col]= le.fit_transform(train[col])\n",
    "\n",
    "\n",
    "\n",
    "for col in test.drop('ID',axis=1).columns:\n",
    "    if test[col].dtypes == object:\n",
    "        test[col]= le.fit_transform(test[col])"
   ]
  },
  {
   "cell_type": "code",
   "execution_count": 12,
   "id": "6815547f",
   "metadata": {
    "execution": {
     "iopub.execute_input": "2022-07-18T15:32:32.824737Z",
     "iopub.status.busy": "2022-07-18T15:32:32.824363Z",
     "iopub.status.idle": "2022-07-18T15:32:32.846424Z",
     "shell.execute_reply": "2022-07-18T15:32:32.845286Z"
    },
    "papermill": {
     "duration": 0.033205,
     "end_time": "2022-07-18T15:32:32.848703",
     "exception": false,
     "start_time": "2022-07-18T15:32:32.815498",
     "status": "completed"
    },
    "tags": []
   },
   "outputs": [
    {
     "data": {
      "text/html": [
       "<div>\n",
       "<style scoped>\n",
       "    .dataframe tbody tr th:only-of-type {\n",
       "        vertical-align: middle;\n",
       "    }\n",
       "\n",
       "    .dataframe tbody tr th {\n",
       "        vertical-align: top;\n",
       "    }\n",
       "\n",
       "    .dataframe thead th {\n",
       "        text-align: right;\n",
       "    }\n",
       "</style>\n",
       "<table border=\"1\" class=\"dataframe\">\n",
       "  <thead>\n",
       "    <tr style=\"text-align: right;\">\n",
       "      <th></th>\n",
       "      <th>ID</th>\n",
       "      <th>sequence1</th>\n",
       "      <th>sequence2</th>\n",
       "      <th>sequence3</th>\n",
       "      <th>sequence4</th>\n",
       "      <th>sequence5</th>\n",
       "      <th>sequence6</th>\n",
       "      <th>sequence7</th>\n",
       "      <th>sequence8</th>\n",
       "      <th>sequence9</th>\n",
       "      <th>...</th>\n",
       "      <th>M</th>\n",
       "      <th>N</th>\n",
       "      <th>O</th>\n",
       "      <th>P</th>\n",
       "      <th>Q</th>\n",
       "      <th>R</th>\n",
       "      <th>S</th>\n",
       "      <th>T</th>\n",
       "      <th>U</th>\n",
       "      <th>mutation</th>\n",
       "    </tr>\n",
       "  </thead>\n",
       "  <tbody>\n",
       "    <tr>\n",
       "      <th>0</th>\n",
       "      <td>0</td>\n",
       "      <td>0</td>\n",
       "      <td>0</td>\n",
       "      <td>0</td>\n",
       "      <td>0</td>\n",
       "      <td>0</td>\n",
       "      <td>0</td>\n",
       "      <td>1</td>\n",
       "      <td>1</td>\n",
       "      <td>0</td>\n",
       "      <td>...</td>\n",
       "      <td>0.759439</td>\n",
       "      <td>0.795549</td>\n",
       "      <td>0.681917</td>\n",
       "      <td>0.621672</td>\n",
       "      <td>0.592184</td>\n",
       "      <td>0.791921</td>\n",
       "      <td>0.815254</td>\n",
       "      <td>0.965006</td>\n",
       "      <td>0.665915</td>\n",
       "      <td>0</td>\n",
       "    </tr>\n",
       "    <tr>\n",
       "      <th>1</th>\n",
       "      <td>2</td>\n",
       "      <td>0</td>\n",
       "      <td>0</td>\n",
       "      <td>1</td>\n",
       "      <td>0</td>\n",
       "      <td>0</td>\n",
       "      <td>0</td>\n",
       "      <td>1</td>\n",
       "      <td>1</td>\n",
       "      <td>0</td>\n",
       "      <td>...</td>\n",
       "      <td>0.343255</td>\n",
       "      <td>0.616352</td>\n",
       "      <td>0.793687</td>\n",
       "      <td>0.552877</td>\n",
       "      <td>0.352113</td>\n",
       "      <td>0.388835</td>\n",
       "      <td>0.412303</td>\n",
       "      <td>0.292696</td>\n",
       "      <td>0.549452</td>\n",
       "      <td>0</td>\n",
       "    </tr>\n",
       "    <tr>\n",
       "      <th>2</th>\n",
       "      <td>5</td>\n",
       "      <td>0</td>\n",
       "      <td>0</td>\n",
       "      <td>0</td>\n",
       "      <td>0</td>\n",
       "      <td>0</td>\n",
       "      <td>0</td>\n",
       "      <td>1</td>\n",
       "      <td>1</td>\n",
       "      <td>0</td>\n",
       "      <td>...</td>\n",
       "      <td>0.524760</td>\n",
       "      <td>0.580085</td>\n",
       "      <td>0.301498</td>\n",
       "      <td>0.261055</td>\n",
       "      <td>0.193988</td>\n",
       "      <td>0.935688</td>\n",
       "      <td>0.685868</td>\n",
       "      <td>0.277694</td>\n",
       "      <td>0.428115</td>\n",
       "      <td>0</td>\n",
       "    </tr>\n",
       "    <tr>\n",
       "      <th>3</th>\n",
       "      <td>7</td>\n",
       "      <td>0</td>\n",
       "      <td>0</td>\n",
       "      <td>0</td>\n",
       "      <td>0</td>\n",
       "      <td>0</td>\n",
       "      <td>1</td>\n",
       "      <td>0</td>\n",
       "      <td>3</td>\n",
       "      <td>3</td>\n",
       "      <td>...</td>\n",
       "      <td>0.943545</td>\n",
       "      <td>0.209744</td>\n",
       "      <td>0.670577</td>\n",
       "      <td>0.772650</td>\n",
       "      <td>0.845751</td>\n",
       "      <td>0.507320</td>\n",
       "      <td>0.927204</td>\n",
       "      <td>0.605755</td>\n",
       "      <td>0.454155</td>\n",
       "      <td>1</td>\n",
       "    </tr>\n",
       "    <tr>\n",
       "      <th>4</th>\n",
       "      <td>9</td>\n",
       "      <td>0</td>\n",
       "      <td>1</td>\n",
       "      <td>0</td>\n",
       "      <td>1</td>\n",
       "      <td>1</td>\n",
       "      <td>1</td>\n",
       "      <td>0</td>\n",
       "      <td>1</td>\n",
       "      <td>3</td>\n",
       "      <td>...</td>\n",
       "      <td>0.397622</td>\n",
       "      <td>0.506096</td>\n",
       "      <td>0.200673</td>\n",
       "      <td>0.734145</td>\n",
       "      <td>0.521673</td>\n",
       "      <td>0.365571</td>\n",
       "      <td>0.416094</td>\n",
       "      <td>0.584799</td>\n",
       "      <td>0.447149</td>\n",
       "      <td>1</td>\n",
       "    </tr>\n",
       "  </tbody>\n",
       "</table>\n",
       "<p>5 rows × 32 columns</p>\n",
       "</div>"
      ],
      "text/plain": [
       "   ID  sequence1  sequence2  sequence3  sequence4  sequence5  sequence6  \\\n",
       "0   0          0          0          0          0          0          0   \n",
       "1   2          0          0          1          0          0          0   \n",
       "2   5          0          0          0          0          0          0   \n",
       "3   7          0          0          0          0          0          1   \n",
       "4   9          0          1          0          1          1          1   \n",
       "\n",
       "   sequence7  sequence8  sequence9  ...         M         N         O  \\\n",
       "0          1          1          0  ...  0.759439  0.795549  0.681917   \n",
       "1          1          1          0  ...  0.343255  0.616352  0.793687   \n",
       "2          1          1          0  ...  0.524760  0.580085  0.301498   \n",
       "3          0          3          3  ...  0.943545  0.209744  0.670577   \n",
       "4          0          1          3  ...  0.397622  0.506096  0.200673   \n",
       "\n",
       "          P         Q         R         S         T         U  mutation  \n",
       "0  0.621672  0.592184  0.791921  0.815254  0.965006  0.665915         0  \n",
       "1  0.552877  0.352113  0.388835  0.412303  0.292696  0.549452         0  \n",
       "2  0.261055  0.193988  0.935688  0.685868  0.277694  0.428115         0  \n",
       "3  0.772650  0.845751  0.507320  0.927204  0.605755  0.454155         1  \n",
       "4  0.734145  0.521673  0.365571  0.416094  0.584799  0.447149         1  \n",
       "\n",
       "[5 rows x 32 columns]"
      ]
     },
     "execution_count": 12,
     "metadata": {},
     "output_type": "execute_result"
    }
   ],
   "source": [
    "train.head()"
   ]
  },
  {
   "cell_type": "code",
   "execution_count": 13,
   "id": "81b213bd",
   "metadata": {
    "execution": {
     "iopub.execute_input": "2022-07-18T15:32:32.867796Z",
     "iopub.status.busy": "2022-07-18T15:32:32.866243Z",
     "iopub.status.idle": "2022-07-18T15:32:32.889233Z",
     "shell.execute_reply": "2022-07-18T15:32:32.888309Z"
    },
    "papermill": {
     "duration": 0.034933,
     "end_time": "2022-07-18T15:32:32.891382",
     "exception": false,
     "start_time": "2022-07-18T15:32:32.856449",
     "status": "completed"
    },
    "tags": []
   },
   "outputs": [
    {
     "data": {
      "text/html": [
       "<div>\n",
       "<style scoped>\n",
       "    .dataframe tbody tr th:only-of-type {\n",
       "        vertical-align: middle;\n",
       "    }\n",
       "\n",
       "    .dataframe tbody tr th {\n",
       "        vertical-align: top;\n",
       "    }\n",
       "\n",
       "    .dataframe thead th {\n",
       "        text-align: right;\n",
       "    }\n",
       "</style>\n",
       "<table border=\"1\" class=\"dataframe\">\n",
       "  <thead>\n",
       "    <tr style=\"text-align: right;\">\n",
       "      <th></th>\n",
       "      <th>ID</th>\n",
       "      <th>sequence1</th>\n",
       "      <th>sequence2</th>\n",
       "      <th>sequence3</th>\n",
       "      <th>sequence4</th>\n",
       "      <th>sequence5</th>\n",
       "      <th>sequence6</th>\n",
       "      <th>sequence7</th>\n",
       "      <th>sequence8</th>\n",
       "      <th>sequence9</th>\n",
       "      <th>...</th>\n",
       "      <th>L</th>\n",
       "      <th>M</th>\n",
       "      <th>N</th>\n",
       "      <th>O</th>\n",
       "      <th>P</th>\n",
       "      <th>Q</th>\n",
       "      <th>R</th>\n",
       "      <th>S</th>\n",
       "      <th>T</th>\n",
       "      <th>U</th>\n",
       "    </tr>\n",
       "  </thead>\n",
       "  <tbody>\n",
       "    <tr>\n",
       "      <th>0</th>\n",
       "      <td>1</td>\n",
       "      <td>0</td>\n",
       "      <td>0</td>\n",
       "      <td>1</td>\n",
       "      <td>0</td>\n",
       "      <td>1</td>\n",
       "      <td>1</td>\n",
       "      <td>0</td>\n",
       "      <td>1</td>\n",
       "      <td>0</td>\n",
       "      <td>...</td>\n",
       "      <td>0.328929</td>\n",
       "      <td>0.386385</td>\n",
       "      <td>0.541366</td>\n",
       "      <td>0.388982</td>\n",
       "      <td>0.357778</td>\n",
       "      <td>0.600044</td>\n",
       "      <td>0.408701</td>\n",
       "      <td>0.399353</td>\n",
       "      <td>0.927406</td>\n",
       "      <td>0.493729</td>\n",
       "    </tr>\n",
       "    <tr>\n",
       "      <th>1</th>\n",
       "      <td>3</td>\n",
       "      <td>0</td>\n",
       "      <td>0</td>\n",
       "      <td>0</td>\n",
       "      <td>0</td>\n",
       "      <td>0</td>\n",
       "      <td>0</td>\n",
       "      <td>1</td>\n",
       "      <td>1</td>\n",
       "      <td>0</td>\n",
       "      <td>...</td>\n",
       "      <td>0.707663</td>\n",
       "      <td>0.831147</td>\n",
       "      <td>0.807807</td>\n",
       "      <td>0.800032</td>\n",
       "      <td>0.619147</td>\n",
       "      <td>0.221789</td>\n",
       "      <td>0.897617</td>\n",
       "      <td>0.633669</td>\n",
       "      <td>0.760318</td>\n",
       "      <td>0.934242</td>\n",
       "    </tr>\n",
       "    <tr>\n",
       "      <th>2</th>\n",
       "      <td>4</td>\n",
       "      <td>0</td>\n",
       "      <td>0</td>\n",
       "      <td>0</td>\n",
       "      <td>0</td>\n",
       "      <td>1</td>\n",
       "      <td>0</td>\n",
       "      <td>0</td>\n",
       "      <td>1</td>\n",
       "      <td>0</td>\n",
       "      <td>...</td>\n",
       "      <td>0.274514</td>\n",
       "      <td>0.338818</td>\n",
       "      <td>0.277308</td>\n",
       "      <td>0.610578</td>\n",
       "      <td>0.128291</td>\n",
       "      <td>0.578764</td>\n",
       "      <td>0.279167</td>\n",
       "      <td>0.351103</td>\n",
       "      <td>0.357084</td>\n",
       "      <td>0.328960</td>\n",
       "    </tr>\n",
       "    <tr>\n",
       "      <th>3</th>\n",
       "      <td>6</td>\n",
       "      <td>0</td>\n",
       "      <td>0</td>\n",
       "      <td>0</td>\n",
       "      <td>0</td>\n",
       "      <td>1</td>\n",
       "      <td>1</td>\n",
       "      <td>1</td>\n",
       "      <td>1</td>\n",
       "      <td>0</td>\n",
       "      <td>...</td>\n",
       "      <td>0.707840</td>\n",
       "      <td>0.678466</td>\n",
       "      <td>0.747125</td>\n",
       "      <td>0.678212</td>\n",
       "      <td>0.553609</td>\n",
       "      <td>0.281719</td>\n",
       "      <td>0.768782</td>\n",
       "      <td>0.688580</td>\n",
       "      <td>0.320699</td>\n",
       "      <td>0.642256</td>\n",
       "    </tr>\n",
       "    <tr>\n",
       "      <th>4</th>\n",
       "      <td>8</td>\n",
       "      <td>1</td>\n",
       "      <td>0</td>\n",
       "      <td>0</td>\n",
       "      <td>0</td>\n",
       "      <td>0</td>\n",
       "      <td>0</td>\n",
       "      <td>1</td>\n",
       "      <td>1</td>\n",
       "      <td>0</td>\n",
       "      <td>...</td>\n",
       "      <td>0.664718</td>\n",
       "      <td>0.635195</td>\n",
       "      <td>0.672264</td>\n",
       "      <td>0.561127</td>\n",
       "      <td>0.419873</td>\n",
       "      <td>0.508550</td>\n",
       "      <td>0.673267</td>\n",
       "      <td>0.356103</td>\n",
       "      <td>0.471519</td>\n",
       "      <td>0.499554</td>\n",
       "    </tr>\n",
       "  </tbody>\n",
       "</table>\n",
       "<p>5 rows × 31 columns</p>\n",
       "</div>"
      ],
      "text/plain": [
       "   ID  sequence1  sequence2  sequence3  sequence4  sequence5  sequence6  \\\n",
       "0   1          0          0          1          0          1          1   \n",
       "1   3          0          0          0          0          0          0   \n",
       "2   4          0          0          0          0          1          0   \n",
       "3   6          0          0          0          0          1          1   \n",
       "4   8          1          0          0          0          0          0   \n",
       "\n",
       "   sequence7  sequence8  sequence9  ...         L         M         N  \\\n",
       "0          0          1          0  ...  0.328929  0.386385  0.541366   \n",
       "1          1          1          0  ...  0.707663  0.831147  0.807807   \n",
       "2          0          1          0  ...  0.274514  0.338818  0.277308   \n",
       "3          1          1          0  ...  0.707840  0.678466  0.747125   \n",
       "4          1          1          0  ...  0.664718  0.635195  0.672264   \n",
       "\n",
       "          O         P         Q         R         S         T         U  \n",
       "0  0.388982  0.357778  0.600044  0.408701  0.399353  0.927406  0.493729  \n",
       "1  0.800032  0.619147  0.221789  0.897617  0.633669  0.760318  0.934242  \n",
       "2  0.610578  0.128291  0.578764  0.279167  0.351103  0.357084  0.328960  \n",
       "3  0.678212  0.553609  0.281719  0.768782  0.688580  0.320699  0.642256  \n",
       "4  0.561127  0.419873  0.508550  0.673267  0.356103  0.471519  0.499554  \n",
       "\n",
       "[5 rows x 31 columns]"
      ]
     },
     "execution_count": 13,
     "metadata": {},
     "output_type": "execute_result"
    }
   ],
   "source": [
    "test.head()"
   ]
  },
  {
   "cell_type": "code",
   "execution_count": 14,
   "id": "dfb791dd",
   "metadata": {
    "execution": {
     "iopub.execute_input": "2022-07-18T15:32:32.909824Z",
     "iopub.status.busy": "2022-07-18T15:32:32.909022Z",
     "iopub.status.idle": "2022-07-18T15:32:32.947947Z",
     "shell.execute_reply": "2022-07-18T15:32:32.947017Z"
    },
    "papermill": {
     "duration": 0.050843,
     "end_time": "2022-07-18T15:32:32.950601",
     "exception": false,
     "start_time": "2022-07-18T15:32:32.899758",
     "status": "completed"
    },
    "tags": []
   },
   "outputs": [],
   "source": [
    "X_train = train.drop([\"mutation\",\"ID\"], axis=1)\n",
    "Y_train = train[\"mutation\"]"
   ]
  },
  {
   "cell_type": "code",
   "execution_count": 15,
   "id": "acc8e165",
   "metadata": {
    "execution": {
     "iopub.execute_input": "2022-07-18T15:32:32.970762Z",
     "iopub.status.busy": "2022-07-18T15:32:32.968361Z",
     "iopub.status.idle": "2022-07-18T15:32:32.977353Z",
     "shell.execute_reply": "2022-07-18T15:32:32.976212Z"
    },
    "papermill": {
     "duration": 0.021191,
     "end_time": "2022-07-18T15:32:32.979830",
     "exception": false,
     "start_time": "2022-07-18T15:32:32.958639",
     "status": "completed"
    },
    "tags": []
   },
   "outputs": [
    {
     "data": {
      "text/plain": [
       "((180000, 30), (180000,))"
      ]
     },
     "execution_count": 15,
     "metadata": {},
     "output_type": "execute_result"
    }
   ],
   "source": [
    "X_train.shape,Y_train.shape"
   ]
  },
  {
   "cell_type": "code",
   "execution_count": 16,
   "id": "b76cd681",
   "metadata": {
    "execution": {
     "iopub.execute_input": "2022-07-18T15:32:32.997374Z",
     "iopub.status.busy": "2022-07-18T15:32:32.997011Z",
     "iopub.status.idle": "2022-07-18T15:32:33.182049Z",
     "shell.execute_reply": "2022-07-18T15:32:33.180719Z"
    },
    "papermill": {
     "duration": 0.197013,
     "end_time": "2022-07-18T15:32:33.184840",
     "exception": false,
     "start_time": "2022-07-18T15:32:32.987827",
     "status": "completed"
    },
    "tags": []
   },
   "outputs": [],
   "source": [
    "from sklearn.preprocessing import StandardScaler\n",
    "sc = StandardScaler()\n",
    "X_train = sc.fit_transform(X_train)\n",
    "X_test = sc.transform(test.drop('ID',axis=1))"
   ]
  },
  {
   "cell_type": "code",
   "execution_count": 17,
   "id": "ffa07951",
   "metadata": {
    "execution": {
     "iopub.execute_input": "2022-07-18T15:32:33.203998Z",
     "iopub.status.busy": "2022-07-18T15:32:33.203603Z",
     "iopub.status.idle": "2022-07-18T15:32:33.211425Z",
     "shell.execute_reply": "2022-07-18T15:32:33.210147Z"
    },
    "papermill": {
     "duration": 0.021438,
     "end_time": "2022-07-18T15:32:33.214585",
     "exception": false,
     "start_time": "2022-07-18T15:32:33.193147",
     "status": "completed"
    },
    "tags": []
   },
   "outputs": [
    {
     "data": {
      "text/plain": [
       "array([[-0.58730709, -0.39916247, -0.40952284, ...,  1.83034532,\n",
       "         2.54667322,  0.7767064 ],\n",
       "       [-0.58730709, -0.39916247,  2.44186626, ..., -0.42090212,\n",
       "        -0.91054814,  0.20406278],\n",
       "       [-0.58730709, -0.39916247, -0.40952284, ...,  1.10748142,\n",
       "        -0.9876909 , -0.39254864],\n",
       "       ...,\n",
       "       [-0.58730709,  2.50524553, -0.40952284, ..., -0.63491577,\n",
       "         0.24815794, -0.27439779],\n",
       "       [ 1.70268676, -0.39916247, -0.40952284, ...,  1.07709951,\n",
       "        -0.77809649, -0.84634979],\n",
       "       [-0.58730709, -0.39916247, -0.40952284, ...,  1.87728066,\n",
       "        -0.71607091,  2.28451308]])"
      ]
     },
     "execution_count": 17,
     "metadata": {},
     "output_type": "execute_result"
    }
   ],
   "source": [
    "X_train"
   ]
  },
  {
   "cell_type": "code",
   "execution_count": 18,
   "id": "998d7e85",
   "metadata": {
    "execution": {
     "iopub.execute_input": "2022-07-18T15:32:33.233036Z",
     "iopub.status.busy": "2022-07-18T15:32:33.232619Z",
     "iopub.status.idle": "2022-07-18T15:32:33.240310Z",
     "shell.execute_reply": "2022-07-18T15:32:33.238993Z"
    },
    "papermill": {
     "duration": 0.020201,
     "end_time": "2022-07-18T15:32:33.243093",
     "exception": false,
     "start_time": "2022-07-18T15:32:33.222892",
     "status": "completed"
    },
    "tags": []
   },
   "outputs": [
    {
     "data": {
      "text/plain": [
       "array([[-0.58730709, -0.39916247,  2.44186626, ..., -0.49325563,\n",
       "         2.35332029, -0.06992635],\n",
       "       [-0.58730709, -0.39916247, -0.40952284, ...,  0.81584982,\n",
       "         1.49410618,  2.09606272],\n",
       "       [-0.58730709, -0.39916247, -0.40952284, ..., -0.76282341,\n",
       "        -0.57944568, -0.88009233],\n",
       "       ...,\n",
       "       [-0.58730709, -0.39916247, -0.40952284, ...,  1.09553334,\n",
       "        -1.04963409, -0.4827799 ],\n",
       "       [-0.58730709, -0.39916247,  2.44186626, ..., -0.37876966,\n",
       "        -0.0783035 , -0.96098425],\n",
       "       [-0.58730709, -0.39916247, -0.40952284, ...,  1.10315291,\n",
       "         2.45682933, -0.07304883]])"
      ]
     },
     "execution_count": 18,
     "metadata": {},
     "output_type": "execute_result"
    }
   ],
   "source": [
    "X_test"
   ]
  },
  {
   "cell_type": "markdown",
   "id": "364d87b1",
   "metadata": {
    "papermill": {
     "duration": 0.007907,
     "end_time": "2022-07-18T15:32:33.259342",
     "exception": false,
     "start_time": "2022-07-18T15:32:33.251435",
     "status": "completed"
    },
    "tags": []
   },
   "source": [
    "# Apply PCA"
   ]
  },
  {
   "cell_type": "code",
   "execution_count": 19,
   "id": "93a17497",
   "metadata": {
    "execution": {
     "iopub.execute_input": "2022-07-18T15:32:33.278201Z",
     "iopub.status.busy": "2022-07-18T15:32:33.277836Z",
     "iopub.status.idle": "2022-07-18T15:32:34.831888Z",
     "shell.execute_reply": "2022-07-18T15:32:34.830140Z"
    },
    "papermill": {
     "duration": 1.568949,
     "end_time": "2022-07-18T15:32:34.836416",
     "exception": false,
     "start_time": "2022-07-18T15:32:33.267467",
     "status": "completed"
    },
    "tags": []
   },
   "outputs": [],
   "source": [
    "from sklearn.decomposition import PCA\n",
    "pca = PCA(n_components = 2)\n",
    "X_train = pca.fit_transform(X_train)\n",
    "X_test = pca.transform(X_test)"
   ]
  },
  {
   "cell_type": "code",
   "execution_count": 20,
   "id": "ed1e4145",
   "metadata": {
    "execution": {
     "iopub.execute_input": "2022-07-18T15:32:34.876549Z",
     "iopub.status.busy": "2022-07-18T15:32:34.875736Z",
     "iopub.status.idle": "2022-07-18T15:32:34.890904Z",
     "shell.execute_reply": "2022-07-18T15:32:34.889461Z"
    },
    "papermill": {
     "duration": 0.039316,
     "end_time": "2022-07-18T15:32:34.895047",
     "exception": false,
     "start_time": "2022-07-18T15:32:34.855731",
     "status": "completed"
    },
    "tags": []
   },
   "outputs": [
    {
     "data": {
      "text/plain": [
       "array([[ 4.10332882, -0.76582425],\n",
       "       [-0.93025917, -2.83717848],\n",
       "       [ 0.75767473, -1.25618149],\n",
       "       ...,\n",
       "       [-1.1283098 ,  3.23562189],\n",
       "       [ 0.25715306, -0.57961984],\n",
       "       [ 4.71926173, -0.93401818]])"
      ]
     },
     "execution_count": 20,
     "metadata": {},
     "output_type": "execute_result"
    }
   ],
   "source": [
    "X_train"
   ]
  },
  {
   "cell_type": "code",
   "execution_count": 21,
   "id": "ac7674af",
   "metadata": {
    "execution": {
     "iopub.execute_input": "2022-07-18T15:32:34.933360Z",
     "iopub.status.busy": "2022-07-18T15:32:34.932808Z",
     "iopub.status.idle": "2022-07-18T15:32:34.941565Z",
     "shell.execute_reply": "2022-07-18T15:32:34.940506Z"
    },
    "papermill": {
     "duration": 0.031817,
     "end_time": "2022-07-18T15:32:34.944364",
     "exception": false,
     "start_time": "2022-07-18T15:32:34.912547",
     "status": "completed"
    },
    "tags": []
   },
   "outputs": [
    {
     "data": {
      "text/plain": [
       "array([[-0.72131796, -0.0483844 ],\n",
       "       [ 5.06207243, -1.44677106],\n",
       "       [-2.56488218,  0.08241835],\n",
       "       ...,\n",
       "       [-1.3363941 ,  2.72978971],\n",
       "       [-2.12927409, -1.75878834],\n",
       "       [ 3.05966853,  1.44144381]])"
      ]
     },
     "execution_count": 21,
     "metadata": {},
     "output_type": "execute_result"
    }
   ],
   "source": [
    "X_test"
   ]
  },
  {
   "cell_type": "markdown",
   "id": "5f035818",
   "metadata": {
    "papermill": {
     "duration": 0.008028,
     "end_time": "2022-07-18T15:32:34.963490",
     "exception": false,
     "start_time": "2022-07-18T15:32:34.955462",
     "status": "completed"
    },
    "tags": []
   },
   "source": [
    "# Gaussian NB"
   ]
  },
  {
   "cell_type": "code",
   "execution_count": 22,
   "id": "1895fc42",
   "metadata": {
    "execution": {
     "iopub.execute_input": "2022-07-18T15:32:34.981735Z",
     "iopub.status.busy": "2022-07-18T15:32:34.981370Z",
     "iopub.status.idle": "2022-07-18T15:32:35.036188Z",
     "shell.execute_reply": "2022-07-18T15:32:35.035366Z"
    },
    "papermill": {
     "duration": 0.066411,
     "end_time": "2022-07-18T15:32:35.038257",
     "exception": false,
     "start_time": "2022-07-18T15:32:34.971846",
     "status": "completed"
    },
    "tags": []
   },
   "outputs": [
    {
     "data": {
      "text/plain": [
       "GaussianNB()"
      ]
     },
     "execution_count": 22,
     "metadata": {},
     "output_type": "execute_result"
    }
   ],
   "source": [
    "from sklearn.naive_bayes import GaussianNB\n",
    "model=GaussianNB()\n",
    "model.fit(X_train,Y_train)"
   ]
  },
  {
   "cell_type": "code",
   "execution_count": 23,
   "id": "b14aa94a",
   "metadata": {
    "execution": {
     "iopub.execute_input": "2022-07-18T15:32:35.057341Z",
     "iopub.status.busy": "2022-07-18T15:32:35.056632Z",
     "iopub.status.idle": "2022-07-18T15:32:35.084928Z",
     "shell.execute_reply": "2022-07-18T15:32:35.083779Z"
    },
    "papermill": {
     "duration": 0.040412,
     "end_time": "2022-07-18T15:32:35.087275",
     "exception": false,
     "start_time": "2022-07-18T15:32:35.046863",
     "status": "completed"
    },
    "tags": []
   },
   "outputs": [
    {
     "data": {
      "text/plain": [
       "array([0.15446919, 0.05542101, 0.16341706, ..., 0.87270103, 0.07245736,\n",
       "       0.43353535])"
      ]
     },
     "execution_count": 23,
     "metadata": {},
     "output_type": "execute_result"
    }
   ],
   "source": [
    "pred = model.predict_proba(X_test)\n",
    "pred = pred[:, 1]\n",
    "pred"
   ]
  },
  {
   "cell_type": "code",
   "execution_count": 24,
   "id": "017e76ab",
   "metadata": {
    "execution": {
     "iopub.execute_input": "2022-07-18T15:32:35.106795Z",
     "iopub.status.busy": "2022-07-18T15:32:35.106388Z",
     "iopub.status.idle": "2022-07-18T15:32:35.391807Z",
     "shell.execute_reply": "2022-07-18T15:32:35.390639Z"
    },
    "papermill": {
     "duration": 0.298299,
     "end_time": "2022-07-18T15:32:35.394330",
     "exception": false,
     "start_time": "2022-07-18T15:32:35.096031",
     "status": "completed"
    },
    "tags": []
   },
   "outputs": [],
   "source": [
    "submission['mutation'] = pred\n",
    "submission.to_csv('submission1.csv', index=False)"
   ]
  },
  {
   "cell_type": "markdown",
   "id": "7aba18df",
   "metadata": {
    "papermill": {
     "duration": 0.008221,
     "end_time": "2022-07-18T15:32:35.411215",
     "exception": false,
     "start_time": "2022-07-18T15:32:35.402994",
     "status": "completed"
    },
    "tags": []
   },
   "source": [
    "# Random Forest"
   ]
  },
  {
   "cell_type": "code",
   "execution_count": 25,
   "id": "5ca12508",
   "metadata": {
    "execution": {
     "iopub.execute_input": "2022-07-18T15:32:35.431333Z",
     "iopub.status.busy": "2022-07-18T15:32:35.430636Z",
     "iopub.status.idle": "2022-07-18T15:33:28.510304Z",
     "shell.execute_reply": "2022-07-18T15:33:28.509118Z"
    },
    "papermill": {
     "duration": 53.09243,
     "end_time": "2022-07-18T15:33:28.513077",
     "exception": false,
     "start_time": "2022-07-18T15:32:35.420647",
     "status": "completed"
    },
    "tags": []
   },
   "outputs": [],
   "source": [
    "random_forest = RandomForestClassifier(n_estimators=100)\n",
    "random_forest.fit(X_train, Y_train)\n",
    "pred = random_forest.predict(X_test)"
   ]
  },
  {
   "cell_type": "code",
   "execution_count": 26,
   "id": "140dd16f",
   "metadata": {
    "execution": {
     "iopub.execute_input": "2022-07-18T15:33:28.532963Z",
     "iopub.status.busy": "2022-07-18T15:33:28.531832Z",
     "iopub.status.idle": "2022-07-18T15:33:42.661908Z",
     "shell.execute_reply": "2022-07-18T15:33:42.660771Z"
    },
    "papermill": {
     "duration": 14.142341,
     "end_time": "2022-07-18T15:33:42.664217",
     "exception": false,
     "start_time": "2022-07-18T15:33:28.521876",
     "status": "completed"
    },
    "tags": []
   },
   "outputs": [
    {
     "data": {
      "text/plain": [
       "99.99"
      ]
     },
     "execution_count": 26,
     "metadata": {},
     "output_type": "execute_result"
    }
   ],
   "source": [
    "random_forest.score(X_train, Y_train)\n",
    "acc_random_forest = round(random_forest.score(X_train, Y_train) * 100, 2)\n",
    "acc_random_forest"
   ]
  },
  {
   "cell_type": "code",
   "execution_count": 27,
   "id": "15863760",
   "metadata": {
    "execution": {
     "iopub.execute_input": "2022-07-18T15:33:42.684861Z",
     "iopub.status.busy": "2022-07-18T15:33:42.684458Z",
     "iopub.status.idle": "2022-07-18T15:33:42.802886Z",
     "shell.execute_reply": "2022-07-18T15:33:42.801745Z"
    },
    "papermill": {
     "duration": 0.131463,
     "end_time": "2022-07-18T15:33:42.805535",
     "exception": false,
     "start_time": "2022-07-18T15:33:42.674072",
     "status": "completed"
    },
    "tags": []
   },
   "outputs": [],
   "source": [
    "submission['mutation'] = pred\n",
    "submission.to_csv('submission2.csv', index=False)"
   ]
  }
 ],
 "metadata": {
  "kernelspec": {
   "display_name": "Python 3",
   "language": "python",
   "name": "python3"
  },
  "language_info": {
   "codemirror_mode": {
    "name": "ipython",
    "version": 3
   },
   "file_extension": ".py",
   "mimetype": "text/x-python",
   "name": "python",
   "nbconvert_exporter": "python",
   "pygments_lexer": "ipython3",
   "version": "3.7.12"
  },
  "papermill": {
   "default_parameters": {},
   "duration": 86.869804,
   "end_time": "2022-07-18T15:33:43.636548",
   "environment_variables": {},
   "exception": null,
   "input_path": "__notebook__.ipynb",
   "output_path": "__notebook__.ipynb",
   "parameters": {},
   "start_time": "2022-07-18T15:32:16.766744",
   "version": "2.3.4"
  }
 },
 "nbformat": 4,
 "nbformat_minor": 5
}
