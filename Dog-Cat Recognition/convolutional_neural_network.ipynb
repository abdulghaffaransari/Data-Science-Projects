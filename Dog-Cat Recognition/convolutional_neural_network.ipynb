{
  "cells": [
    {
      "cell_type": "markdown",
      "metadata": {
        "id": "3DR-eO17geWu"
      },
      "source": [
        "# Convolutional Neural Network"
      ]
    },
    {
      "cell_type": "markdown",
      "metadata": {
        "id": "EMefrVPCg-60"
      },
      "source": [
        "### Importing the libraries"
      ]
    },
    {
      "cell_type": "code",
      "source": [
        "from google.colab import drive\n",
        "drive.mount('/content/drive')"
      ],
      "metadata": {
        "colab": {
          "base_uri": "https://localhost:8080/"
        },
        "id": "gyMDOzRrqOAl",
        "outputId": "5ed8add2-105d-461f-a354-0fa361fa5df8"
      },
      "execution_count": 1,
      "outputs": [
        {
          "output_type": "stream",
          "name": "stdout",
          "text": [
            "Drive already mounted at /content/drive; to attempt to forcibly remount, call drive.mount(\"/content/drive\", force_remount=True).\n"
          ]
        }
      ]
    },
    {
      "cell_type": "code",
      "execution_count": 2,
      "metadata": {
        "id": "AgNhI6BDqKLF"
      },
      "outputs": [],
      "source": [
        "import tensorflow as tf\n",
        "from keras.preprocessing.image import ImageDataGenerator"
      ]
    },
    {
      "cell_type": "code",
      "execution_count": 3,
      "metadata": {
        "colab": {
          "base_uri": "https://localhost:8080/",
          "height": 36
        },
        "id": "rZzj-uHzqKLH",
        "outputId": "0b3fe9ec-ce45-42ec-8072-e6aaf1d96e9b"
      },
      "outputs": [
        {
          "output_type": "execute_result",
          "data": {
            "text/plain": [
              "'2.8.2'"
            ],
            "application/vnd.google.colaboratory.intrinsic+json": {
              "type": "string"
            }
          },
          "metadata": {},
          "execution_count": 3
        }
      ],
      "source": [
        "tf.__version__"
      ]
    },
    {
      "cell_type": "markdown",
      "metadata": {
        "id": "oxQxCBWyoGPE"
      },
      "source": [
        "## Part 1 - Data Preprocessing"
      ]
    },
    {
      "cell_type": "markdown",
      "metadata": {
        "id": "MvE-heJNo3GG"
      },
      "source": [
        "### Preprocessing the Training set (Transformation)"
      ]
    },
    {
      "cell_type": "code",
      "execution_count": 4,
      "metadata": {
        "id": "wTCcp1b_qKLK"
      },
      "outputs": [],
      "source": [
        "train_datagen = ImageDataGenerator (\n",
        "    rescale=1./255,\n",
        "    shear_range=0.2,\n",
        "    zoom_range=0.2,\n",
        "    horizontal_flip=True\n",
        ")"
      ]
    },
    {
      "cell_type": "code",
      "execution_count": 5,
      "metadata": {
        "colab": {
          "base_uri": "https://localhost:8080/"
        },
        "id": "FrUs7rW2qKLK",
        "outputId": "c7c73202-29aa-4826-b998-df8797f352dc"
      },
      "outputs": [
        {
          "output_type": "stream",
          "name": "stdout",
          "text": [
            "Found 8026 images belonging to 2 classes.\n"
          ]
        }
      ],
      "source": [
        "training_set = train_datagen.flow_from_directory(\n",
        "    '/content/drive/MyDrive/dataset/training_set',\n",
        "    target_size=(64,64),\n",
        "    batch_size=32,\n",
        "    class_mode='binary'\n",
        ")"
      ]
    },
    {
      "cell_type": "markdown",
      "metadata": {
        "id": "mrCMmGw9pHys"
      },
      "source": [
        "### Preprocessing the Test set"
      ]
    },
    {
      "cell_type": "code",
      "execution_count": 6,
      "metadata": {
        "colab": {
          "base_uri": "https://localhost:8080/"
        },
        "id": "uv8ZDT34qKLM",
        "outputId": "7768358e-ddac-415b-8540-c0cef4d20e0e"
      },
      "outputs": [
        {
          "output_type": "stream",
          "name": "stdout",
          "text": [
            "Found 2000 images belonging to 2 classes.\n"
          ]
        }
      ],
      "source": [
        "test_datagen=ImageDataGenerator(rescale=1./255)\n",
        "test_set=test_datagen.flow_from_directory(\n",
        "    '/content/drive/MyDrive/dataset/test_set',\n",
        "    target_size=(64,64),\n",
        "    batch_size=32,\n",
        "    class_mode='binary'\n",
        ")"
      ]
    },
    {
      "cell_type": "markdown",
      "metadata": {
        "id": "af8O4l90gk7B"
      },
      "source": [
        "## Part 2 - Building the CNN"
      ]
    },
    {
      "cell_type": "markdown",
      "metadata": {
        "id": "ces1gXY2lmoX"
      },
      "source": [
        "### Initialising the CNN"
      ]
    },
    {
      "cell_type": "code",
      "execution_count": 7,
      "metadata": {
        "id": "5EKZASSrqKLO"
      },
      "outputs": [],
      "source": [
        "cnn=tf.keras.models.Sequential()"
      ]
    },
    {
      "cell_type": "markdown",
      "metadata": {
        "id": "u5YJj_XMl5LF"
      },
      "source": [
        "### Step 1 - Convolution"
      ]
    },
    {
      "cell_type": "code",
      "execution_count": 8,
      "metadata": {
        "id": "Q5OTJaf3qKLO"
      },
      "outputs": [],
      "source": [
        "cnn.add(tf.keras.layers.Conv2D(filters=32, kernel_size=3,activation='relu',input_shape=[64,64,3]))"
      ]
    },
    {
      "cell_type": "markdown",
      "metadata": {
        "id": "tf87FpvxmNOJ"
      },
      "source": [
        "### Step 2 - Pooling"
      ]
    },
    {
      "cell_type": "code",
      "execution_count": 9,
      "metadata": {
        "id": "O2TrE_2gqKLP"
      },
      "outputs": [],
      "source": [
        "cnn.add(tf.keras.layers.MaxPool2D(pool_size=2,strides=2))"
      ]
    },
    {
      "cell_type": "markdown",
      "metadata": {
        "id": "xaTOgD8rm4mU"
      },
      "source": [
        "### Adding a second convolutional layer"
      ]
    },
    {
      "cell_type": "code",
      "execution_count": 10,
      "metadata": {
        "id": "XmcrkPQoqKLQ"
      },
      "outputs": [],
      "source": [
        "cnn.add(tf.keras.layers.Conv2D(filters=32, kernel_size=3,activation='relu'))\n",
        "cnn.add(tf.keras.layers.MaxPool2D(pool_size=2,strides=2))"
      ]
    },
    {
      "cell_type": "markdown",
      "metadata": {
        "id": "tmiEuvTunKfk"
      },
      "source": [
        "### Step 3 - Flattening"
      ]
    },
    {
      "cell_type": "code",
      "execution_count": 11,
      "metadata": {
        "id": "Orj-SQ5AqKLR"
      },
      "outputs": [],
      "source": [
        "cnn.add(tf.keras.layers.Flatten())"
      ]
    },
    {
      "cell_type": "markdown",
      "metadata": {
        "id": "dAoSECOm203v"
      },
      "source": [
        "### Step 4 - Full Connection"
      ]
    },
    {
      "cell_type": "code",
      "execution_count": 12,
      "metadata": {
        "id": "A-7B-bEgqKLR"
      },
      "outputs": [],
      "source": [
        "cnn.add(tf.keras.layers.Dense(units=128,activation='relu'))"
      ]
    },
    {
      "cell_type": "markdown",
      "metadata": {
        "id": "yTldFvbX28Na"
      },
      "source": [
        "### Step 5 - Output Layer"
      ]
    },
    {
      "cell_type": "code",
      "execution_count": 13,
      "metadata": {
        "id": "58xJI-PKqKLS"
      },
      "outputs": [],
      "source": [
        "cnn.add(tf.keras.layers.Dense(units=1,activation='sigmoid'))"
      ]
    },
    {
      "cell_type": "markdown",
      "metadata": {
        "id": "D6XkI90snSDl"
      },
      "source": [
        "## Part 3 - Training the CNN"
      ]
    },
    {
      "cell_type": "markdown",
      "metadata": {
        "id": "vfrFQACEnc6i"
      },
      "source": [
        "### Compiling the CNN"
      ]
    },
    {
      "cell_type": "code",
      "execution_count": 14,
      "metadata": {
        "id": "KUVhojdKqKLS"
      },
      "outputs": [],
      "source": [
        "cnn.compile(optimizer='adam',loss='binary_crossentropy',metrics=['accuracy'])"
      ]
    },
    {
      "cell_type": "markdown",
      "metadata": {
        "id": "ehS-v3MIpX2h"
      },
      "source": [
        "### Training the CNN on the Training set and evaluating it on the Test set"
      ]
    },
    {
      "cell_type": "code",
      "execution_count": 15,
      "metadata": {
        "scrolled": true,
        "colab": {
          "base_uri": "https://localhost:8080/"
        },
        "id": "ogLcg0t4qKLT",
        "outputId": "6ebecfb0-bf10-4cf0-e7fb-950c61ac7a6e"
      },
      "outputs": [
        {
          "output_type": "stream",
          "name": "stdout",
          "text": [
            "Epoch 1/25\n",
            "251/251 [==============================] - 99s 380ms/step - loss: 0.6681 - accuracy: 0.5924 - val_loss: 0.6381 - val_accuracy: 0.6635\n",
            "Epoch 2/25\n",
            "251/251 [==============================] - 43s 173ms/step - loss: 0.6162 - accuracy: 0.6699 - val_loss: 0.6148 - val_accuracy: 0.6615\n",
            "Epoch 3/25\n",
            "251/251 [==============================] - 44s 176ms/step - loss: 0.5685 - accuracy: 0.7017 - val_loss: 0.5333 - val_accuracy: 0.7340\n",
            "Epoch 4/25\n",
            "251/251 [==============================] - 43s 172ms/step - loss: 0.5292 - accuracy: 0.7324 - val_loss: 0.6073 - val_accuracy: 0.6995\n",
            "Epoch 5/25\n",
            "251/251 [==============================] - 43s 173ms/step - loss: 0.5001 - accuracy: 0.7577 - val_loss: 0.5313 - val_accuracy: 0.7460\n",
            "Epoch 6/25\n",
            "251/251 [==============================] - 43s 171ms/step - loss: 0.4920 - accuracy: 0.7599 - val_loss: 0.4994 - val_accuracy: 0.7630\n",
            "Epoch 7/25\n",
            "251/251 [==============================] - 43s 171ms/step - loss: 0.4637 - accuracy: 0.7786 - val_loss: 0.5594 - val_accuracy: 0.7115\n",
            "Epoch 8/25\n",
            "251/251 [==============================] - 43s 171ms/step - loss: 0.4523 - accuracy: 0.7831 - val_loss: 0.4714 - val_accuracy: 0.7890\n",
            "Epoch 9/25\n",
            "251/251 [==============================] - 43s 171ms/step - loss: 0.4336 - accuracy: 0.7965 - val_loss: 0.4624 - val_accuracy: 0.7960\n",
            "Epoch 10/25\n",
            "251/251 [==============================] - 43s 171ms/step - loss: 0.4009 - accuracy: 0.8175 - val_loss: 0.5851 - val_accuracy: 0.7265\n",
            "Epoch 11/25\n",
            "251/251 [==============================] - 43s 171ms/step - loss: 0.3880 - accuracy: 0.8217 - val_loss: 0.4769 - val_accuracy: 0.7820\n",
            "Epoch 12/25\n",
            "251/251 [==============================] - 44s 177ms/step - loss: 0.3772 - accuracy: 0.8289 - val_loss: 0.4507 - val_accuracy: 0.7930\n",
            "Epoch 13/25\n",
            "251/251 [==============================] - 43s 171ms/step - loss: 0.3557 - accuracy: 0.8425 - val_loss: 0.4604 - val_accuracy: 0.7950\n",
            "Epoch 14/25\n",
            "251/251 [==============================] - 43s 170ms/step - loss: 0.3467 - accuracy: 0.8502 - val_loss: 0.4742 - val_accuracy: 0.8035\n",
            "Epoch 15/25\n",
            "251/251 [==============================] - 43s 170ms/step - loss: 0.3258 - accuracy: 0.8618 - val_loss: 0.4620 - val_accuracy: 0.7985\n",
            "Epoch 16/25\n",
            "251/251 [==============================] - 42s 169ms/step - loss: 0.3100 - accuracy: 0.8639 - val_loss: 0.5227 - val_accuracy: 0.7800\n",
            "Epoch 17/25\n",
            "251/251 [==============================] - 42s 168ms/step - loss: 0.2994 - accuracy: 0.8669 - val_loss: 0.4698 - val_accuracy: 0.8030\n",
            "Epoch 18/25\n",
            "251/251 [==============================] - 42s 169ms/step - loss: 0.2767 - accuracy: 0.8843 - val_loss: 0.5015 - val_accuracy: 0.7945\n",
            "Epoch 19/25\n",
            "251/251 [==============================] - 43s 171ms/step - loss: 0.2732 - accuracy: 0.8871 - val_loss: 0.5117 - val_accuracy: 0.8025\n",
            "Epoch 20/25\n",
            "251/251 [==============================] - 43s 172ms/step - loss: 0.2446 - accuracy: 0.9009 - val_loss: 0.5044 - val_accuracy: 0.8050\n",
            "Epoch 21/25\n",
            "251/251 [==============================] - 44s 174ms/step - loss: 0.2346 - accuracy: 0.9012 - val_loss: 0.5191 - val_accuracy: 0.8030\n",
            "Epoch 22/25\n",
            "251/251 [==============================] - 42s 169ms/step - loss: 0.2246 - accuracy: 0.9071 - val_loss: 0.5763 - val_accuracy: 0.8020\n",
            "Epoch 23/25\n",
            "251/251 [==============================] - 42s 168ms/step - loss: 0.2109 - accuracy: 0.9107 - val_loss: 0.5199 - val_accuracy: 0.8100\n",
            "Epoch 24/25\n",
            "251/251 [==============================] - 42s 167ms/step - loss: 0.1941 - accuracy: 0.9242 - val_loss: 0.6356 - val_accuracy: 0.7925\n",
            "Epoch 25/25\n",
            "251/251 [==============================] - 42s 168ms/step - loss: 0.1837 - accuracy: 0.9259 - val_loss: 0.8075 - val_accuracy: 0.7600\n"
          ]
        },
        {
          "output_type": "execute_result",
          "data": {
            "text/plain": [
              "<keras.callbacks.History at 0x7fa1330c1690>"
            ]
          },
          "metadata": {},
          "execution_count": 15
        }
      ],
      "source": [
        "cnn.fit(x=training_set,validation_data=test_set,epochs=25)"
      ]
    },
    {
      "cell_type": "markdown",
      "metadata": {
        "id": "U3PZasO0006Z"
      },
      "source": [
        "## Part 4 - Making a single prediction"
      ]
    },
    {
      "cell_type": "code",
      "execution_count": 31,
      "metadata": {
        "id": "2juFTZkPqKLT"
      },
      "outputs": [],
      "source": [
        "import numpy as np\n",
        "from keras.preprocessing import image\n",
        "test_image= image.load_img('/content/drive/MyDrive/dataset/test_set/dogs/dog.4001.jpg',target_size=(64,64))\n",
        "test_image=image.img_to_array(test_image)\n",
        "test_image=np.expand_dims(test_image,axis=0)\n",
        "result=cnn.predict(test_image)\n",
        "training_set.class_indices\n",
        "if result[0][0] == 1:\n",
        "    prediction='Dog'\n",
        "else:\n",
        "    prediction='Cat'"
      ]
    },
    {
      "cell_type": "code",
      "source": [
        "prediction"
      ],
      "metadata": {
        "colab": {
          "base_uri": "https://localhost:8080/",
          "height": 36
        },
        "id": "5bmskFA3NJqI",
        "outputId": "7c1b2e50-5f7a-49dc-a27b-f103318a5e0d"
      },
      "execution_count": 32,
      "outputs": [
        {
          "output_type": "execute_result",
          "data": {
            "text/plain": [
              "'Dog'"
            ],
            "application/vnd.google.colaboratory.intrinsic+json": {
              "type": "string"
            }
          },
          "metadata": {},
          "execution_count": 32
        }
      ]
    }
  ],
  "metadata": {
    "colab": {
      "collapsed_sections": [],
      "name": "convolutional_neural_network.ipynb",
      "provenance": []
    },
    "kernelspec": {
      "display_name": "Python 3",
      "language": "python",
      "name": "python3"
    },
    "language_info": {
      "codemirror_mode": {
        "name": "ipython",
        "version": 3
      },
      "file_extension": ".py",
      "mimetype": "text/x-python",
      "name": "python",
      "nbconvert_exporter": "python",
      "pygments_lexer": "ipython3",
      "version": "3.8.8"
    },
    "accelerator": "GPU",
    "gpuClass": "standard"
  },
  "nbformat": 4,
  "nbformat_minor": 0
}